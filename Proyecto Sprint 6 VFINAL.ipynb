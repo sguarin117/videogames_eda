{
 "cells": [
  {
   "cell_type": "markdown",
   "id": "15b8b233",
   "metadata": {},
   "source": [
    "# Hola Sebastian! <a class=\"tocSkip\"></a>\n",
    "\n",
    "Mi nombre es Oscar Flores y tengo el gusto de revisar tu proyecto. Si tienes algún comentario que quieras agregar en tus respuestas te puedes referir a mi como Oscar, no hay problema que me trates de tú.\n",
    "\n",
    "Si veo un error en la primera revisión solamente lo señalaré y dejaré que tú encuentres de qué se trata y cómo arreglarlo. Debo prepararte para que te desempeñes como especialista en Data, en un trabajo real, el responsable a cargo tuyo hará lo mismo. Si aún tienes dificultades para resolver esta tarea, te daré indicaciones más precisas en una siguiente iteración.\n",
    "\n",
    "Te dejaré mis comentarios más abajo - **por favor, no los muevas, modifiques o borres**\n",
    "\n",
    "Comenzaré mis comentarios con un resumen de los puntos que están bien, aquellos que debes corregir y aquellos que puedes mejorar. Luego deberás revisar todo el notebook para leer mis comentarios, los cuales estarán en rectángulos de color verde, amarillo o rojo como siguen:\n",
    "\n",
    "<div class=\"alert alert-block alert-success\">\n",
    "<b>Comentario de Reviewer</b> <a class=\"tocSkip\"></a>\n",
    "    \n",
    "Muy bien! Toda la respuesta fue lograda satisfactoriamente.\n",
    "</div>\n",
    "\n",
    "<div class=\"alert alert-block alert-warning\">\n",
    "<b>Comentario de Reviewer</b> <a class=\"tocSkip\"></a>\n",
    "\n",
    "Existen detalles a mejorar. Existen recomendaciones.\n",
    "</div>\n",
    "\n",
    "<div class=\"alert alert-block alert-danger\">\n",
    "\n",
    "<b>Comentario de Reviewer</b> <a class=\"tocSkip\"></a>\n",
    "\n",
    "Se necesitan correcciones en el bloque. El trabajo no puede ser aceptado con comentarios en rojo sin solucionar.\n",
    "</div>\n",
    "\n",
    "Cualquier comentario que quieras agregar entre iteraciones de revisión lo puedes hacer de la siguiente manera:\n",
    "\n",
    "<div class=\"alert alert-block alert-info\">\n",
    "<b>Respuesta estudiante.</b> <a class=\"tocSkip\"></a>\n",
    "</div>\n",
    "\n",
    "Mucho éxito en el proyecto!"
   ]
  },
  {
   "cell_type": "markdown",
   "id": "b9ea86c1",
   "metadata": {},
   "source": [
    "## Resumen de la revisión 1 <a class=\"tocSkip\"></a>"
   ]
  },
  {
   "cell_type": "markdown",
   "id": "08a1f060",
   "metadata": {},
   "source": [
    "<div class=\"alert alert-block alert-danger\">\n",
    "<b>Comentario de Revisor</b> <a class=\"tocSkip\"></a>\n",
    "\n",
    "Buen trabajo Sebastian. En general tu notebook está correcto, pero hay algunas modificaciones y correcciones que debes hacer antes de tener el notebook completo y sin errores. Te dejé indicaciones de cómo corregirlos, revísalas y realiza las modificaciones necesarias.\n",
    "    \n",
    "Saludos!    \n",
    "\n",
    "</div>"
   ]
  },
  {
   "cell_type": "markdown",
   "id": "4bd45ff1",
   "metadata": {},
   "source": [
    "## Resumen de la revisión 2 <a class=\"tocSkip\"></a>"
   ]
  },
  {
   "cell_type": "markdown",
   "id": "873cc5e7",
   "metadata": {},
   "source": [
    "<div class=\"alert alert-block alert-success\">\n",
    "<b>Comentario de Revisor v2</b> <a class=\"tocSkip\"></a>\n",
    "\n",
    "Bien hecho Sebastian, has completado correctamente todo lo necesario del notebook. No tengo comentarios de corrección adicionales, está aprobado.\n",
    "\n",
    "Saludos!\n",
    "\n",
    "</div>"
   ]
  },
  {
   "cell_type": "markdown",
   "id": "cb0ffc5e",
   "metadata": {},
   "source": [
    "----"
   ]
  },
  {
   "cell_type": "markdown",
   "id": "969be3a4-fc64-4db1-b7c9-651d0e86b155",
   "metadata": {},
   "source": [
    "# Proyecto data Analytics"
   ]
  },
  {
   "cell_type": "markdown",
   "id": "f4ade560",
   "metadata": {},
   "source": [
    "# Introducción\n",
    "\n",
    "Trabajas para la tienda online Ice que vende videojuegos por todo el mundo. Las reseñas de usuarios y expertos, los géneros, las plataformas (por ejemplo, Xbox o PlayStation) y los datos históricos sobre las ventas de juegos están disponibles en fuentes abiertas. Tienes que identificar patrones que determinen si un juego tiene éxito o no. Esto te permitirá detectar proyectos prometedores y planificar campañas publicitarias.\n",
    "\n",
    "Delante de ti hay datos que se remontan a 2016. Imaginemos que es diciembre de 2016 y estás planeando una campaña para 2017.\n",
    "\n",
    "Lo importante es adquirir experiencia de trabajo con datos. Realmente no importa si estás pronosticando las ventas de 2017 en función de los datos de 2016 o las ventas de 2027 en función de los datos de 2026.\n",
    "\n",
    "El dataset contiene una columna \"rating\" que almacena la clasificación ESRB de cada juego. El Entertainment Software Rating Board (la Junta de clasificación de software de entretenimiento) evalúa el contenido de un juego y asigna una clasificación de edad como Adolescente o Adulto."
   ]
  },
  {
   "cell_type": "markdown",
   "id": "b508c7db",
   "metadata": {},
   "source": [
    "# Paso 0: Importe de librerías"
   ]
  },
  {
   "cell_type": "code",
   "execution_count": 1,
   "id": "19c32cca-c00d-4a92-8a98-fd904139de51",
   "metadata": {},
   "outputs": [],
   "source": [
    "# Cargar todas las librerías\n",
    "\n",
    "# Importar pandas\n",
    "import pandas as pd\n",
    "\n",
    "# Importar Mathplotlib\n",
    "import matplotlib.pyplot as plt\n",
    "\n",
    "# Importar numpy\n",
    "import numpy as np\n",
    "\n",
    "# Importar stats\n",
    "from scipy import stats as st\n",
    "\n",
    "# Importar Seaborn\n",
    "import seaborn as sns"
   ]
  },
  {
   "cell_type": "markdown",
   "id": "b32f5ac4",
   "metadata": {},
   "source": [
    "## Paso 1. Abre el archivo de datos y estudia la información general"
   ]
  },
  {
   "cell_type": "markdown",
   "id": "4cda6917",
   "metadata": {},
   "source": [
    "Vamos a cargar nuestro dataset"
   ]
  },
  {
   "cell_type": "code",
   "execution_count": 2,
   "id": "17841a89-8cd7-4096-9393-8544d1ac6751",
   "metadata": {},
   "outputs": [],
   "source": [
    "df = pd.read_csv('/datasets/games.csv')"
   ]
  },
  {
   "cell_type": "markdown",
   "id": "719ac329",
   "metadata": {},
   "source": [
    "Vamos a validar nuestro dataset"
   ]
  },
  {
   "cell_type": "code",
   "execution_count": 3,
   "id": "14a9e55b-b137-4471-a93f-1c1aae35c828",
   "metadata": {
    "scrolled": true
   },
   "outputs": [
    {
     "data": {
      "text/html": [
       "<div>\n",
       "<style scoped>\n",
       "    .dataframe tbody tr th:only-of-type {\n",
       "        vertical-align: middle;\n",
       "    }\n",
       "\n",
       "    .dataframe tbody tr th {\n",
       "        vertical-align: top;\n",
       "    }\n",
       "\n",
       "    .dataframe thead th {\n",
       "        text-align: right;\n",
       "    }\n",
       "</style>\n",
       "<table border=\"1\" class=\"dataframe\">\n",
       "  <thead>\n",
       "    <tr style=\"text-align: right;\">\n",
       "      <th></th>\n",
       "      <th>Name</th>\n",
       "      <th>Platform</th>\n",
       "      <th>Year_of_Release</th>\n",
       "      <th>Genre</th>\n",
       "      <th>NA_sales</th>\n",
       "      <th>EU_sales</th>\n",
       "      <th>JP_sales</th>\n",
       "      <th>Other_sales</th>\n",
       "      <th>Critic_Score</th>\n",
       "      <th>User_Score</th>\n",
       "      <th>Rating</th>\n",
       "    </tr>\n",
       "  </thead>\n",
       "  <tbody>\n",
       "    <tr>\n",
       "      <th>0</th>\n",
       "      <td>Wii Sports</td>\n",
       "      <td>Wii</td>\n",
       "      <td>2006.0</td>\n",
       "      <td>Sports</td>\n",
       "      <td>41.36</td>\n",
       "      <td>28.96</td>\n",
       "      <td>3.77</td>\n",
       "      <td>8.45</td>\n",
       "      <td>76.0</td>\n",
       "      <td>8</td>\n",
       "      <td>E</td>\n",
       "    </tr>\n",
       "    <tr>\n",
       "      <th>1</th>\n",
       "      <td>Super Mario Bros.</td>\n",
       "      <td>NES</td>\n",
       "      <td>1985.0</td>\n",
       "      <td>Platform</td>\n",
       "      <td>29.08</td>\n",
       "      <td>3.58</td>\n",
       "      <td>6.81</td>\n",
       "      <td>0.77</td>\n",
       "      <td>NaN</td>\n",
       "      <td>NaN</td>\n",
       "      <td>NaN</td>\n",
       "    </tr>\n",
       "    <tr>\n",
       "      <th>2</th>\n",
       "      <td>Mario Kart Wii</td>\n",
       "      <td>Wii</td>\n",
       "      <td>2008.0</td>\n",
       "      <td>Racing</td>\n",
       "      <td>15.68</td>\n",
       "      <td>12.76</td>\n",
       "      <td>3.79</td>\n",
       "      <td>3.29</td>\n",
       "      <td>82.0</td>\n",
       "      <td>8.3</td>\n",
       "      <td>E</td>\n",
       "    </tr>\n",
       "    <tr>\n",
       "      <th>3</th>\n",
       "      <td>Wii Sports Resort</td>\n",
       "      <td>Wii</td>\n",
       "      <td>2009.0</td>\n",
       "      <td>Sports</td>\n",
       "      <td>15.61</td>\n",
       "      <td>10.93</td>\n",
       "      <td>3.28</td>\n",
       "      <td>2.95</td>\n",
       "      <td>80.0</td>\n",
       "      <td>8</td>\n",
       "      <td>E</td>\n",
       "    </tr>\n",
       "    <tr>\n",
       "      <th>4</th>\n",
       "      <td>Pokemon Red/Pokemon Blue</td>\n",
       "      <td>GB</td>\n",
       "      <td>1996.0</td>\n",
       "      <td>Role-Playing</td>\n",
       "      <td>11.27</td>\n",
       "      <td>8.89</td>\n",
       "      <td>10.22</td>\n",
       "      <td>1.00</td>\n",
       "      <td>NaN</td>\n",
       "      <td>NaN</td>\n",
       "      <td>NaN</td>\n",
       "    </tr>\n",
       "  </tbody>\n",
       "</table>\n",
       "</div>"
      ],
      "text/plain": [
       "                       Name Platform  Year_of_Release         Genre  NA_sales  \\\n",
       "0                Wii Sports      Wii           2006.0        Sports     41.36   \n",
       "1         Super Mario Bros.      NES           1985.0      Platform     29.08   \n",
       "2            Mario Kart Wii      Wii           2008.0        Racing     15.68   \n",
       "3         Wii Sports Resort      Wii           2009.0        Sports     15.61   \n",
       "4  Pokemon Red/Pokemon Blue       GB           1996.0  Role-Playing     11.27   \n",
       "\n",
       "   EU_sales  JP_sales  Other_sales  Critic_Score User_Score Rating  \n",
       "0     28.96      3.77         8.45          76.0          8      E  \n",
       "1      3.58      6.81         0.77           NaN        NaN    NaN  \n",
       "2     12.76      3.79         3.29          82.0        8.3      E  \n",
       "3     10.93      3.28         2.95          80.0          8      E  \n",
       "4      8.89     10.22         1.00           NaN        NaN    NaN  "
      ]
     },
     "execution_count": 3,
     "metadata": {},
     "output_type": "execute_result"
    }
   ],
   "source": [
    "# Aprender sobre los primeros 5 datos del DataFrame\n",
    "df.head()"
   ]
  },
  {
   "cell_type": "code",
   "execution_count": 4,
   "id": "9d25e245",
   "metadata": {},
   "outputs": [
    {
     "name": "stdout",
     "output_type": "stream",
     "text": [
      "<class 'pandas.core.frame.DataFrame'>\n",
      "RangeIndex: 16715 entries, 0 to 16714\n",
      "Data columns (total 11 columns):\n",
      " #   Column           Non-Null Count  Dtype  \n",
      "---  ------           --------------  -----  \n",
      " 0   Name             16713 non-null  object \n",
      " 1   Platform         16715 non-null  object \n",
      " 2   Year_of_Release  16446 non-null  float64\n",
      " 3   Genre            16713 non-null  object \n",
      " 4   NA_sales         16715 non-null  float64\n",
      " 5   EU_sales         16715 non-null  float64\n",
      " 6   JP_sales         16715 non-null  float64\n",
      " 7   Other_sales      16715 non-null  float64\n",
      " 8   Critic_Score     8137 non-null   float64\n",
      " 9   User_Score       10014 non-null  object \n",
      " 10  Rating           9949 non-null   object \n",
      "dtypes: float64(6), object(5)\n",
      "memory usage: 1.4+ MB\n"
     ]
    }
   ],
   "source": [
    "# Aprender sobre la información general del Dataframe\n",
    "df.info()"
   ]
  },
  {
   "cell_type": "markdown",
   "id": "ed91b861",
   "metadata": {},
   "source": [
    "<div class=\"alert alert-block alert-success\">\n",
    "<b>Comentario de Revisor</b> <a class=\"tocSkip\"></a>\n",
    "\n",
    "Ok, bien con mostrar la data al inicio\n",
    "\n",
    "</div>"
   ]
  },
  {
   "cell_type": "markdown",
   "id": "dd2ae25a-e7e6-4905-a97c-aeb50db6f6ec",
   "metadata": {},
   "source": [
    "## Paso 2. Prepara los datos"
   ]
  },
  {
   "cell_type": "markdown",
   "id": "b876bc9f",
   "metadata": {},
   "source": [
    "### Reemplazar los nombres de las columnas (ponerlos en minúsculas)."
   ]
  },
  {
   "cell_type": "code",
   "execution_count": 5,
   "id": "187fa2b7-61dd-406f-a95f-d06f06c6e581",
   "metadata": {},
   "outputs": [
    {
     "data": {
      "text/plain": [
       "Index(['name', 'platform', 'year_of_release', 'genre', 'na_sales', 'eu_sales',\n",
       "       'jp_sales', 'other_sales', 'critic_score', 'user_score', 'rating'],\n",
       "      dtype='object')"
      ]
     },
     "execution_count": 5,
     "metadata": {},
     "output_type": "execute_result"
    }
   ],
   "source": [
    "# Poner los nombres de las columnas en minúsculas\n",
    "df.columns = df.columns.str.lower()\n",
    "df.columns"
   ]
  },
  {
   "cell_type": "markdown",
   "id": "e722444c",
   "metadata": {},
   "source": [
    "<div class=\"alert alert-block alert-success\">\n",
    "<b>Comentario de Revisor</b> <a class=\"tocSkip\"></a>\n",
    "\n",
    "Se aprecia el uso de snakecase\n",
    "\n",
    "</div>"
   ]
  },
  {
   "cell_type": "markdown",
   "id": "c7cac254",
   "metadata": {},
   "source": [
    "### Convertir los datos en los tipos necesarios."
   ]
  },
  {
   "cell_type": "code",
   "execution_count": 6,
   "id": "2606055f",
   "metadata": {},
   "outputs": [
    {
     "name": "stdout",
     "output_type": "stream",
     "text": [
      "269\n"
     ]
    }
   ],
   "source": [
    "# Verificar si la columna del año de lanzamiento contiene valores nulos\n",
    "print(df['year_of_release'].isna().sum())"
   ]
  },
  {
   "cell_type": "code",
   "execution_count": 7,
   "id": "9dd92ff1",
   "metadata": {},
   "outputs": [
    {
     "data": {
      "text/plain": [
       "16715"
      ]
     },
     "execution_count": 7,
     "metadata": {},
     "output_type": "execute_result"
    }
   ],
   "source": [
    "len(df)"
   ]
  },
  {
   "cell_type": "code",
   "execution_count": 8,
   "id": "26b409c2",
   "metadata": {},
   "outputs": [
    {
     "name": "stdout",
     "output_type": "stream",
     "text": [
      "2006.4846163200777\n"
     ]
    }
   ],
   "source": [
    "# Calcular la media de Year of Release\n",
    "print(df['year_of_release'].mean())"
   ]
  },
  {
   "cell_type": "code",
   "execution_count": 9,
   "id": "7d8f0fb2-50e2-432d-8cf0-c153ebb33c05",
   "metadata": {},
   "outputs": [
    {
     "data": {
      "text/plain": [
       "0"
      ]
     },
     "execution_count": 9,
     "metadata": {},
     "output_type": "execute_result"
    }
   ],
   "source": [
    "# Rellenar los valores vacíos en Year of Release con menos uno\n",
    "df['year_of_release'] = df['year_of_release'].fillna(-1)\n",
    "df['year_of_release'].isna().sum()"
   ]
  },
  {
   "cell_type": "code",
   "execution_count": 10,
   "id": "38822e7d",
   "metadata": {},
   "outputs": [
    {
     "data": {
      "text/plain": [
       "0    2006\n",
       "1    1985\n",
       "2    2008\n",
       "3    2009\n",
       "4    1996\n",
       "Name: year_of_release, dtype: int64"
      ]
     },
     "execution_count": 10,
     "metadata": {},
     "output_type": "execute_result"
    }
   ],
   "source": [
    "# Convertir la columna Year of Release a entera\n",
    "df['year_of_release'] = df['year_of_release'].astype(int)\n",
    "df['year_of_release'].head()"
   ]
  },
  {
   "cell_type": "code",
   "execution_count": 11,
   "id": "c0b4ea90",
   "metadata": {},
   "outputs": [
    {
     "name": "stdout",
     "output_type": "stream",
     "text": [
      "La columna name tiene 2 valores ausentes\n",
      "La columna platform tiene 0 valores ausentes\n",
      "La columna year_of_release tiene 0 valores ausentes\n",
      "La columna genre tiene 2 valores ausentes\n",
      "La columna na_sales tiene 0 valores ausentes\n",
      "La columna eu_sales tiene 0 valores ausentes\n",
      "La columna jp_sales tiene 0 valores ausentes\n",
      "La columna other_sales tiene 0 valores ausentes\n",
      "La columna critic_score tiene 8578 valores ausentes\n",
      "La columna user_score tiene 6701 valores ausentes\n",
      "La columna rating tiene 6766 valores ausentes\n"
     ]
    }
   ],
   "source": [
    "# Verifica cuantos valores ausentes tiene cada columna\n",
    "for name in df.columns:\n",
    "    valores_ausentes = df[name].isna().sum()\n",
    "    print('La columna', name, 'tiene', valores_ausentes, 'valores ausentes')"
   ]
  },
  {
   "cell_type": "markdown",
   "id": "19002825",
   "metadata": {},
   "source": [
    "<div class=\"alert alert-block alert-success\">\n",
    "<b>Comentario de Revisor</b> <a class=\"tocSkip\"></a>\n",
    "\n",
    "Ok, bien con el conteo de ausentes\n",
    "\n",
    "</div>"
   ]
  },
  {
   "cell_type": "markdown",
   "id": "41538ad9",
   "metadata": {},
   "source": [
    "### Describe las columnas en las que los tipos de datos han sido cambiados y explica por qué."
   ]
  },
  {
   "cell_type": "markdown",
   "id": "ebc17890",
   "metadata": {},
   "source": [
    "Se convierte la fila Year of Release al tipo entero pues no puede haber años que contengan decimales. Para poder realizar este paso, el método no permite que hayan valores vacíos, por lo cuál se procede a rellenar dichos valores vacíos con menos uno (-1). No se rellenan con la media ni la mediana, pues la media de los datos es 2006 y al ponerla se puede concluir erroneamente que ese año hubo muchas más ventas de las que realmente hubo."
   ]
  },
  {
   "cell_type": "markdown",
   "id": "2e361c40",
   "metadata": {},
   "source": [
    "### Tratar los valores ausentes"
   ]
  },
  {
   "cell_type": "code",
   "execution_count": 12,
   "id": "d81779b9",
   "metadata": {},
   "outputs": [
    {
     "data": {
      "text/plain": [
       "array([76., nan, 82., 80., 89., 58., 87., 91., 61., 97., 95., 77., 88.,\n",
       "       83., 94., 93., 85., 86., 98., 96., 90., 84., 73., 74., 78., 92.,\n",
       "       71., 72., 68., 62., 49., 67., 81., 66., 56., 79., 70., 59., 64.,\n",
       "       75., 60., 63., 69., 50., 25., 42., 44., 55., 48., 57., 29., 47.,\n",
       "       65., 54., 20., 53., 37., 38., 33., 52., 30., 32., 43., 45., 51.,\n",
       "       40., 46., 39., 34., 35., 41., 36., 28., 31., 27., 26., 19., 23.,\n",
       "       24., 21., 17., 22., 13.])"
      ]
     },
     "execution_count": 12,
     "metadata": {},
     "output_type": "execute_result"
    }
   ],
   "source": [
    "df['critic_score'].unique()"
   ]
  },
  {
   "cell_type": "code",
   "execution_count": 13,
   "id": "b18e2acf",
   "metadata": {},
   "outputs": [
    {
     "data": {
      "text/plain": [
       "array(['8', nan, '8.3', '8.5', '6.6', '8.4', '8.6', '7.7', '6.3', '7.4',\n",
       "       '8.2', '9', '7.9', '8.1', '8.7', '7.1', '3.4', '5.3', '4.8', '3.2',\n",
       "       '8.9', '6.4', '7.8', '7.5', '2.6', '7.2', '9.2', '7', '7.3', '4.3',\n",
       "       '7.6', '5.7', '5', '9.1', '6.5', 'tbd', '8.8', '6.9', '9.4', '6.8',\n",
       "       '6.1', '6.7', '5.4', '4', '4.9', '4.5', '9.3', '6.2', '4.2', '6',\n",
       "       '3.7', '4.1', '5.8', '5.6', '5.5', '4.4', '4.6', '5.9', '3.9',\n",
       "       '3.1', '2.9', '5.2', '3.3', '4.7', '5.1', '3.5', '2.5', '1.9', '3',\n",
       "       '2.7', '2.2', '2', '9.5', '2.1', '3.6', '2.8', '1.8', '3.8', '0',\n",
       "       '1.6', '9.6', '2.4', '1.7', '1.1', '0.3', '1.5', '0.7', '1.2',\n",
       "       '2.3', '0.5', '1.3', '0.2', '0.6', '1.4', '0.9', '1', '9.7'],\n",
       "      dtype=object)"
      ]
     },
     "execution_count": 13,
     "metadata": {},
     "output_type": "execute_result"
    }
   ],
   "source": [
    "df['user_score'].unique()"
   ]
  },
  {
   "cell_type": "code",
   "execution_count": 14,
   "id": "d904d4ac",
   "metadata": {},
   "outputs": [
    {
     "data": {
      "text/plain": [
       "array(['E', nan, 'M', 'T', 'E10+', 'K-A', 'AO', 'EC', 'RP'], dtype=object)"
      ]
     },
     "execution_count": 14,
     "metadata": {},
     "output_type": "execute_result"
    }
   ],
   "source": [
    "df['rating'].unique()"
   ]
  },
  {
   "cell_type": "code",
   "execution_count": 15,
   "id": "408b9b62",
   "metadata": {},
   "outputs": [],
   "source": [
    "# Rellenar los valores vacíos en critic score con menos uno\n",
    "df['critic_score'] = df['critic_score'].fillna(-1)"
   ]
  },
  {
   "cell_type": "code",
   "execution_count": 16,
   "id": "ab3f081d",
   "metadata": {},
   "outputs": [],
   "source": [
    "# Rellenar los valores vacíos en user score con menos uno\n",
    "df['user_score'] = df['user_score'].fillna(-1)"
   ]
  },
  {
   "cell_type": "code",
   "execution_count": 17,
   "id": "d4835a8d",
   "metadata": {},
   "outputs": [],
   "source": [
    "# Rellenar los valores vacíos en rating con RP (Rating Pending)\n",
    "df['rating'] = df['rating'].fillna('RP')"
   ]
  },
  {
   "cell_type": "code",
   "execution_count": 18,
   "id": "866975c4",
   "metadata": {},
   "outputs": [],
   "source": [
    "# Reemplazar los valores TBD por menos uno\n",
    "df[\"user_score\"] = df[\"user_score\"].replace(\"tbd\", -1)"
   ]
  },
  {
   "cell_type": "code",
   "execution_count": 19,
   "id": "6fe2cf72",
   "metadata": {},
   "outputs": [
    {
     "data": {
      "text/plain": [
       "array(['8', -1, '8.3', '8.5', '6.6', '8.4', '8.6', '7.7', '6.3', '7.4',\n",
       "       '8.2', '9', '7.9', '8.1', '8.7', '7.1', '3.4', '5.3', '4.8', '3.2',\n",
       "       '8.9', '6.4', '7.8', '7.5', '2.6', '7.2', '9.2', '7', '7.3', '4.3',\n",
       "       '7.6', '5.7', '5', '9.1', '6.5', '8.8', '6.9', '9.4', '6.8', '6.1',\n",
       "       '6.7', '5.4', '4', '4.9', '4.5', '9.3', '6.2', '4.2', '6', '3.7',\n",
       "       '4.1', '5.8', '5.6', '5.5', '4.4', '4.6', '5.9', '3.9', '3.1',\n",
       "       '2.9', '5.2', '3.3', '4.7', '5.1', '3.5', '2.5', '1.9', '3', '2.7',\n",
       "       '2.2', '2', '9.5', '2.1', '3.6', '2.8', '1.8', '3.8', '0', '1.6',\n",
       "       '9.6', '2.4', '1.7', '1.1', '0.3', '1.5', '0.7', '1.2', '2.3',\n",
       "       '0.5', '1.3', '0.2', '0.6', '1.4', '0.9', '1', '9.7'], dtype=object)"
      ]
     },
     "execution_count": 19,
     "metadata": {},
     "output_type": "execute_result"
    }
   ],
   "source": [
    "df['user_score'].unique()"
   ]
  },
  {
   "cell_type": "code",
   "execution_count": 20,
   "id": "b2a77741",
   "metadata": {},
   "outputs": [
    {
     "data": {
      "text/plain": [
       "0    8.0\n",
       "1   -1.0\n",
       "2    8.3\n",
       "3    8.0\n",
       "4   -1.0\n",
       "Name: user_score, dtype: float64"
      ]
     },
     "execution_count": 20,
     "metadata": {},
     "output_type": "execute_result"
    }
   ],
   "source": [
    "# Convertir la columna user score a flotante\n",
    "df['user_score'] = df['user_score'].astype(float)\n",
    "df['user_score'].head()"
   ]
  },
  {
   "cell_type": "code",
   "execution_count": 21,
   "id": "1ed819e7",
   "metadata": {},
   "outputs": [
    {
     "name": "stdout",
     "output_type": "stream",
     "text": [
      "<class 'pandas.core.frame.DataFrame'>\n",
      "RangeIndex: 16715 entries, 0 to 16714\n",
      "Data columns (total 11 columns):\n",
      " #   Column           Non-Null Count  Dtype  \n",
      "---  ------           --------------  -----  \n",
      " 0   name             16713 non-null  object \n",
      " 1   platform         16715 non-null  object \n",
      " 2   year_of_release  16715 non-null  int64  \n",
      " 3   genre            16713 non-null  object \n",
      " 4   na_sales         16715 non-null  float64\n",
      " 5   eu_sales         16715 non-null  float64\n",
      " 6   jp_sales         16715 non-null  float64\n",
      " 7   other_sales      16715 non-null  float64\n",
      " 8   critic_score     16715 non-null  float64\n",
      " 9   user_score       16715 non-null  float64\n",
      " 10  rating           16715 non-null  object \n",
      "dtypes: float64(6), int64(1), object(4)\n",
      "memory usage: 1.4+ MB\n"
     ]
    }
   ],
   "source": [
    "df.info()"
   ]
  },
  {
   "cell_type": "markdown",
   "id": "31ed3808",
   "metadata": {},
   "source": [
    "Hay diferentes motivos por los que te puedes encontrar con valores ausentes, por ejemplo un error en la recoleccion de datos, o tal vez porque en cierto renglon no existe ese valor, etc"
   ]
  },
  {
   "cell_type": "markdown",
   "id": "6f1b2aa3",
   "metadata": {},
   "source": [
    "Se rellenaron los valores ausentes con el menos uno (-1) debido a que si se rellenaran con 0 o con la media o con la mediana podría generar problemas a la hora de graficar. Al utilizar un valor que se encuentra por fuera del rango se puede evitar dichos inconvenientes filtrando los datos por aquellos que sean mayores a cero.\n",
    "\n",
    "Asimismo, los valores TBD (to be determined) también se convirtieron a menos 1 pues son valores que no están determinados (condición similar a ser un valor nulo) y al ser un valor de tipo string no permite la conversión de la columna a un tipo numerico que es más apropiado para esta columna. En este caso la columna fue convertida a tipo float ya que se evidencia que algunos de sus datos contienen decimales.\n",
    "\n",
    "En el caso del rating se rellenaron con la clasificación RP que significa que está pendiente el rating."
   ]
  },
  {
   "cell_type": "markdown",
   "id": "a55e5cef",
   "metadata": {},
   "source": [
    "<div class=\"alert alert-block alert-success\">\n",
    "<b>Comentario de Revisor</b> <a class=\"tocSkip\"></a>\n",
    "\n",
    "Muy bien, para el análisis en este notebook, me parece bien rellnarlos de esta forma\n",
    "\n",
    "</div>"
   ]
  },
  {
   "cell_type": "markdown",
   "id": "3b9f7d40",
   "metadata": {},
   "source": [
    "### Calcular las ventas totales para cada juego y colocar dichos valores en una columna separada"
   ]
  },
  {
   "cell_type": "code",
   "execution_count": 22,
   "id": "ff608892",
   "metadata": {},
   "outputs": [
    {
     "data": {
      "text/plain": [
       "0        82.54\n",
       "1        40.24\n",
       "2        35.52\n",
       "3        32.77\n",
       "4        31.38\n",
       "         ...  \n",
       "16710     0.01\n",
       "16711     0.01\n",
       "16712     0.01\n",
       "16713     0.01\n",
       "16714     0.01\n",
       "Name: ventas_totales, Length: 16715, dtype: float64"
      ]
     },
     "execution_count": 22,
     "metadata": {},
     "output_type": "execute_result"
    }
   ],
   "source": [
    "df['ventas_totales'] = df['na_sales'] + df['eu_sales'] + df['jp_sales'] + df['other_sales']\n",
    "df['ventas_totales']"
   ]
  },
  {
   "cell_type": "markdown",
   "id": "aa0a2e31",
   "metadata": {},
   "source": [
    "<div class=\"alert alert-block alert-success\">\n",
    "<b>Comentario de Revisor</b> <a class=\"tocSkip\"></a>\n",
    "\n",
    "Muy bien, también podrías haber usado\n",
    "    \n",
    "    df[['na_sales','jp_sales','eu_sales','other_sales']].sum(axis=1)\n",
    "\n",
    "</div>"
   ]
  },
  {
   "cell_type": "markdown",
   "id": "60b9f1dc-98f2-49d4-86d7-ee990f804f5d",
   "metadata": {},
   "source": [
    "## Paso 3. Analizar los datos"
   ]
  },
  {
   "cell_type": "markdown",
   "id": "9075d9f7",
   "metadata": {},
   "source": [
    "### Mirar cuántos juegos fueron lanzados en diferentes años"
   ]
  },
  {
   "cell_type": "code",
   "execution_count": 74,
   "id": "441d374c-718f-4ced-87ad-9cdcbffa8bab",
   "metadata": {},
   "outputs": [
    {
     "data": {
      "text/html": [
       "<div>\n",
       "<style scoped>\n",
       "    .dataframe tbody tr th:only-of-type {\n",
       "        vertical-align: middle;\n",
       "    }\n",
       "\n",
       "    .dataframe tbody tr th {\n",
       "        vertical-align: top;\n",
       "    }\n",
       "\n",
       "    .dataframe thead th {\n",
       "        text-align: right;\n",
       "    }\n",
       "</style>\n",
       "<table border=\"1\" class=\"dataframe\">\n",
       "  <thead>\n",
       "    <tr style=\"text-align: right;\">\n",
       "      <th></th>\n",
       "      <th>year_of_release</th>\n",
       "      <th>name</th>\n",
       "    </tr>\n",
       "  </thead>\n",
       "  <tbody>\n",
       "    <tr>\n",
       "      <th>1</th>\n",
       "      <td>1980</td>\n",
       "      <td>9</td>\n",
       "    </tr>\n",
       "    <tr>\n",
       "      <th>2</th>\n",
       "      <td>1981</td>\n",
       "      <td>46</td>\n",
       "    </tr>\n",
       "    <tr>\n",
       "      <th>3</th>\n",
       "      <td>1982</td>\n",
       "      <td>36</td>\n",
       "    </tr>\n",
       "    <tr>\n",
       "      <th>4</th>\n",
       "      <td>1983</td>\n",
       "      <td>17</td>\n",
       "    </tr>\n",
       "    <tr>\n",
       "      <th>5</th>\n",
       "      <td>1984</td>\n",
       "      <td>14</td>\n",
       "    </tr>\n",
       "    <tr>\n",
       "      <th>6</th>\n",
       "      <td>1985</td>\n",
       "      <td>14</td>\n",
       "    </tr>\n",
       "    <tr>\n",
       "      <th>7</th>\n",
       "      <td>1986</td>\n",
       "      <td>21</td>\n",
       "    </tr>\n",
       "    <tr>\n",
       "      <th>8</th>\n",
       "      <td>1987</td>\n",
       "      <td>16</td>\n",
       "    </tr>\n",
       "    <tr>\n",
       "      <th>9</th>\n",
       "      <td>1988</td>\n",
       "      <td>15</td>\n",
       "    </tr>\n",
       "    <tr>\n",
       "      <th>10</th>\n",
       "      <td>1989</td>\n",
       "      <td>17</td>\n",
       "    </tr>\n",
       "    <tr>\n",
       "      <th>11</th>\n",
       "      <td>1990</td>\n",
       "      <td>16</td>\n",
       "    </tr>\n",
       "    <tr>\n",
       "      <th>12</th>\n",
       "      <td>1991</td>\n",
       "      <td>41</td>\n",
       "    </tr>\n",
       "    <tr>\n",
       "      <th>13</th>\n",
       "      <td>1992</td>\n",
       "      <td>43</td>\n",
       "    </tr>\n",
       "    <tr>\n",
       "      <th>14</th>\n",
       "      <td>1993</td>\n",
       "      <td>60</td>\n",
       "    </tr>\n",
       "    <tr>\n",
       "      <th>15</th>\n",
       "      <td>1994</td>\n",
       "      <td>121</td>\n",
       "    </tr>\n",
       "    <tr>\n",
       "      <th>16</th>\n",
       "      <td>1995</td>\n",
       "      <td>219</td>\n",
       "    </tr>\n",
       "    <tr>\n",
       "      <th>17</th>\n",
       "      <td>1996</td>\n",
       "      <td>263</td>\n",
       "    </tr>\n",
       "    <tr>\n",
       "      <th>18</th>\n",
       "      <td>1997</td>\n",
       "      <td>289</td>\n",
       "    </tr>\n",
       "    <tr>\n",
       "      <th>19</th>\n",
       "      <td>1998</td>\n",
       "      <td>379</td>\n",
       "    </tr>\n",
       "    <tr>\n",
       "      <th>20</th>\n",
       "      <td>1999</td>\n",
       "      <td>338</td>\n",
       "    </tr>\n",
       "    <tr>\n",
       "      <th>21</th>\n",
       "      <td>2000</td>\n",
       "      <td>350</td>\n",
       "    </tr>\n",
       "    <tr>\n",
       "      <th>22</th>\n",
       "      <td>2001</td>\n",
       "      <td>482</td>\n",
       "    </tr>\n",
       "    <tr>\n",
       "      <th>23</th>\n",
       "      <td>2002</td>\n",
       "      <td>829</td>\n",
       "    </tr>\n",
       "    <tr>\n",
       "      <th>24</th>\n",
       "      <td>2003</td>\n",
       "      <td>775</td>\n",
       "    </tr>\n",
       "    <tr>\n",
       "      <th>25</th>\n",
       "      <td>2004</td>\n",
       "      <td>762</td>\n",
       "    </tr>\n",
       "    <tr>\n",
       "      <th>26</th>\n",
       "      <td>2005</td>\n",
       "      <td>939</td>\n",
       "    </tr>\n",
       "    <tr>\n",
       "      <th>27</th>\n",
       "      <td>2006</td>\n",
       "      <td>1006</td>\n",
       "    </tr>\n",
       "    <tr>\n",
       "      <th>28</th>\n",
       "      <td>2007</td>\n",
       "      <td>1197</td>\n",
       "    </tr>\n",
       "    <tr>\n",
       "      <th>29</th>\n",
       "      <td>2008</td>\n",
       "      <td>1427</td>\n",
       "    </tr>\n",
       "    <tr>\n",
       "      <th>30</th>\n",
       "      <td>2009</td>\n",
       "      <td>1426</td>\n",
       "    </tr>\n",
       "    <tr>\n",
       "      <th>31</th>\n",
       "      <td>2010</td>\n",
       "      <td>1255</td>\n",
       "    </tr>\n",
       "    <tr>\n",
       "      <th>32</th>\n",
       "      <td>2011</td>\n",
       "      <td>1136</td>\n",
       "    </tr>\n",
       "    <tr>\n",
       "      <th>33</th>\n",
       "      <td>2012</td>\n",
       "      <td>653</td>\n",
       "    </tr>\n",
       "    <tr>\n",
       "      <th>34</th>\n",
       "      <td>2013</td>\n",
       "      <td>544</td>\n",
       "    </tr>\n",
       "    <tr>\n",
       "      <th>35</th>\n",
       "      <td>2014</td>\n",
       "      <td>581</td>\n",
       "    </tr>\n",
       "    <tr>\n",
       "      <th>36</th>\n",
       "      <td>2015</td>\n",
       "      <td>606</td>\n",
       "    </tr>\n",
       "    <tr>\n",
       "      <th>37</th>\n",
       "      <td>2016</td>\n",
       "      <td>502</td>\n",
       "    </tr>\n",
       "  </tbody>\n",
       "</table>\n",
       "</div>"
      ],
      "text/plain": [
       "    year_of_release  name\n",
       "1              1980     9\n",
       "2              1981    46\n",
       "3              1982    36\n",
       "4              1983    17\n",
       "5              1984    14\n",
       "6              1985    14\n",
       "7              1986    21\n",
       "8              1987    16\n",
       "9              1988    15\n",
       "10             1989    17\n",
       "11             1990    16\n",
       "12             1991    41\n",
       "13             1992    43\n",
       "14             1993    60\n",
       "15             1994   121\n",
       "16             1995   219\n",
       "17             1996   263\n",
       "18             1997   289\n",
       "19             1998   379\n",
       "20             1999   338\n",
       "21             2000   350\n",
       "22             2001   482\n",
       "23             2002   829\n",
       "24             2003   775\n",
       "25             2004   762\n",
       "26             2005   939\n",
       "27             2006  1006\n",
       "28             2007  1197\n",
       "29             2008  1427\n",
       "30             2009  1426\n",
       "31             2010  1255\n",
       "32             2011  1136\n",
       "33             2012   653\n",
       "34             2013   544\n",
       "35             2014   581\n",
       "36             2015   606\n",
       "37             2016   502"
      ]
     },
     "execution_count": 74,
     "metadata": {},
     "output_type": "execute_result"
    }
   ],
   "source": [
    "juegos_por_año = df.groupby('year_of_release')['name'].count().reset_index()\n",
    "juegos_por_año = juegos_por_año[juegos_por_año['year_of_release'] > 0]\n",
    "juegos_por_año"
   ]
  },
  {
   "cell_type": "code",
   "execution_count": 88,
   "id": "6fd7cbb2",
   "metadata": {},
   "outputs": [
    {
     "data": {
      "text/plain": [
       "<AxesSubplot:title={'center':'Juegos lanzados por año'}, xlabel='Año de lanzamiento', ylabel='Número de Juegos'>"
      ]
     },
     "execution_count": 88,
     "metadata": {},
     "output_type": "execute_result"
    },
    {
     "data": {
      "image/png": "[encoded data removed]",
      "text/plain": [
       "<Figure size 640x480 with 1 Axes>"
      ]
     },
     "metadata": {},
     "output_type": "display_data"
    }
   ],
   "source": [
    "juegos_por_año.plot(x='year_of_release', y='name', legend=False, xlabel='Año de lanzamiento', ylabel='Número de Juegos', title='Juegos lanzados por año')"
   ]
  },
  {
   "cell_type": "markdown",
   "id": "1f08fe94",
   "metadata": {},
   "source": [
    "Se ve que hubo un aumento en el número de juegos lanzados desde 1980 hasta 2008. En 2012 el número de juegos lanzados decreció hasta casi la mitad de los lanzados el año anterior y de ahí en adelante continuó fluctuando (en algunos años aumentó y en otros decreció) en los años siguientes hasta 2016 (que es hasta donde se tienen datos)."
   ]
  },
  {
   "cell_type": "markdown",
   "id": "fccd8dc4",
   "metadata": {},
   "source": [
    "<div class=\"alert alert-block alert-danger\">\n",
    "<b>Comentario de Revisor</b> <a class=\"tocSkip\"></a>\n",
    "\n",
    "Bien, correcto el cálculo de la data, pero muestra el resultado en un gráfico que nos permita apreciar la tendencia de ventas.\n",
    "\n",
    "</div>"
   ]
  },
  {
   "cell_type": "markdown",
   "id": "6afa6da6",
   "metadata": {},
   "source": [
    "<div class=\"alert alert-block alert-success\">\n",
    "<b>Comentario de Revisor v2</b> <a class=\"tocSkip\"></a>\n",
    "\n",
    "Bien, así está mejor, vemos que hubo un peak a fines de los 2000 y luego ha caido a niveles similares a los de inicios del 2000.\n",
    "\n",
    "</div>"
   ]
  },
  {
   "cell_type": "markdown",
   "id": "7e93e626",
   "metadata": {},
   "source": [
    "### Observa cómo varían las ventas de una plataforma a otra"
   ]
  },
  {
   "cell_type": "code",
   "execution_count": 83,
   "id": "6b7ab37f-9d07-49af-af26-f4b68cedf1d8",
   "metadata": {},
   "outputs": [
    {
     "data": {
      "text/html": [
       "<div>\n",
       "<style scoped>\n",
       "    .dataframe tbody tr th:only-of-type {\n",
       "        vertical-align: middle;\n",
       "    }\n",
       "\n",
       "    .dataframe tbody tr th {\n",
       "        vertical-align: top;\n",
       "    }\n",
       "\n",
       "    .dataframe thead th {\n",
       "        text-align: right;\n",
       "    }\n",
       "</style>\n",
       "<table border=\"1\" class=\"dataframe\">\n",
       "  <thead>\n",
       "    <tr style=\"text-align: right;\">\n",
       "      <th></th>\n",
       "      <th>platform</th>\n",
       "      <th>ventas_totales</th>\n",
       "    </tr>\n",
       "  </thead>\n",
       "  <tbody>\n",
       "    <tr>\n",
       "      <th>0</th>\n",
       "      <td>PCFX</td>\n",
       "      <td>0.03</td>\n",
       "    </tr>\n",
       "    <tr>\n",
       "      <th>1</th>\n",
       "      <td>GG</td>\n",
       "      <td>0.04</td>\n",
       "    </tr>\n",
       "    <tr>\n",
       "      <th>2</th>\n",
       "      <td>3DO</td>\n",
       "      <td>0.10</td>\n",
       "    </tr>\n",
       "    <tr>\n",
       "      <th>3</th>\n",
       "      <td>TG16</td>\n",
       "      <td>0.16</td>\n",
       "    </tr>\n",
       "    <tr>\n",
       "      <th>4</th>\n",
       "      <td>WS</td>\n",
       "      <td>1.42</td>\n",
       "    </tr>\n",
       "    <tr>\n",
       "      <th>5</th>\n",
       "      <td>NG</td>\n",
       "      <td>1.44</td>\n",
       "    </tr>\n",
       "    <tr>\n",
       "      <th>6</th>\n",
       "      <td>SCD</td>\n",
       "      <td>1.86</td>\n",
       "    </tr>\n",
       "    <tr>\n",
       "      <th>7</th>\n",
       "      <td>DC</td>\n",
       "      <td>15.95</td>\n",
       "    </tr>\n",
       "    <tr>\n",
       "      <th>8</th>\n",
       "      <td>GEN</td>\n",
       "      <td>30.77</td>\n",
       "    </tr>\n",
       "    <tr>\n",
       "      <th>9</th>\n",
       "      <td>SAT</td>\n",
       "      <td>33.59</td>\n",
       "    </tr>\n",
       "    <tr>\n",
       "      <th>10</th>\n",
       "      <td>PSV</td>\n",
       "      <td>54.07</td>\n",
       "    </tr>\n",
       "    <tr>\n",
       "      <th>11</th>\n",
       "      <td>WiiU</td>\n",
       "      <td>82.19</td>\n",
       "    </tr>\n",
       "    <tr>\n",
       "      <th>12</th>\n",
       "      <td>2600</td>\n",
       "      <td>96.98</td>\n",
       "    </tr>\n",
       "    <tr>\n",
       "      <th>13</th>\n",
       "      <td>XOne</td>\n",
       "      <td>159.32</td>\n",
       "    </tr>\n",
       "    <tr>\n",
       "      <th>14</th>\n",
       "      <td>GC</td>\n",
       "      <td>198.93</td>\n",
       "    </tr>\n",
       "    <tr>\n",
       "      <th>15</th>\n",
       "      <td>SNES</td>\n",
       "      <td>200.04</td>\n",
       "    </tr>\n",
       "    <tr>\n",
       "      <th>16</th>\n",
       "      <td>N64</td>\n",
       "      <td>218.68</td>\n",
       "    </tr>\n",
       "    <tr>\n",
       "      <th>17</th>\n",
       "      <td>NES</td>\n",
       "      <td>251.05</td>\n",
       "    </tr>\n",
       "    <tr>\n",
       "      <th>18</th>\n",
       "      <td>GB</td>\n",
       "      <td>255.46</td>\n",
       "    </tr>\n",
       "    <tr>\n",
       "      <th>19</th>\n",
       "      <td>XB</td>\n",
       "      <td>257.74</td>\n",
       "    </tr>\n",
       "    <tr>\n",
       "      <th>20</th>\n",
       "      <td>3DS</td>\n",
       "      <td>259.00</td>\n",
       "    </tr>\n",
       "    <tr>\n",
       "      <th>21</th>\n",
       "      <td>PC</td>\n",
       "      <td>259.52</td>\n",
       "    </tr>\n",
       "    <tr>\n",
       "      <th>22</th>\n",
       "      <td>PSP</td>\n",
       "      <td>294.05</td>\n",
       "    </tr>\n",
       "    <tr>\n",
       "      <th>23</th>\n",
       "      <td>PS4</td>\n",
       "      <td>314.14</td>\n",
       "    </tr>\n",
       "    <tr>\n",
       "      <th>24</th>\n",
       "      <td>GBA</td>\n",
       "      <td>317.85</td>\n",
       "    </tr>\n",
       "    <tr>\n",
       "      <th>25</th>\n",
       "      <td>PS</td>\n",
       "      <td>730.86</td>\n",
       "    </tr>\n",
       "    <tr>\n",
       "      <th>26</th>\n",
       "      <td>DS</td>\n",
       "      <td>806.12</td>\n",
       "    </tr>\n",
       "    <tr>\n",
       "      <th>27</th>\n",
       "      <td>Wii</td>\n",
       "      <td>907.51</td>\n",
       "    </tr>\n",
       "    <tr>\n",
       "      <th>28</th>\n",
       "      <td>PS3</td>\n",
       "      <td>939.65</td>\n",
       "    </tr>\n",
       "    <tr>\n",
       "      <th>29</th>\n",
       "      <td>X360</td>\n",
       "      <td>971.42</td>\n",
       "    </tr>\n",
       "    <tr>\n",
       "      <th>30</th>\n",
       "      <td>PS2</td>\n",
       "      <td>1255.77</td>\n",
       "    </tr>\n",
       "  </tbody>\n",
       "</table>\n",
       "</div>"
      ],
      "text/plain": [
       "   platform  ventas_totales\n",
       "0      PCFX            0.03\n",
       "1        GG            0.04\n",
       "2       3DO            0.10\n",
       "3      TG16            0.16\n",
       "4        WS            1.42\n",
       "5        NG            1.44\n",
       "6       SCD            1.86\n",
       "7        DC           15.95\n",
       "8       GEN           30.77\n",
       "9       SAT           33.59\n",
       "10      PSV           54.07\n",
       "11     WiiU           82.19\n",
       "12     2600           96.98\n",
       "13     XOne          159.32\n",
       "14       GC          198.93\n",
       "15     SNES          200.04\n",
       "16      N64          218.68\n",
       "17      NES          251.05\n",
       "18       GB          255.46\n",
       "19       XB          257.74\n",
       "20      3DS          259.00\n",
       "21       PC          259.52\n",
       "22      PSP          294.05\n",
       "23      PS4          314.14\n",
       "24      GBA          317.85\n",
       "25       PS          730.86\n",
       "26       DS          806.12\n",
       "27      Wii          907.51\n",
       "28      PS3          939.65\n",
       "29     X360          971.42\n",
       "30      PS2         1255.77"
      ]
     },
     "execution_count": 83,
     "metadata": {},
     "output_type": "execute_result"
    }
   ],
   "source": [
    "ventas_por_plataforma = df.groupby('platform')['ventas_totales'].sum().sort_values().reset_index()\n",
    "ventas_por_plataforma"
   ]
  },
  {
   "cell_type": "code",
   "execution_count": 90,
   "id": "d06ad925",
   "metadata": {},
   "outputs": [
    {
     "data": {
      "text/plain": [
       "<AxesSubplot:title={'center':'Variación ventas de una plataforma a otra'}, xlabel='Plataforma', ylabel='Número de ventas'>"
      ]
     },
     "execution_count": 90,
     "metadata": {},
     "output_type": "execute_result"
    },
    {
     "data": {
      "image/png": "[encoded data removed]",
      "text/plain": [
       "<Figure size 640x480 with 1 Axes>"
      ]
     },
     "metadata": {},
     "output_type": "display_data"
    }
   ],
   "source": [
    "ventas_por_plataforma.plot(x='platform', kind='bar', legend=False, xlabel='Plataforma', ylabel='Número de ventas', title='Variación ventas de una plataforma a otra')"
   ]
  },
  {
   "cell_type": "markdown",
   "id": "e58333e6",
   "metadata": {},
   "source": [
    "<div class=\"alert alert-block alert-danger\">\n",
    "<b>Comentario de Revisor</b> <a class=\"tocSkip\"></a>\n",
    "\n",
    "Bien, correcto el cálculo de la data, pero muestra el resultado en un gráfico que nos permita comparar mejor las consolas.\n",
    "\n",
    "</div>"
   ]
  },
  {
   "cell_type": "markdown",
   "id": "fc8ccf03",
   "metadata": {},
   "source": [
    "<div class=\"alert alert-block alert-success\">\n",
    "<b>Comentario de Revisor v2</b> <a class=\"tocSkip\"></a>\n",
    "\n",
    "Bien, correcto\n",
    "\n",
    "</div>"
   ]
  },
  {
   "cell_type": "markdown",
   "id": "517795fa",
   "metadata": {},
   "source": [
    "### Construye una distribución basada en los datos de cada año de las plataformas con mayores ventas"
   ]
  },
  {
   "cell_type": "code",
   "execution_count": 25,
   "id": "86280bd0-b233-4ce5-b047-d7f3b34fd4df",
   "metadata": {},
   "outputs": [
    {
     "data": {
      "text/plain": [
       "year_of_release\n",
       "-1        34\n",
       " 2000     82\n",
       " 2001    185\n",
       " 2002    280\n",
       " 2003    256\n",
       " 2004    259\n",
       " 2005    260\n",
       " 2006    259\n",
       " 2007    214\n",
       " 2008    191\n",
       " 2009     96\n",
       " 2010     38\n",
       " 2011      7\n",
       "Name: ventas_ps2, dtype: int64"
      ]
     },
     "execution_count": 25,
     "metadata": {},
     "output_type": "execute_result"
    }
   ],
   "source": [
    "# Calcula las ventas para la plataforma PS2\n",
    "ventas_ps2 = df[df['platform'] == 'PS2']\n",
    "ventas_ps2 = ventas_ps2.groupby('year_of_release')['name'].count().rename('ventas_ps2')\n",
    "ventas_ps2"
   ]
  },
  {
   "cell_type": "code",
   "execution_count": 26,
   "id": "092d39bd",
   "metadata": {},
   "outputs": [
    {
     "data": {
      "text/plain": [
       "year_of_release\n",
       "-1        30\n",
       " 2005     18\n",
       " 2006     93\n",
       " 2007    123\n",
       " 2008    146\n",
       " 2009    172\n",
       " 2010    182\n",
       " 2011    206\n",
       " 2012    106\n",
       " 2013     75\n",
       " 2014     63\n",
       " 2015     35\n",
       " 2016     13\n",
       "Name: ventas_x360, dtype: int64"
      ]
     },
     "execution_count": 26,
     "metadata": {},
     "output_type": "execute_result"
    }
   ],
   "source": [
    "# Calcula las ventas para la plataforma X360\n",
    "ventas_x360 = df[df['platform'] == 'X360']\n",
    "ventas_x360 = ventas_x360.groupby('year_of_release')['name'].count().rename('ventas_x360')\n",
    "ventas_x360"
   ]
  },
  {
   "cell_type": "code",
   "execution_count": 27,
   "id": "aa375f65",
   "metadata": {},
   "outputs": [
    {
     "data": {
      "text/plain": [
       "year_of_release\n",
       "-1        25\n",
       " 2006     27\n",
       " 2007     90\n",
       " 2008    138\n",
       " 2009    162\n",
       " 2010    181\n",
       " 2011    215\n",
       " 2012    148\n",
       " 2013    126\n",
       " 2014    108\n",
       " 2015     73\n",
       " 2016     38\n",
       "Name: ventas_ps3, dtype: int64"
      ]
     },
     "execution_count": 27,
     "metadata": {},
     "output_type": "execute_result"
    }
   ],
   "source": [
    "# Calcula las ventas para la plataforma PS3\n",
    "ventas_ps3 = df[df['platform'] == 'PS3']\n",
    "ventas_ps3 = ventas_ps3.groupby('year_of_release')['name'].count().rename('ventas_ps3')\n",
    "ventas_ps3"
   ]
  },
  {
   "cell_type": "code",
   "execution_count": 93,
   "id": "183b13ff",
   "metadata": {},
   "outputs": [
    {
     "data": {
      "text/html": [
       "<div>\n",
       "<style scoped>\n",
       "    .dataframe tbody tr th:only-of-type {\n",
       "        vertical-align: middle;\n",
       "    }\n",
       "\n",
       "    .dataframe tbody tr th {\n",
       "        vertical-align: top;\n",
       "    }\n",
       "\n",
       "    .dataframe thead th {\n",
       "        text-align: right;\n",
       "    }\n",
       "</style>\n",
       "<table border=\"1\" class=\"dataframe\">\n",
       "  <thead>\n",
       "    <tr style=\"text-align: right;\">\n",
       "      <th></th>\n",
       "      <th>year_of_release</th>\n",
       "      <th>ventas_mayores_plataformas</th>\n",
       "    </tr>\n",
       "  </thead>\n",
       "  <tbody>\n",
       "    <tr>\n",
       "      <th>1</th>\n",
       "      <td>2000</td>\n",
       "      <td>82.0</td>\n",
       "    </tr>\n",
       "    <tr>\n",
       "      <th>2</th>\n",
       "      <td>2001</td>\n",
       "      <td>185.0</td>\n",
       "    </tr>\n",
       "    <tr>\n",
       "      <th>3</th>\n",
       "      <td>2002</td>\n",
       "      <td>280.0</td>\n",
       "    </tr>\n",
       "    <tr>\n",
       "      <th>4</th>\n",
       "      <td>2003</td>\n",
       "      <td>256.0</td>\n",
       "    </tr>\n",
       "    <tr>\n",
       "      <th>5</th>\n",
       "      <td>2004</td>\n",
       "      <td>259.0</td>\n",
       "    </tr>\n",
       "    <tr>\n",
       "      <th>6</th>\n",
       "      <td>2005</td>\n",
       "      <td>278.0</td>\n",
       "    </tr>\n",
       "    <tr>\n",
       "      <th>7</th>\n",
       "      <td>2006</td>\n",
       "      <td>379.0</td>\n",
       "    </tr>\n",
       "    <tr>\n",
       "      <th>8</th>\n",
       "      <td>2007</td>\n",
       "      <td>427.0</td>\n",
       "    </tr>\n",
       "    <tr>\n",
       "      <th>9</th>\n",
       "      <td>2008</td>\n",
       "      <td>475.0</td>\n",
       "    </tr>\n",
       "    <tr>\n",
       "      <th>10</th>\n",
       "      <td>2009</td>\n",
       "      <td>430.0</td>\n",
       "    </tr>\n",
       "    <tr>\n",
       "      <th>11</th>\n",
       "      <td>2010</td>\n",
       "      <td>401.0</td>\n",
       "    </tr>\n",
       "    <tr>\n",
       "      <th>12</th>\n",
       "      <td>2011</td>\n",
       "      <td>428.0</td>\n",
       "    </tr>\n",
       "    <tr>\n",
       "      <th>13</th>\n",
       "      <td>2012</td>\n",
       "      <td>254.0</td>\n",
       "    </tr>\n",
       "    <tr>\n",
       "      <th>14</th>\n",
       "      <td>2013</td>\n",
       "      <td>201.0</td>\n",
       "    </tr>\n",
       "    <tr>\n",
       "      <th>15</th>\n",
       "      <td>2014</td>\n",
       "      <td>171.0</td>\n",
       "    </tr>\n",
       "    <tr>\n",
       "      <th>16</th>\n",
       "      <td>2015</td>\n",
       "      <td>108.0</td>\n",
       "    </tr>\n",
       "    <tr>\n",
       "      <th>17</th>\n",
       "      <td>2016</td>\n",
       "      <td>51.0</td>\n",
       "    </tr>\n",
       "  </tbody>\n",
       "</table>\n",
       "</div>"
      ],
      "text/plain": [
       "    year_of_release  ventas_mayores_plataformas\n",
       "1              2000                        82.0\n",
       "2              2001                       185.0\n",
       "3              2002                       280.0\n",
       "4              2003                       256.0\n",
       "5              2004                       259.0\n",
       "6              2005                       278.0\n",
       "7              2006                       379.0\n",
       "8              2007                       427.0\n",
       "9              2008                       475.0\n",
       "10             2009                       430.0\n",
       "11             2010                       401.0\n",
       "12             2011                       428.0\n",
       "13             2012                       254.0\n",
       "14             2013                       201.0\n",
       "15             2014                       171.0\n",
       "16             2015                       108.0\n",
       "17             2016                        51.0"
      ]
     },
     "execution_count": 93,
     "metadata": {},
     "output_type": "execute_result"
    }
   ],
   "source": [
    "# Suma las ventas de las 3 plataformas con mayores ventas\n",
    "ventas_mayores_plataformas = ventas_ps2.add(ventas_x360, fill_value=0).add(ventas_ps3, fill_value=0).rename('ventas_mayores_plataformas').reset_index()\n",
    "ventas_mayores_plataformas = ventas_mayores_plataformas[ventas_mayores_plataformas['year_of_release'] > 0]\n",
    "ventas_mayores_plataformas"
   ]
  },
  {
   "cell_type": "code",
   "execution_count": 99,
   "id": "3b5d011e",
   "metadata": {},
   "outputs": [
    {
     "data": {
      "text/plain": [
       "<AxesSubplot:title={'center':'Distribución plataformas mayores ventas'}, xlabel='Año de lanzamiento', ylabel='Ventas mayores plataformas'>"
      ]
     },
     "execution_count": 99,
     "metadata": {},
     "output_type": "execute_result"
    },
    {
     "data": {
      "image/png": "[encoded data removed]",
      "text/plain": [
       "<Figure size 640x480 with 1 Axes>"
      ]
     },
     "metadata": {},
     "output_type": "display_data"
    }
   ],
   "source": [
    "ventas_mayores_plataformas.plot(x='year_of_release', \n",
    "                                y='ventas_mayores_plataformas', \n",
    "                                legend=False, xlabel='Año de lanzamiento', \n",
    "                                ylabel='Ventas mayores plataformas', \n",
    "                                title='Distribución plataformas mayores ventas')"
   ]
  },
  {
   "cell_type": "markdown",
   "id": "39bc96d3",
   "metadata": {},
   "source": [
    "Las ventas de ls plataformas con más ventas (PS2, PS3 y XBOX360) aumentaron hasta 2008, tras lo cuál disminuyeron todos los años, a excepción de 2011, hasta 2016."
   ]
  },
  {
   "cell_type": "code",
   "execution_count": 29,
   "id": "627b7bc6",
   "metadata": {},
   "outputs": [
    {
     "name": "stdout",
     "output_type": "stream",
     "text": [
      "['Wii' 'NES' 'GB' 'DS' 'X360' 'PS3' 'PS2' 'SNES' 'GBA' 'PS4' '3DS' 'N64'\n",
      " 'PS' 'XB' 'PC' '2600' 'PSP' 'XOne' 'WiiU' 'GC' 'GEN' 'DC' 'PSV' 'SAT'\n",
      " 'SCD' 'WS' 'NG' 'TG16' '3DO' 'GG' 'PCFX']\n"
     ]
    },
    {
     "data": {
      "text/plain": [
       "numpy.ndarray"
      ]
     },
     "execution_count": 29,
     "metadata": {},
     "output_type": "execute_result"
    }
   ],
   "source": [
    "# Encuentra los nombres de las plataformas\n",
    "nombres_plataformas = df['platform'].unique()\n",
    "print(nombres_plataformas)\n",
    "type(nombres_plataformas)"
   ]
  },
  {
   "cell_type": "markdown",
   "id": "83ba81f9",
   "metadata": {},
   "source": [
    "<div class=\"alert alert-block alert-danger\">\n",
    "<b>Comentario de Revisor</b> <a class=\"tocSkip\"></a>\n",
    "\n",
    "Ok, lo mismo que la parte anterior. Grafica estos resultados, idealmente, todos en un mismo cuadro\n",
    "\n",
    "</div>"
   ]
  },
  {
   "cell_type": "markdown",
   "id": "24f3dae1",
   "metadata": {},
   "source": [
    "<div class=\"alert alert-block alert-success\">\n",
    "<b>Comentario de Revisor v2</b> <a class=\"tocSkip\"></a>\n",
    "\n",
    "Bien, correcto\n",
    "\n",
    "</div>"
   ]
  },
  {
   "cell_type": "markdown",
   "id": "092ae01d",
   "metadata": {},
   "source": [
    "### Busca las plataformas que solían ser populares pero que ahora no tienen ventas"
   ]
  },
  {
   "cell_type": "code",
   "execution_count": 115,
   "id": "75a36ae0",
   "metadata": {},
   "outputs": [
    {
     "data": {
      "text/html": [
       "<div>\n",
       "<style scoped>\n",
       "    .dataframe tbody tr th:only-of-type {\n",
       "        vertical-align: middle;\n",
       "    }\n",
       "\n",
       "    .dataframe tbody tr th {\n",
       "        vertical-align: top;\n",
       "    }\n",
       "\n",
       "    .dataframe thead th {\n",
       "        text-align: right;\n",
       "    }\n",
       "</style>\n",
       "<table border=\"1\" class=\"dataframe\">\n",
       "  <thead>\n",
       "    <tr style=\"text-align: right;\">\n",
       "      <th></th>\n",
       "      <th>ventas_x360</th>\n",
       "      <th>Wii</th>\n",
       "      <th>NES</th>\n",
       "      <th>GB</th>\n",
       "      <th>DS</th>\n",
       "      <th>X360</th>\n",
       "      <th>PS3</th>\n",
       "      <th>PS2</th>\n",
       "      <th>SNES</th>\n",
       "      <th>GBA</th>\n",
       "      <th>...</th>\n",
       "      <th>DC</th>\n",
       "      <th>PSV</th>\n",
       "      <th>SAT</th>\n",
       "      <th>SCD</th>\n",
       "      <th>WS</th>\n",
       "      <th>NG</th>\n",
       "      <th>TG16</th>\n",
       "      <th>3DO</th>\n",
       "      <th>GG</th>\n",
       "      <th>PCFX</th>\n",
       "    </tr>\n",
       "    <tr>\n",
       "      <th>year_of_release</th>\n",
       "      <th></th>\n",
       "      <th></th>\n",
       "      <th></th>\n",
       "      <th></th>\n",
       "      <th></th>\n",
       "      <th></th>\n",
       "      <th></th>\n",
       "      <th></th>\n",
       "      <th></th>\n",
       "      <th></th>\n",
       "      <th></th>\n",
       "      <th></th>\n",
       "      <th></th>\n",
       "      <th></th>\n",
       "      <th></th>\n",
       "      <th></th>\n",
       "      <th></th>\n",
       "      <th></th>\n",
       "      <th></th>\n",
       "      <th></th>\n",
       "      <th></th>\n",
       "    </tr>\n",
       "  </thead>\n",
       "  <tbody>\n",
       "    <tr>\n",
       "      <th>2016</th>\n",
       "      <td>13.0</td>\n",
       "      <td>1.0</td>\n",
       "      <td>NaN</td>\n",
       "      <td>NaN</td>\n",
       "      <td>NaN</td>\n",
       "      <td>13.0</td>\n",
       "      <td>38.0</td>\n",
       "      <td>NaN</td>\n",
       "      <td>NaN</td>\n",
       "      <td>NaN</td>\n",
       "      <td>...</td>\n",
       "      <td>NaN</td>\n",
       "      <td>85.0</td>\n",
       "      <td>NaN</td>\n",
       "      <td>NaN</td>\n",
       "      <td>NaN</td>\n",
       "      <td>NaN</td>\n",
       "      <td>NaN</td>\n",
       "      <td>NaN</td>\n",
       "      <td>NaN</td>\n",
       "      <td>NaN</td>\n",
       "    </tr>\n",
       "    <tr>\n",
       "      <th>2015</th>\n",
       "      <td>35.0</td>\n",
       "      <td>4.0</td>\n",
       "      <td>NaN</td>\n",
       "      <td>NaN</td>\n",
       "      <td>NaN</td>\n",
       "      <td>35.0</td>\n",
       "      <td>73.0</td>\n",
       "      <td>NaN</td>\n",
       "      <td>NaN</td>\n",
       "      <td>NaN</td>\n",
       "      <td>...</td>\n",
       "      <td>NaN</td>\n",
       "      <td>110.0</td>\n",
       "      <td>NaN</td>\n",
       "      <td>NaN</td>\n",
       "      <td>NaN</td>\n",
       "      <td>NaN</td>\n",
       "      <td>NaN</td>\n",
       "      <td>NaN</td>\n",
       "      <td>NaN</td>\n",
       "      <td>NaN</td>\n",
       "    </tr>\n",
       "    <tr>\n",
       "      <th>2014</th>\n",
       "      <td>63.0</td>\n",
       "      <td>6.0</td>\n",
       "      <td>NaN</td>\n",
       "      <td>NaN</td>\n",
       "      <td>NaN</td>\n",
       "      <td>63.0</td>\n",
       "      <td>108.0</td>\n",
       "      <td>NaN</td>\n",
       "      <td>NaN</td>\n",
       "      <td>NaN</td>\n",
       "      <td>...</td>\n",
       "      <td>NaN</td>\n",
       "      <td>100.0</td>\n",
       "      <td>NaN</td>\n",
       "      <td>NaN</td>\n",
       "      <td>NaN</td>\n",
       "      <td>NaN</td>\n",
       "      <td>NaN</td>\n",
       "      <td>NaN</td>\n",
       "      <td>NaN</td>\n",
       "      <td>NaN</td>\n",
       "    </tr>\n",
       "    <tr>\n",
       "      <th>2013</th>\n",
       "      <td>75.0</td>\n",
       "      <td>12.0</td>\n",
       "      <td>NaN</td>\n",
       "      <td>NaN</td>\n",
       "      <td>8.0</td>\n",
       "      <td>75.0</td>\n",
       "      <td>126.0</td>\n",
       "      <td>NaN</td>\n",
       "      <td>NaN</td>\n",
       "      <td>NaN</td>\n",
       "      <td>...</td>\n",
       "      <td>NaN</td>\n",
       "      <td>63.0</td>\n",
       "      <td>NaN</td>\n",
       "      <td>NaN</td>\n",
       "      <td>NaN</td>\n",
       "      <td>NaN</td>\n",
       "      <td>NaN</td>\n",
       "      <td>NaN</td>\n",
       "      <td>NaN</td>\n",
       "      <td>NaN</td>\n",
       "    </tr>\n",
       "    <tr>\n",
       "      <th>2012</th>\n",
       "      <td>106.0</td>\n",
       "      <td>31.0</td>\n",
       "      <td>NaN</td>\n",
       "      <td>NaN</td>\n",
       "      <td>23.0</td>\n",
       "      <td>106.0</td>\n",
       "      <td>148.0</td>\n",
       "      <td>NaN</td>\n",
       "      <td>NaN</td>\n",
       "      <td>NaN</td>\n",
       "      <td>...</td>\n",
       "      <td>NaN</td>\n",
       "      <td>53.0</td>\n",
       "      <td>NaN</td>\n",
       "      <td>NaN</td>\n",
       "      <td>NaN</td>\n",
       "      <td>NaN</td>\n",
       "      <td>NaN</td>\n",
       "      <td>NaN</td>\n",
       "      <td>NaN</td>\n",
       "      <td>NaN</td>\n",
       "    </tr>\n",
       "    <tr>\n",
       "      <th>2011</th>\n",
       "      <td>206.0</td>\n",
       "      <td>143.0</td>\n",
       "      <td>NaN</td>\n",
       "      <td>NaN</td>\n",
       "      <td>153.0</td>\n",
       "      <td>206.0</td>\n",
       "      <td>215.0</td>\n",
       "      <td>7.0</td>\n",
       "      <td>NaN</td>\n",
       "      <td>NaN</td>\n",
       "      <td>...</td>\n",
       "      <td>NaN</td>\n",
       "      <td>18.0</td>\n",
       "      <td>NaN</td>\n",
       "      <td>NaN</td>\n",
       "      <td>NaN</td>\n",
       "      <td>NaN</td>\n",
       "      <td>NaN</td>\n",
       "      <td>NaN</td>\n",
       "      <td>NaN</td>\n",
       "      <td>NaN</td>\n",
       "    </tr>\n",
       "    <tr>\n",
       "      <th>2010</th>\n",
       "      <td>182.0</td>\n",
       "      <td>253.0</td>\n",
       "      <td>NaN</td>\n",
       "      <td>NaN</td>\n",
       "      <td>323.0</td>\n",
       "      <td>182.0</td>\n",
       "      <td>181.0</td>\n",
       "      <td>38.0</td>\n",
       "      <td>NaN</td>\n",
       "      <td>NaN</td>\n",
       "      <td>...</td>\n",
       "      <td>NaN</td>\n",
       "      <td>NaN</td>\n",
       "      <td>NaN</td>\n",
       "      <td>NaN</td>\n",
       "      <td>NaN</td>\n",
       "      <td>NaN</td>\n",
       "      <td>NaN</td>\n",
       "      <td>NaN</td>\n",
       "      <td>NaN</td>\n",
       "      <td>NaN</td>\n",
       "    </tr>\n",
       "    <tr>\n",
       "      <th>2009</th>\n",
       "      <td>172.0</td>\n",
       "      <td>325.0</td>\n",
       "      <td>NaN</td>\n",
       "      <td>NaN</td>\n",
       "      <td>403.0</td>\n",
       "      <td>172.0</td>\n",
       "      <td>162.0</td>\n",
       "      <td>96.0</td>\n",
       "      <td>NaN</td>\n",
       "      <td>NaN</td>\n",
       "      <td>...</td>\n",
       "      <td>NaN</td>\n",
       "      <td>NaN</td>\n",
       "      <td>NaN</td>\n",
       "      <td>NaN</td>\n",
       "      <td>NaN</td>\n",
       "      <td>NaN</td>\n",
       "      <td>NaN</td>\n",
       "      <td>NaN</td>\n",
       "      <td>NaN</td>\n",
       "      <td>NaN</td>\n",
       "    </tr>\n",
       "    <tr>\n",
       "      <th>2008</th>\n",
       "      <td>146.0</td>\n",
       "      <td>282.0</td>\n",
       "      <td>NaN</td>\n",
       "      <td>NaN</td>\n",
       "      <td>492.0</td>\n",
       "      <td>146.0</td>\n",
       "      <td>138.0</td>\n",
       "      <td>191.0</td>\n",
       "      <td>NaN</td>\n",
       "      <td>NaN</td>\n",
       "      <td>...</td>\n",
       "      <td>1.0</td>\n",
       "      <td>NaN</td>\n",
       "      <td>NaN</td>\n",
       "      <td>NaN</td>\n",
       "      <td>NaN</td>\n",
       "      <td>NaN</td>\n",
       "      <td>NaN</td>\n",
       "      <td>NaN</td>\n",
       "      <td>NaN</td>\n",
       "      <td>NaN</td>\n",
       "    </tr>\n",
       "    <tr>\n",
       "      <th>2007</th>\n",
       "      <td>123.0</td>\n",
       "      <td>185.0</td>\n",
       "      <td>NaN</td>\n",
       "      <td>NaN</td>\n",
       "      <td>376.0</td>\n",
       "      <td>123.0</td>\n",
       "      <td>90.0</td>\n",
       "      <td>214.0</td>\n",
       "      <td>NaN</td>\n",
       "      <td>6.0</td>\n",
       "      <td>...</td>\n",
       "      <td>1.0</td>\n",
       "      <td>NaN</td>\n",
       "      <td>NaN</td>\n",
       "      <td>NaN</td>\n",
       "      <td>NaN</td>\n",
       "      <td>NaN</td>\n",
       "      <td>NaN</td>\n",
       "      <td>NaN</td>\n",
       "      <td>NaN</td>\n",
       "      <td>NaN</td>\n",
       "    </tr>\n",
       "    <tr>\n",
       "      <th>2006</th>\n",
       "      <td>93.0</td>\n",
       "      <td>44.0</td>\n",
       "      <td>NaN</td>\n",
       "      <td>NaN</td>\n",
       "      <td>201.0</td>\n",
       "      <td>93.0</td>\n",
       "      <td>27.0</td>\n",
       "      <td>259.0</td>\n",
       "      <td>NaN</td>\n",
       "      <td>39.0</td>\n",
       "      <td>...</td>\n",
       "      <td>NaN</td>\n",
       "      <td>NaN</td>\n",
       "      <td>NaN</td>\n",
       "      <td>NaN</td>\n",
       "      <td>NaN</td>\n",
       "      <td>NaN</td>\n",
       "      <td>NaN</td>\n",
       "      <td>NaN</td>\n",
       "      <td>NaN</td>\n",
       "      <td>NaN</td>\n",
       "    </tr>\n",
       "    <tr>\n",
       "      <th>2005</th>\n",
       "      <td>18.0</td>\n",
       "      <td>NaN</td>\n",
       "      <td>NaN</td>\n",
       "      <td>NaN</td>\n",
       "      <td>118.0</td>\n",
       "      <td>18.0</td>\n",
       "      <td>NaN</td>\n",
       "      <td>260.0</td>\n",
       "      <td>NaN</td>\n",
       "      <td>135.0</td>\n",
       "      <td>...</td>\n",
       "      <td>NaN</td>\n",
       "      <td>NaN</td>\n",
       "      <td>NaN</td>\n",
       "      <td>NaN</td>\n",
       "      <td>NaN</td>\n",
       "      <td>NaN</td>\n",
       "      <td>NaN</td>\n",
       "      <td>NaN</td>\n",
       "      <td>NaN</td>\n",
       "      <td>NaN</td>\n",
       "    </tr>\n",
       "    <tr>\n",
       "      <th>2004</th>\n",
       "      <td>NaN</td>\n",
       "      <td>NaN</td>\n",
       "      <td>NaN</td>\n",
       "      <td>NaN</td>\n",
       "      <td>23.0</td>\n",
       "      <td>NaN</td>\n",
       "      <td>NaN</td>\n",
       "      <td>259.0</td>\n",
       "      <td>NaN</td>\n",
       "      <td>175.0</td>\n",
       "      <td>...</td>\n",
       "      <td>NaN</td>\n",
       "      <td>NaN</td>\n",
       "      <td>NaN</td>\n",
       "      <td>NaN</td>\n",
       "      <td>NaN</td>\n",
       "      <td>NaN</td>\n",
       "      <td>NaN</td>\n",
       "      <td>NaN</td>\n",
       "      <td>NaN</td>\n",
       "      <td>NaN</td>\n",
       "    </tr>\n",
       "    <tr>\n",
       "      <th>2003</th>\n",
       "      <td>NaN</td>\n",
       "      <td>NaN</td>\n",
       "      <td>NaN</td>\n",
       "      <td>NaN</td>\n",
       "      <td>NaN</td>\n",
       "      <td>NaN</td>\n",
       "      <td>NaN</td>\n",
       "      <td>256.0</td>\n",
       "      <td>NaN</td>\n",
       "      <td>150.0</td>\n",
       "      <td>...</td>\n",
       "      <td>NaN</td>\n",
       "      <td>NaN</td>\n",
       "      <td>NaN</td>\n",
       "      <td>NaN</td>\n",
       "      <td>NaN</td>\n",
       "      <td>NaN</td>\n",
       "      <td>NaN</td>\n",
       "      <td>NaN</td>\n",
       "      <td>NaN</td>\n",
       "      <td>NaN</td>\n",
       "    </tr>\n",
       "    <tr>\n",
       "      <th>2002</th>\n",
       "      <td>NaN</td>\n",
       "      <td>NaN</td>\n",
       "      <td>NaN</td>\n",
       "      <td>NaN</td>\n",
       "      <td>NaN</td>\n",
       "      <td>NaN</td>\n",
       "      <td>NaN</td>\n",
       "      <td>280.0</td>\n",
       "      <td>NaN</td>\n",
       "      <td>198.0</td>\n",
       "      <td>...</td>\n",
       "      <td>1.0</td>\n",
       "      <td>NaN</td>\n",
       "      <td>NaN</td>\n",
       "      <td>NaN</td>\n",
       "      <td>NaN</td>\n",
       "      <td>NaN</td>\n",
       "      <td>NaN</td>\n",
       "      <td>NaN</td>\n",
       "      <td>NaN</td>\n",
       "      <td>NaN</td>\n",
       "    </tr>\n",
       "    <tr>\n",
       "      <th>2001</th>\n",
       "      <td>NaN</td>\n",
       "      <td>NaN</td>\n",
       "      <td>NaN</td>\n",
       "      <td>10.0</td>\n",
       "      <td>NaN</td>\n",
       "      <td>NaN</td>\n",
       "      <td>NaN</td>\n",
       "      <td>185.0</td>\n",
       "      <td>NaN</td>\n",
       "      <td>107.0</td>\n",
       "      <td>...</td>\n",
       "      <td>8.0</td>\n",
       "      <td>NaN</td>\n",
       "      <td>NaN</td>\n",
       "      <td>NaN</td>\n",
       "      <td>2.0</td>\n",
       "      <td>NaN</td>\n",
       "      <td>NaN</td>\n",
       "      <td>NaN</td>\n",
       "      <td>NaN</td>\n",
       "      <td>NaN</td>\n",
       "    </tr>\n",
       "    <tr>\n",
       "      <th>2000</th>\n",
       "      <td>NaN</td>\n",
       "      <td>NaN</td>\n",
       "      <td>NaN</td>\n",
       "      <td>17.0</td>\n",
       "      <td>NaN</td>\n",
       "      <td>NaN</td>\n",
       "      <td>NaN</td>\n",
       "      <td>82.0</td>\n",
       "      <td>NaN</td>\n",
       "      <td>1.0</td>\n",
       "      <td>...</td>\n",
       "      <td>20.0</td>\n",
       "      <td>NaN</td>\n",
       "      <td>NaN</td>\n",
       "      <td>NaN</td>\n",
       "      <td>2.0</td>\n",
       "      <td>NaN</td>\n",
       "      <td>NaN</td>\n",
       "      <td>NaN</td>\n",
       "      <td>NaN</td>\n",
       "      <td>NaN</td>\n",
       "    </tr>\n",
       "    <tr>\n",
       "      <th>1999</th>\n",
       "      <td>NaN</td>\n",
       "      <td>NaN</td>\n",
       "      <td>NaN</td>\n",
       "      <td>11.0</td>\n",
       "      <td>NaN</td>\n",
       "      <td>NaN</td>\n",
       "      <td>NaN</td>\n",
       "      <td>NaN</td>\n",
       "      <td>1.0</td>\n",
       "      <td>NaN</td>\n",
       "      <td>...</td>\n",
       "      <td>14.0</td>\n",
       "      <td>NaN</td>\n",
       "      <td>1.0</td>\n",
       "      <td>NaN</td>\n",
       "      <td>2.0</td>\n",
       "      <td>NaN</td>\n",
       "      <td>NaN</td>\n",
       "      <td>NaN</td>\n",
       "      <td>NaN</td>\n",
       "      <td>NaN</td>\n",
       "    </tr>\n",
       "    <tr>\n",
       "      <th>1998</th>\n",
       "      <td>NaN</td>\n",
       "      <td>NaN</td>\n",
       "      <td>NaN</td>\n",
       "      <td>8.0</td>\n",
       "      <td>NaN</td>\n",
       "      <td>NaN</td>\n",
       "      <td>NaN</td>\n",
       "      <td>NaN</td>\n",
       "      <td>2.0</td>\n",
       "      <td>NaN</td>\n",
       "      <td>...</td>\n",
       "      <td>7.0</td>\n",
       "      <td>NaN</td>\n",
       "      <td>29.0</td>\n",
       "      <td>NaN</td>\n",
       "      <td>NaN</td>\n",
       "      <td>NaN</td>\n",
       "      <td>NaN</td>\n",
       "      <td>NaN</td>\n",
       "      <td>NaN</td>\n",
       "      <td>NaN</td>\n",
       "    </tr>\n",
       "    <tr>\n",
       "      <th>1997</th>\n",
       "      <td>NaN</td>\n",
       "      <td>NaN</td>\n",
       "      <td>NaN</td>\n",
       "      <td>8.0</td>\n",
       "      <td>NaN</td>\n",
       "      <td>NaN</td>\n",
       "      <td>NaN</td>\n",
       "      <td>NaN</td>\n",
       "      <td>4.0</td>\n",
       "      <td>NaN</td>\n",
       "      <td>...</td>\n",
       "      <td>NaN</td>\n",
       "      <td>NaN</td>\n",
       "      <td>34.0</td>\n",
       "      <td>NaN</td>\n",
       "      <td>NaN</td>\n",
       "      <td>NaN</td>\n",
       "      <td>NaN</td>\n",
       "      <td>NaN</td>\n",
       "      <td>NaN</td>\n",
       "      <td>NaN</td>\n",
       "    </tr>\n",
       "    <tr>\n",
       "      <th>1996</th>\n",
       "      <td>NaN</td>\n",
       "      <td>NaN</td>\n",
       "      <td>NaN</td>\n",
       "      <td>6.0</td>\n",
       "      <td>NaN</td>\n",
       "      <td>NaN</td>\n",
       "      <td>NaN</td>\n",
       "      <td>NaN</td>\n",
       "      <td>30.0</td>\n",
       "      <td>NaN</td>\n",
       "      <td>...</td>\n",
       "      <td>NaN</td>\n",
       "      <td>NaN</td>\n",
       "      <td>38.0</td>\n",
       "      <td>NaN</td>\n",
       "      <td>NaN</td>\n",
       "      <td>2.0</td>\n",
       "      <td>NaN</td>\n",
       "      <td>NaN</td>\n",
       "      <td>NaN</td>\n",
       "      <td>1.0</td>\n",
       "    </tr>\n",
       "    <tr>\n",
       "      <th>1995</th>\n",
       "      <td>NaN</td>\n",
       "      <td>NaN</td>\n",
       "      <td>NaN</td>\n",
       "      <td>4.0</td>\n",
       "      <td>NaN</td>\n",
       "      <td>NaN</td>\n",
       "      <td>NaN</td>\n",
       "      <td>NaN</td>\n",
       "      <td>54.0</td>\n",
       "      <td>NaN</td>\n",
       "      <td>...</td>\n",
       "      <td>NaN</td>\n",
       "      <td>NaN</td>\n",
       "      <td>52.0</td>\n",
       "      <td>NaN</td>\n",
       "      <td>NaN</td>\n",
       "      <td>4.0</td>\n",
       "      <td>2.0</td>\n",
       "      <td>2.0</td>\n",
       "      <td>NaN</td>\n",
       "      <td>NaN</td>\n",
       "    </tr>\n",
       "    <tr>\n",
       "      <th>1994</th>\n",
       "      <td>NaN</td>\n",
       "      <td>NaN</td>\n",
       "      <td>1.0</td>\n",
       "      <td>3.0</td>\n",
       "      <td>NaN</td>\n",
       "      <td>NaN</td>\n",
       "      <td>NaN</td>\n",
       "      <td>NaN</td>\n",
       "      <td>53.0</td>\n",
       "      <td>NaN</td>\n",
       "      <td>...</td>\n",
       "      <td>NaN</td>\n",
       "      <td>NaN</td>\n",
       "      <td>19.0</td>\n",
       "      <td>5.0</td>\n",
       "      <td>NaN</td>\n",
       "      <td>4.0</td>\n",
       "      <td>NaN</td>\n",
       "      <td>1.0</td>\n",
       "      <td>NaN</td>\n",
       "      <td>NaN</td>\n",
       "    </tr>\n",
       "    <tr>\n",
       "      <th>1993</th>\n",
       "      <td>NaN</td>\n",
       "      <td>NaN</td>\n",
       "      <td>4.0</td>\n",
       "      <td>NaN</td>\n",
       "      <td>NaN</td>\n",
       "      <td>NaN</td>\n",
       "      <td>NaN</td>\n",
       "      <td>NaN</td>\n",
       "      <td>46.0</td>\n",
       "      <td>NaN</td>\n",
       "      <td>...</td>\n",
       "      <td>NaN</td>\n",
       "      <td>NaN</td>\n",
       "      <td>NaN</td>\n",
       "      <td>1.0</td>\n",
       "      <td>NaN</td>\n",
       "      <td>2.0</td>\n",
       "      <td>NaN</td>\n",
       "      <td>NaN</td>\n",
       "      <td>NaN</td>\n",
       "      <td>NaN</td>\n",
       "    </tr>\n",
       "    <tr>\n",
       "      <th>1992</th>\n",
       "      <td>NaN</td>\n",
       "      <td>NaN</td>\n",
       "      <td>3.0</td>\n",
       "      <td>7.0</td>\n",
       "      <td>NaN</td>\n",
       "      <td>NaN</td>\n",
       "      <td>NaN</td>\n",
       "      <td>NaN</td>\n",
       "      <td>21.0</td>\n",
       "      <td>NaN</td>\n",
       "      <td>...</td>\n",
       "      <td>NaN</td>\n",
       "      <td>NaN</td>\n",
       "      <td>NaN</td>\n",
       "      <td>NaN</td>\n",
       "      <td>NaN</td>\n",
       "      <td>NaN</td>\n",
       "      <td>NaN</td>\n",
       "      <td>NaN</td>\n",
       "      <td>1.0</td>\n",
       "      <td>NaN</td>\n",
       "    </tr>\n",
       "    <tr>\n",
       "      <th>1991</th>\n",
       "      <td>NaN</td>\n",
       "      <td>NaN</td>\n",
       "      <td>7.0</td>\n",
       "      <td>9.0</td>\n",
       "      <td>NaN</td>\n",
       "      <td>NaN</td>\n",
       "      <td>NaN</td>\n",
       "      <td>NaN</td>\n",
       "      <td>24.0</td>\n",
       "      <td>NaN</td>\n",
       "      <td>...</td>\n",
       "      <td>NaN</td>\n",
       "      <td>NaN</td>\n",
       "      <td>NaN</td>\n",
       "      <td>NaN</td>\n",
       "      <td>NaN</td>\n",
       "      <td>NaN</td>\n",
       "      <td>NaN</td>\n",
       "      <td>NaN</td>\n",
       "      <td>NaN</td>\n",
       "      <td>NaN</td>\n",
       "    </tr>\n",
       "    <tr>\n",
       "      <th>1990</th>\n",
       "      <td>NaN</td>\n",
       "      <td>NaN</td>\n",
       "      <td>8.0</td>\n",
       "      <td>3.0</td>\n",
       "      <td>NaN</td>\n",
       "      <td>NaN</td>\n",
       "      <td>NaN</td>\n",
       "      <td>NaN</td>\n",
       "      <td>4.0</td>\n",
       "      <td>NaN</td>\n",
       "      <td>...</td>\n",
       "      <td>NaN</td>\n",
       "      <td>NaN</td>\n",
       "      <td>NaN</td>\n",
       "      <td>NaN</td>\n",
       "      <td>NaN</td>\n",
       "      <td>NaN</td>\n",
       "      <td>NaN</td>\n",
       "      <td>NaN</td>\n",
       "      <td>NaN</td>\n",
       "      <td>NaN</td>\n",
       "    </tr>\n",
       "    <tr>\n",
       "      <th>1989</th>\n",
       "      <td>NaN</td>\n",
       "      <td>NaN</td>\n",
       "      <td>5.0</td>\n",
       "      <td>10.0</td>\n",
       "      <td>NaN</td>\n",
       "      <td>NaN</td>\n",
       "      <td>NaN</td>\n",
       "      <td>NaN</td>\n",
       "      <td>NaN</td>\n",
       "      <td>NaN</td>\n",
       "      <td>...</td>\n",
       "      <td>NaN</td>\n",
       "      <td>NaN</td>\n",
       "      <td>NaN</td>\n",
       "      <td>NaN</td>\n",
       "      <td>NaN</td>\n",
       "      <td>NaN</td>\n",
       "      <td>NaN</td>\n",
       "      <td>NaN</td>\n",
       "      <td>NaN</td>\n",
       "      <td>NaN</td>\n",
       "    </tr>\n",
       "    <tr>\n",
       "      <th>1988</th>\n",
       "      <td>NaN</td>\n",
       "      <td>NaN</td>\n",
       "      <td>11.0</td>\n",
       "      <td>1.0</td>\n",
       "      <td>NaN</td>\n",
       "      <td>NaN</td>\n",
       "      <td>NaN</td>\n",
       "      <td>NaN</td>\n",
       "      <td>NaN</td>\n",
       "      <td>NaN</td>\n",
       "      <td>...</td>\n",
       "      <td>NaN</td>\n",
       "      <td>NaN</td>\n",
       "      <td>NaN</td>\n",
       "      <td>NaN</td>\n",
       "      <td>NaN</td>\n",
       "      <td>NaN</td>\n",
       "      <td>NaN</td>\n",
       "      <td>NaN</td>\n",
       "      <td>NaN</td>\n",
       "      <td>NaN</td>\n",
       "    </tr>\n",
       "    <tr>\n",
       "      <th>1987</th>\n",
       "      <td>NaN</td>\n",
       "      <td>NaN</td>\n",
       "      <td>10.0</td>\n",
       "      <td>NaN</td>\n",
       "      <td>NaN</td>\n",
       "      <td>NaN</td>\n",
       "      <td>NaN</td>\n",
       "      <td>NaN</td>\n",
       "      <td>NaN</td>\n",
       "      <td>NaN</td>\n",
       "      <td>...</td>\n",
       "      <td>NaN</td>\n",
       "      <td>NaN</td>\n",
       "      <td>NaN</td>\n",
       "      <td>NaN</td>\n",
       "      <td>NaN</td>\n",
       "      <td>NaN</td>\n",
       "      <td>NaN</td>\n",
       "      <td>NaN</td>\n",
       "      <td>NaN</td>\n",
       "      <td>NaN</td>\n",
       "    </tr>\n",
       "    <tr>\n",
       "      <th>1986</th>\n",
       "      <td>NaN</td>\n",
       "      <td>NaN</td>\n",
       "      <td>19.0</td>\n",
       "      <td>NaN</td>\n",
       "      <td>NaN</td>\n",
       "      <td>NaN</td>\n",
       "      <td>NaN</td>\n",
       "      <td>NaN</td>\n",
       "      <td>NaN</td>\n",
       "      <td>NaN</td>\n",
       "      <td>...</td>\n",
       "      <td>NaN</td>\n",
       "      <td>NaN</td>\n",
       "      <td>NaN</td>\n",
       "      <td>NaN</td>\n",
       "      <td>NaN</td>\n",
       "      <td>NaN</td>\n",
       "      <td>NaN</td>\n",
       "      <td>NaN</td>\n",
       "      <td>NaN</td>\n",
       "      <td>NaN</td>\n",
       "    </tr>\n",
       "    <tr>\n",
       "      <th>1985</th>\n",
       "      <td>NaN</td>\n",
       "      <td>NaN</td>\n",
       "      <td>11.0</td>\n",
       "      <td>NaN</td>\n",
       "      <td>1.0</td>\n",
       "      <td>NaN</td>\n",
       "      <td>NaN</td>\n",
       "      <td>NaN</td>\n",
       "      <td>NaN</td>\n",
       "      <td>NaN</td>\n",
       "      <td>...</td>\n",
       "      <td>NaN</td>\n",
       "      <td>NaN</td>\n",
       "      <td>NaN</td>\n",
       "      <td>NaN</td>\n",
       "      <td>NaN</td>\n",
       "      <td>NaN</td>\n",
       "      <td>NaN</td>\n",
       "      <td>NaN</td>\n",
       "      <td>NaN</td>\n",
       "      <td>NaN</td>\n",
       "    </tr>\n",
       "    <tr>\n",
       "      <th>1984</th>\n",
       "      <td>NaN</td>\n",
       "      <td>NaN</td>\n",
       "      <td>13.0</td>\n",
       "      <td>NaN</td>\n",
       "      <td>NaN</td>\n",
       "      <td>NaN</td>\n",
       "      <td>NaN</td>\n",
       "      <td>NaN</td>\n",
       "      <td>NaN</td>\n",
       "      <td>NaN</td>\n",
       "      <td>...</td>\n",
       "      <td>NaN</td>\n",
       "      <td>NaN</td>\n",
       "      <td>NaN</td>\n",
       "      <td>NaN</td>\n",
       "      <td>NaN</td>\n",
       "      <td>NaN</td>\n",
       "      <td>NaN</td>\n",
       "      <td>NaN</td>\n",
       "      <td>NaN</td>\n",
       "      <td>NaN</td>\n",
       "    </tr>\n",
       "    <tr>\n",
       "      <th>1983</th>\n",
       "      <td>NaN</td>\n",
       "      <td>NaN</td>\n",
       "      <td>6.0</td>\n",
       "      <td>NaN</td>\n",
       "      <td>NaN</td>\n",
       "      <td>NaN</td>\n",
       "      <td>NaN</td>\n",
       "      <td>NaN</td>\n",
       "      <td>NaN</td>\n",
       "      <td>NaN</td>\n",
       "      <td>...</td>\n",
       "      <td>NaN</td>\n",
       "      <td>NaN</td>\n",
       "      <td>NaN</td>\n",
       "      <td>NaN</td>\n",
       "      <td>NaN</td>\n",
       "      <td>NaN</td>\n",
       "      <td>NaN</td>\n",
       "      <td>NaN</td>\n",
       "      <td>NaN</td>\n",
       "      <td>NaN</td>\n",
       "    </tr>\n",
       "    <tr>\n",
       "      <th>1982</th>\n",
       "      <td>NaN</td>\n",
       "      <td>NaN</td>\n",
       "      <td>NaN</td>\n",
       "      <td>NaN</td>\n",
       "      <td>NaN</td>\n",
       "      <td>NaN</td>\n",
       "      <td>NaN</td>\n",
       "      <td>NaN</td>\n",
       "      <td>NaN</td>\n",
       "      <td>NaN</td>\n",
       "      <td>...</td>\n",
       "      <td>NaN</td>\n",
       "      <td>NaN</td>\n",
       "      <td>NaN</td>\n",
       "      <td>NaN</td>\n",
       "      <td>NaN</td>\n",
       "      <td>NaN</td>\n",
       "      <td>NaN</td>\n",
       "      <td>NaN</td>\n",
       "      <td>NaN</td>\n",
       "      <td>NaN</td>\n",
       "    </tr>\n",
       "    <tr>\n",
       "      <th>1981</th>\n",
       "      <td>NaN</td>\n",
       "      <td>NaN</td>\n",
       "      <td>NaN</td>\n",
       "      <td>NaN</td>\n",
       "      <td>NaN</td>\n",
       "      <td>NaN</td>\n",
       "      <td>NaN</td>\n",
       "      <td>NaN</td>\n",
       "      <td>NaN</td>\n",
       "      <td>NaN</td>\n",
       "      <td>...</td>\n",
       "      <td>NaN</td>\n",
       "      <td>NaN</td>\n",
       "      <td>NaN</td>\n",
       "      <td>NaN</td>\n",
       "      <td>NaN</td>\n",
       "      <td>NaN</td>\n",
       "      <td>NaN</td>\n",
       "      <td>NaN</td>\n",
       "      <td>NaN</td>\n",
       "      <td>NaN</td>\n",
       "    </tr>\n",
       "    <tr>\n",
       "      <th>1980</th>\n",
       "      <td>NaN</td>\n",
       "      <td>NaN</td>\n",
       "      <td>NaN</td>\n",
       "      <td>NaN</td>\n",
       "      <td>NaN</td>\n",
       "      <td>NaN</td>\n",
       "      <td>NaN</td>\n",
       "      <td>NaN</td>\n",
       "      <td>NaN</td>\n",
       "      <td>NaN</td>\n",
       "      <td>...</td>\n",
       "      <td>NaN</td>\n",
       "      <td>NaN</td>\n",
       "      <td>NaN</td>\n",
       "      <td>NaN</td>\n",
       "      <td>NaN</td>\n",
       "      <td>NaN</td>\n",
       "      <td>NaN</td>\n",
       "      <td>NaN</td>\n",
       "      <td>NaN</td>\n",
       "      <td>NaN</td>\n",
       "    </tr>\n",
       "    <tr>\n",
       "      <th>-1</th>\n",
       "      <td>30.0</td>\n",
       "      <td>34.0</td>\n",
       "      <td>NaN</td>\n",
       "      <td>1.0</td>\n",
       "      <td>30.0</td>\n",
       "      <td>30.0</td>\n",
       "      <td>25.0</td>\n",
       "      <td>34.0</td>\n",
       "      <td>NaN</td>\n",
       "      <td>11.0</td>\n",
       "      <td>...</td>\n",
       "      <td>NaN</td>\n",
       "      <td>1.0</td>\n",
       "      <td>NaN</td>\n",
       "      <td>NaN</td>\n",
       "      <td>NaN</td>\n",
       "      <td>NaN</td>\n",
       "      <td>NaN</td>\n",
       "      <td>NaN</td>\n",
       "      <td>NaN</td>\n",
       "      <td>NaN</td>\n",
       "    </tr>\n",
       "  </tbody>\n",
       "</table>\n",
       "<p>38 rows × 32 columns</p>\n",
       "</div>"
      ],
      "text/plain": [
       "                 ventas_x360    Wii   NES    GB     DS   X360    PS3    PS2  \\\n",
       "year_of_release                                                               \n",
       " 2016                   13.0    1.0   NaN   NaN    NaN   13.0   38.0    NaN   \n",
       " 2015                   35.0    4.0   NaN   NaN    NaN   35.0   73.0    NaN   \n",
       " 2014                   63.0    6.0   NaN   NaN    NaN   63.0  108.0    NaN   \n",
       " 2013                   75.0   12.0   NaN   NaN    8.0   75.0  126.0    NaN   \n",
       " 2012                  106.0   31.0   NaN   NaN   23.0  106.0  148.0    NaN   \n",
       " 2011                  206.0  143.0   NaN   NaN  153.0  206.0  215.0    7.0   \n",
       " 2010                  182.0  253.0   NaN   NaN  323.0  182.0  181.0   38.0   \n",
       " 2009                  172.0  325.0   NaN   NaN  403.0  172.0  162.0   96.0   \n",
       " 2008                  146.0  282.0   NaN   NaN  492.0  146.0  138.0  191.0   \n",
       " 2007                  123.0  185.0   NaN   NaN  376.0  123.0   90.0  214.0   \n",
       " 2006                   93.0   44.0   NaN   NaN  201.0   93.0   27.0  259.0   \n",
       " 2005                   18.0    NaN   NaN   NaN  118.0   18.0    NaN  260.0   \n",
       " 2004                    NaN    NaN   NaN   NaN   23.0    NaN    NaN  259.0   \n",
       " 2003                    NaN    NaN   NaN   NaN    NaN    NaN    NaN  256.0   \n",
       " 2002                    NaN    NaN   NaN   NaN    NaN    NaN    NaN  280.0   \n",
       " 2001                    NaN    NaN   NaN  10.0    NaN    NaN    NaN  185.0   \n",
       " 2000                    NaN    NaN   NaN  17.0    NaN    NaN    NaN   82.0   \n",
       " 1999                    NaN    NaN   NaN  11.0    NaN    NaN    NaN    NaN   \n",
       " 1998                    NaN    NaN   NaN   8.0    NaN    NaN    NaN    NaN   \n",
       " 1997                    NaN    NaN   NaN   8.0    NaN    NaN    NaN    NaN   \n",
       " 1996                    NaN    NaN   NaN   6.0    NaN    NaN    NaN    NaN   \n",
       " 1995                    NaN    NaN   NaN   4.0    NaN    NaN    NaN    NaN   \n",
       " 1994                    NaN    NaN   1.0   3.0    NaN    NaN    NaN    NaN   \n",
       " 1993                    NaN    NaN   4.0   NaN    NaN    NaN    NaN    NaN   \n",
       " 1992                    NaN    NaN   3.0   7.0    NaN    NaN    NaN    NaN   \n",
       " 1991                    NaN    NaN   7.0   9.0    NaN    NaN    NaN    NaN   \n",
       " 1990                    NaN    NaN   8.0   3.0    NaN    NaN    NaN    NaN   \n",
       " 1989                    NaN    NaN   5.0  10.0    NaN    NaN    NaN    NaN   \n",
       " 1988                    NaN    NaN  11.0   1.0    NaN    NaN    NaN    NaN   \n",
       " 1987                    NaN    NaN  10.0   NaN    NaN    NaN    NaN    NaN   \n",
       " 1986                    NaN    NaN  19.0   NaN    NaN    NaN    NaN    NaN   \n",
       " 1985                    NaN    NaN  11.0   NaN    1.0    NaN    NaN    NaN   \n",
       " 1984                    NaN    NaN  13.0   NaN    NaN    NaN    NaN    NaN   \n",
       " 1983                    NaN    NaN   6.0   NaN    NaN    NaN    NaN    NaN   \n",
       " 1982                    NaN    NaN   NaN   NaN    NaN    NaN    NaN    NaN   \n",
       " 1981                    NaN    NaN   NaN   NaN    NaN    NaN    NaN    NaN   \n",
       " 1980                    NaN    NaN   NaN   NaN    NaN    NaN    NaN    NaN   \n",
       "-1                      30.0   34.0   NaN   1.0   30.0   30.0   25.0   34.0   \n",
       "\n",
       "                 SNES    GBA  ...    DC    PSV   SAT  SCD   WS   NG  TG16  \\\n",
       "year_of_release               ...                                           \n",
       " 2016             NaN    NaN  ...   NaN   85.0   NaN  NaN  NaN  NaN   NaN   \n",
       " 2015             NaN    NaN  ...   NaN  110.0   NaN  NaN  NaN  NaN   NaN   \n",
       " 2014             NaN    NaN  ...   NaN  100.0   NaN  NaN  NaN  NaN   NaN   \n",
       " 2013             NaN    NaN  ...   NaN   63.0   NaN  NaN  NaN  NaN   NaN   \n",
       " 2012             NaN    NaN  ...   NaN   53.0   NaN  NaN  NaN  NaN   NaN   \n",
       " 2011             NaN    NaN  ...   NaN   18.0   NaN  NaN  NaN  NaN   NaN   \n",
       " 2010             NaN    NaN  ...   NaN    NaN   NaN  NaN  NaN  NaN   NaN   \n",
       " 2009             NaN    NaN  ...   NaN    NaN   NaN  NaN  NaN  NaN   NaN   \n",
       " 2008             NaN    NaN  ...   1.0    NaN   NaN  NaN  NaN  NaN   NaN   \n",
       " 2007             NaN    6.0  ...   1.0    NaN   NaN  NaN  NaN  NaN   NaN   \n",
       " 2006             NaN   39.0  ...   NaN    NaN   NaN  NaN  NaN  NaN   NaN   \n",
       " 2005             NaN  135.0  ...   NaN    NaN   NaN  NaN  NaN  NaN   NaN   \n",
       " 2004             NaN  175.0  ...   NaN    NaN   NaN  NaN  NaN  NaN   NaN   \n",
       " 2003             NaN  150.0  ...   NaN    NaN   NaN  NaN  NaN  NaN   NaN   \n",
       " 2002             NaN  198.0  ...   1.0    NaN   NaN  NaN  NaN  NaN   NaN   \n",
       " 2001             NaN  107.0  ...   8.0    NaN   NaN  NaN  2.0  NaN   NaN   \n",
       " 2000             NaN    1.0  ...  20.0    NaN   NaN  NaN  2.0  NaN   NaN   \n",
       " 1999             1.0    NaN  ...  14.0    NaN   1.0  NaN  2.0  NaN   NaN   \n",
       " 1998             2.0    NaN  ...   7.0    NaN  29.0  NaN  NaN  NaN   NaN   \n",
       " 1997             4.0    NaN  ...   NaN    NaN  34.0  NaN  NaN  NaN   NaN   \n",
       " 1996            30.0    NaN  ...   NaN    NaN  38.0  NaN  NaN  2.0   NaN   \n",
       " 1995            54.0    NaN  ...   NaN    NaN  52.0  NaN  NaN  4.0   2.0   \n",
       " 1994            53.0    NaN  ...   NaN    NaN  19.0  5.0  NaN  4.0   NaN   \n",
       " 1993            46.0    NaN  ...   NaN    NaN   NaN  1.0  NaN  2.0   NaN   \n",
       " 1992            21.0    NaN  ...   NaN    NaN   NaN  NaN  NaN  NaN   NaN   \n",
       " 1991            24.0    NaN  ...   NaN    NaN   NaN  NaN  NaN  NaN   NaN   \n",
       " 1990             4.0    NaN  ...   NaN    NaN   NaN  NaN  NaN  NaN   NaN   \n",
       " 1989             NaN    NaN  ...   NaN    NaN   NaN  NaN  NaN  NaN   NaN   \n",
       " 1988             NaN    NaN  ...   NaN    NaN   NaN  NaN  NaN  NaN   NaN   \n",
       " 1987             NaN    NaN  ...   NaN    NaN   NaN  NaN  NaN  NaN   NaN   \n",
       " 1986             NaN    NaN  ...   NaN    NaN   NaN  NaN  NaN  NaN   NaN   \n",
       " 1985             NaN    NaN  ...   NaN    NaN   NaN  NaN  NaN  NaN   NaN   \n",
       " 1984             NaN    NaN  ...   NaN    NaN   NaN  NaN  NaN  NaN   NaN   \n",
       " 1983             NaN    NaN  ...   NaN    NaN   NaN  NaN  NaN  NaN   NaN   \n",
       " 1982             NaN    NaN  ...   NaN    NaN   NaN  NaN  NaN  NaN   NaN   \n",
       " 1981             NaN    NaN  ...   NaN    NaN   NaN  NaN  NaN  NaN   NaN   \n",
       " 1980             NaN    NaN  ...   NaN    NaN   NaN  NaN  NaN  NaN   NaN   \n",
       "-1                NaN   11.0  ...   NaN    1.0   NaN  NaN  NaN  NaN   NaN   \n",
       "\n",
       "                 3DO   GG  PCFX  \n",
       "year_of_release                  \n",
       " 2016            NaN  NaN   NaN  \n",
       " 2015            NaN  NaN   NaN  \n",
       " 2014            NaN  NaN   NaN  \n",
       " 2013            NaN  NaN   NaN  \n",
       " 2012            NaN  NaN   NaN  \n",
       " 2011            NaN  NaN   NaN  \n",
       " 2010            NaN  NaN   NaN  \n",
       " 2009            NaN  NaN   NaN  \n",
       " 2008            NaN  NaN   NaN  \n",
       " 2007            NaN  NaN   NaN  \n",
       " 2006            NaN  NaN   NaN  \n",
       " 2005            NaN  NaN   NaN  \n",
       " 2004            NaN  NaN   NaN  \n",
       " 2003            NaN  NaN   NaN  \n",
       " 2002            NaN  NaN   NaN  \n",
       " 2001            NaN  NaN   NaN  \n",
       " 2000            NaN  NaN   NaN  \n",
       " 1999            NaN  NaN   NaN  \n",
       " 1998            NaN  NaN   NaN  \n",
       " 1997            NaN  NaN   NaN  \n",
       " 1996            NaN  NaN   1.0  \n",
       " 1995            2.0  NaN   NaN  \n",
       " 1994            1.0  NaN   NaN  \n",
       " 1993            NaN  NaN   NaN  \n",
       " 1992            NaN  1.0   NaN  \n",
       " 1991            NaN  NaN   NaN  \n",
       " 1990            NaN  NaN   NaN  \n",
       " 1989            NaN  NaN   NaN  \n",
       " 1988            NaN  NaN   NaN  \n",
       " 1987            NaN  NaN   NaN  \n",
       " 1986            NaN  NaN   NaN  \n",
       " 1985            NaN  NaN   NaN  \n",
       " 1984            NaN  NaN   NaN  \n",
       " 1983            NaN  NaN   NaN  \n",
       " 1982            NaN  NaN   NaN  \n",
       " 1981            NaN  NaN   NaN  \n",
       " 1980            NaN  NaN   NaN  \n",
       "-1               NaN  NaN   NaN  \n",
       "\n",
       "[38 rows x 32 columns]"
      ]
     },
     "execution_count": 115,
     "metadata": {},
     "output_type": "execute_result"
    }
   ],
   "source": [
    "# Calcula las ventas anuales para todas las plataformas\n",
    "df_ventas = pd.DataFrame(ventas_x360)\n",
    "\n",
    "for plataforma in nombres_plataformas:\n",
    "    ventas_por_año = df[df['platform'] == plataforma]\n",
    "    ventas_por_año = ventas_por_año.groupby('year_of_release')['name'].count().rename(plataforma)\n",
    "    ventas_por_año = pd.DataFrame(ventas_por_año)\n",
    "    df_ventas = df_ventas.merge(ventas_por_año, how='outer', on='year_of_release')\n",
    "    \n",
    "df_ventas = df_ventas.sort_index(ascending=False)\n",
    "df_ventas"
   ]
  },
  {
   "cell_type": "markdown",
   "id": "d6165464",
   "metadata": {},
   "source": [
    "<div class=\"alert alert-block alert-success\">\n",
    "<b>Comentario de Revisor</b> <a class=\"tocSkip\"></a>\n",
    "\n",
    "Muy bien, correcto.\n",
    "\n",
    "</div>"
   ]
  },
  {
   "cell_type": "markdown",
   "id": "0e1efa3a",
   "metadata": {},
   "source": [
    "<div class=\"alert alert-block alert-danger\">\n",
    "<b>Comentario de Revisor</b> <a class=\"tocSkip\"></a>\n",
    "\n",
    "Grafica la data anterior Puedes usar lineplot de seaborn para graficarlo rápidamente\n",
    "    \n",
    "    sns.lineplot(data=df_ventas.query('year_of_release>0'))\n",
    "    \n",
    "le sacamos los del año 0 para que no arruinen el gráfico. Usa ese código y agranda el tamaño para ver mejor las consolas    \n",
    "\n",
    "</div>"
   ]
  },
  {
   "cell_type": "code",
   "execution_count": 117,
   "id": "e3e8509d",
   "metadata": {},
   "outputs": [
    {
     "data": {
      "text/plain": [
       "Text(0.5, 1.0, 'Ventas Totales por Año de Lanzamiento')"
      ]
     },
     "execution_count": 117,
     "metadata": {},
     "output_type": "execute_result"
    },
    {
     "data": {
      "image/png": "[encoded data removed]",
      "text/plain": [
       "<Figure size 640x480 with 1 Axes>"
      ]
     },
     "metadata": {},
     "output_type": "display_data"
    }
   ],
   "source": [
    "sns.lineplot(data=df_ventas.query('year_of_release>0'))\n",
    "plt.xlabel('Año de Lanzamiento')\n",
    "plt.ylabel('Ventas Totales')\n",
    "plt.title('Ventas Totales por Año de Lanzamiento')"
   ]
  },
  {
   "cell_type": "markdown",
   "id": "485815f5",
   "metadata": {},
   "source": [
    "<div class=\"alert alert-block alert-warning\">\n",
    "<b>Comentario de Revisor v2</b> <a class=\"tocSkip\"></a>\n",
    "\n",
    "Ok, bien, pero el gráfico está un poco pequeño, te sugiero agrandarlo\n",
    "\n",
    "</div>"
   ]
  },
  {
   "cell_type": "code",
   "execution_count": 31,
   "id": "fd8a44c4",
   "metadata": {},
   "outputs": [
    {
     "data": {
      "text/plain": [
       "<AxesSubplot:xlabel='year_of_release'>"
      ]
     },
     "execution_count": 31,
     "metadata": {},
     "output_type": "execute_result"
    },
    {
     "data": {
      "image/png": "[encoded data removed]",
      "text/plain": [
       "<Figure size 1000x500 with 1 Axes>"
      ]
     },
     "metadata": {},
     "output_type": "display_data"
    }
   ],
   "source": [
    "df_xbox360 = df_ventas.groupby('year_of_release')['X360'].sum().rename('ventas_x360').reset_index()\n",
    "filtered_df_xbox360 = df_xbox360[df_xbox360['year_of_release'] > 2003]\n",
    "filtered_df_xbox360.plot(x='year_of_release', y='ventas_x360', kind='bar', figsize=(10,5), xlim=[2003,2016])"
   ]
  },
  {
   "cell_type": "code",
   "execution_count": 32,
   "id": "a378feb8",
   "metadata": {},
   "outputs": [
    {
     "name": "stdout",
     "output_type": "stream",
     "text": [
      "   platform   min   max\n",
      "0      2600  1980  1989\n",
      "1       3DO  1994  1995\n",
      "2       3DS  2011  2016\n",
      "3        DC  1998  2008\n",
      "4        DS  1985  2013\n",
      "5        GB  1988  2001\n",
      "6       GBA  2000  2007\n",
      "7        GC  2001  2007\n",
      "8       GEN  1990  1994\n",
      "9        GG  1992  1992\n",
      "10      N64  1996  2002\n",
      "11      NES  1983  1994\n",
      "12       NG  1993  1996\n",
      "13       PC  1985  2016\n",
      "14     PCFX  1996  1996\n",
      "15       PS  1994  2003\n",
      "16      PS2  2000  2011\n",
      "17      PS3  2006  2016\n",
      "18      PS4  2013  2016\n",
      "19      PSP  2004  2015\n",
      "20      PSV  2011  2016\n",
      "21      SAT  1994  1999\n",
      "22      SCD  1993  1994\n",
      "23     SNES  1990  1999\n",
      "24     TG16  1995  1995\n",
      "25       WS  1999  2001\n",
      "26      Wii  2006  2016\n",
      "27     WiiU  2012  2016\n",
      "28     X360  2005  2016\n",
      "29       XB  2000  2008\n",
      "30     XOne  2013  2016\n"
     ]
    }
   ],
   "source": [
    "# filtra los datos para no incluir los valores ausentes\n",
    "df_filtered = df[df['year_of_release'] > 0]\n",
    "\n",
    "# Calcula el primer y el último año en que se lanzó un videojuego para cada plataforma\n",
    "df_grouped = df_filtered.groupby('platform')['year_of_release'].agg(['min', 'max']).reset_index()\n",
    "print(df_grouped)"
   ]
  },
  {
   "cell_type": "code",
   "execution_count": 33,
   "id": "02507c44",
   "metadata": {},
   "outputs": [
    {
     "data": {
      "text/html": [
       "<div>\n",
       "<style scoped>\n",
       "    .dataframe tbody tr th:only-of-type {\n",
       "        vertical-align: middle;\n",
       "    }\n",
       "\n",
       "    .dataframe tbody tr th {\n",
       "        vertical-align: top;\n",
       "    }\n",
       "\n",
       "    .dataframe thead th {\n",
       "        text-align: right;\n",
       "    }\n",
       "</style>\n",
       "<table border=\"1\" class=\"dataframe\">\n",
       "  <thead>\n",
       "    <tr style=\"text-align: right;\">\n",
       "      <th></th>\n",
       "      <th>platform</th>\n",
       "      <th>min</th>\n",
       "      <th>max</th>\n",
       "      <th>duracion</th>\n",
       "    </tr>\n",
       "  </thead>\n",
       "  <tbody>\n",
       "    <tr>\n",
       "      <th>0</th>\n",
       "      <td>2600</td>\n",
       "      <td>1980</td>\n",
       "      <td>1989</td>\n",
       "      <td>9</td>\n",
       "    </tr>\n",
       "    <tr>\n",
       "      <th>1</th>\n",
       "      <td>3DO</td>\n",
       "      <td>1994</td>\n",
       "      <td>1995</td>\n",
       "      <td>1</td>\n",
       "    </tr>\n",
       "    <tr>\n",
       "      <th>2</th>\n",
       "      <td>3DS</td>\n",
       "      <td>2011</td>\n",
       "      <td>2016</td>\n",
       "      <td>5</td>\n",
       "    </tr>\n",
       "    <tr>\n",
       "      <th>3</th>\n",
       "      <td>DC</td>\n",
       "      <td>1998</td>\n",
       "      <td>2008</td>\n",
       "      <td>10</td>\n",
       "    </tr>\n",
       "    <tr>\n",
       "      <th>4</th>\n",
       "      <td>DS</td>\n",
       "      <td>1985</td>\n",
       "      <td>2013</td>\n",
       "      <td>28</td>\n",
       "    </tr>\n",
       "    <tr>\n",
       "      <th>5</th>\n",
       "      <td>GB</td>\n",
       "      <td>1988</td>\n",
       "      <td>2001</td>\n",
       "      <td>13</td>\n",
       "    </tr>\n",
       "    <tr>\n",
       "      <th>6</th>\n",
       "      <td>GBA</td>\n",
       "      <td>2000</td>\n",
       "      <td>2007</td>\n",
       "      <td>7</td>\n",
       "    </tr>\n",
       "    <tr>\n",
       "      <th>7</th>\n",
       "      <td>GC</td>\n",
       "      <td>2001</td>\n",
       "      <td>2007</td>\n",
       "      <td>6</td>\n",
       "    </tr>\n",
       "    <tr>\n",
       "      <th>8</th>\n",
       "      <td>GEN</td>\n",
       "      <td>1990</td>\n",
       "      <td>1994</td>\n",
       "      <td>4</td>\n",
       "    </tr>\n",
       "    <tr>\n",
       "      <th>9</th>\n",
       "      <td>GG</td>\n",
       "      <td>1992</td>\n",
       "      <td>1992</td>\n",
       "      <td>0</td>\n",
       "    </tr>\n",
       "    <tr>\n",
       "      <th>10</th>\n",
       "      <td>N64</td>\n",
       "      <td>1996</td>\n",
       "      <td>2002</td>\n",
       "      <td>6</td>\n",
       "    </tr>\n",
       "    <tr>\n",
       "      <th>11</th>\n",
       "      <td>NES</td>\n",
       "      <td>1983</td>\n",
       "      <td>1994</td>\n",
       "      <td>11</td>\n",
       "    </tr>\n",
       "    <tr>\n",
       "      <th>12</th>\n",
       "      <td>NG</td>\n",
       "      <td>1993</td>\n",
       "      <td>1996</td>\n",
       "      <td>3</td>\n",
       "    </tr>\n",
       "    <tr>\n",
       "      <th>13</th>\n",
       "      <td>PC</td>\n",
       "      <td>1985</td>\n",
       "      <td>2016</td>\n",
       "      <td>31</td>\n",
       "    </tr>\n",
       "    <tr>\n",
       "      <th>14</th>\n",
       "      <td>PCFX</td>\n",
       "      <td>1996</td>\n",
       "      <td>1996</td>\n",
       "      <td>0</td>\n",
       "    </tr>\n",
       "    <tr>\n",
       "      <th>15</th>\n",
       "      <td>PS</td>\n",
       "      <td>1994</td>\n",
       "      <td>2003</td>\n",
       "      <td>9</td>\n",
       "    </tr>\n",
       "    <tr>\n",
       "      <th>16</th>\n",
       "      <td>PS2</td>\n",
       "      <td>2000</td>\n",
       "      <td>2011</td>\n",
       "      <td>11</td>\n",
       "    </tr>\n",
       "    <tr>\n",
       "      <th>17</th>\n",
       "      <td>PS3</td>\n",
       "      <td>2006</td>\n",
       "      <td>2016</td>\n",
       "      <td>10</td>\n",
       "    </tr>\n",
       "    <tr>\n",
       "      <th>18</th>\n",
       "      <td>PS4</td>\n",
       "      <td>2013</td>\n",
       "      <td>2016</td>\n",
       "      <td>3</td>\n",
       "    </tr>\n",
       "    <tr>\n",
       "      <th>19</th>\n",
       "      <td>PSP</td>\n",
       "      <td>2004</td>\n",
       "      <td>2015</td>\n",
       "      <td>11</td>\n",
       "    </tr>\n",
       "    <tr>\n",
       "      <th>20</th>\n",
       "      <td>PSV</td>\n",
       "      <td>2011</td>\n",
       "      <td>2016</td>\n",
       "      <td>5</td>\n",
       "    </tr>\n",
       "    <tr>\n",
       "      <th>21</th>\n",
       "      <td>SAT</td>\n",
       "      <td>1994</td>\n",
       "      <td>1999</td>\n",
       "      <td>5</td>\n",
       "    </tr>\n",
       "    <tr>\n",
       "      <th>22</th>\n",
       "      <td>SCD</td>\n",
       "      <td>1993</td>\n",
       "      <td>1994</td>\n",
       "      <td>1</td>\n",
       "    </tr>\n",
       "    <tr>\n",
       "      <th>23</th>\n",
       "      <td>SNES</td>\n",
       "      <td>1990</td>\n",
       "      <td>1999</td>\n",
       "      <td>9</td>\n",
       "    </tr>\n",
       "    <tr>\n",
       "      <th>24</th>\n",
       "      <td>TG16</td>\n",
       "      <td>1995</td>\n",
       "      <td>1995</td>\n",
       "      <td>0</td>\n",
       "    </tr>\n",
       "    <tr>\n",
       "      <th>25</th>\n",
       "      <td>WS</td>\n",
       "      <td>1999</td>\n",
       "      <td>2001</td>\n",
       "      <td>2</td>\n",
       "    </tr>\n",
       "    <tr>\n",
       "      <th>26</th>\n",
       "      <td>Wii</td>\n",
       "      <td>2006</td>\n",
       "      <td>2016</td>\n",
       "      <td>10</td>\n",
       "    </tr>\n",
       "    <tr>\n",
       "      <th>27</th>\n",
       "      <td>WiiU</td>\n",
       "      <td>2012</td>\n",
       "      <td>2016</td>\n",
       "      <td>4</td>\n",
       "    </tr>\n",
       "    <tr>\n",
       "      <th>28</th>\n",
       "      <td>X360</td>\n",
       "      <td>2005</td>\n",
       "      <td>2016</td>\n",
       "      <td>11</td>\n",
       "    </tr>\n",
       "    <tr>\n",
       "      <th>29</th>\n",
       "      <td>XB</td>\n",
       "      <td>2000</td>\n",
       "      <td>2008</td>\n",
       "      <td>8</td>\n",
       "    </tr>\n",
       "    <tr>\n",
       "      <th>30</th>\n",
       "      <td>XOne</td>\n",
       "      <td>2013</td>\n",
       "      <td>2016</td>\n",
       "      <td>3</td>\n",
       "    </tr>\n",
       "  </tbody>\n",
       "</table>\n",
       "</div>"
      ],
      "text/plain": [
       "   platform   min   max  duracion\n",
       "0      2600  1980  1989         9\n",
       "1       3DO  1994  1995         1\n",
       "2       3DS  2011  2016         5\n",
       "3        DC  1998  2008        10\n",
       "4        DS  1985  2013        28\n",
       "5        GB  1988  2001        13\n",
       "6       GBA  2000  2007         7\n",
       "7        GC  2001  2007         6\n",
       "8       GEN  1990  1994         4\n",
       "9        GG  1992  1992         0\n",
       "10      N64  1996  2002         6\n",
       "11      NES  1983  1994        11\n",
       "12       NG  1993  1996         3\n",
       "13       PC  1985  2016        31\n",
       "14     PCFX  1996  1996         0\n",
       "15       PS  1994  2003         9\n",
       "16      PS2  2000  2011        11\n",
       "17      PS3  2006  2016        10\n",
       "18      PS4  2013  2016         3\n",
       "19      PSP  2004  2015        11\n",
       "20      PSV  2011  2016         5\n",
       "21      SAT  1994  1999         5\n",
       "22      SCD  1993  1994         1\n",
       "23     SNES  1990  1999         9\n",
       "24     TG16  1995  1995         0\n",
       "25       WS  1999  2001         2\n",
       "26      Wii  2006  2016        10\n",
       "27     WiiU  2012  2016         4\n",
       "28     X360  2005  2016        11\n",
       "29       XB  2000  2008         8\n",
       "30     XOne  2013  2016         3"
      ]
     },
     "execution_count": 33,
     "metadata": {},
     "output_type": "execute_result"
    }
   ],
   "source": [
    "df_grouped['duracion'] = df_grouped['max'] - df_grouped['min']\n",
    "df_grouped"
   ]
  },
  {
   "cell_type": "code",
   "execution_count": 34,
   "id": "7edc1798",
   "metadata": {},
   "outputs": [
    {
     "data": {
      "text/plain": [
       "7.612903225806452"
      ]
     },
     "execution_count": 34,
     "metadata": {},
     "output_type": "execute_result"
    }
   ],
   "source": [
    "df_grouped['duracion'].mean()"
   ]
  },
  {
   "cell_type": "markdown",
   "id": "8bc8f33f",
   "metadata": {},
   "source": [
    "Como podemos oberservar con las plataformas XBOX360, Wii, PS2 o PS3, entre los primeros 5 a 7 años las ventas de las plataformas suelen crecer, tras lo cuál aparecen nuevas plataformas que les quitan las ventas y dichas ventas comienzan a decrecer hasta desaparecer entre 5 y 6 años después del lanzamiento de las nuevas plataformas.\n",
    "\n",
    "Generalmente las plataformas tardan 7.6 años en desaparecer."
   ]
  },
  {
   "cell_type": "markdown",
   "id": "8e7bb53c",
   "metadata": {},
   "source": [
    "<div class=\"alert alert-block alert-success\">\n",
    "<b>Comentario de Revisor</b> <a class=\"tocSkip\"></a>\n",
    "\n",
    "Ok, muy bien. Con el gráfico que sugerí más arriba, podremos visualizar esto\n",
    "\n",
    "</div>"
   ]
  },
  {
   "cell_type": "markdown",
   "id": "e5101958",
   "metadata": {},
   "source": [
    "### Determinar para qué período se debe tomar datos"
   ]
  },
  {
   "cell_type": "markdown",
   "id": "912c2889",
   "metadata": {},
   "source": [
    "Los datos se deben tomar desde 2012 hasta 2016 para evitar tomar datos de consolas que ya no existen y, por ende, tendencias que ya no se repetirán para las consolas para las consolas aún vigentes."
   ]
  },
  {
   "cell_type": "markdown",
   "id": "ff6dd6b8",
   "metadata": {},
   "source": [
    "<div class=\"alert alert-block alert-danger\">\n",
    "<b>Comentario de Revisor</b> <a class=\"tocSkip\"></a>\n",
    "\n",
    "Me parece bien utilizar una métrica de la data para tomar esta decisión, pero de todas formas son muchos años hacia atrás. Se incluyen en este caso plataformas que ya casi ni venden y que no venderán en el futuro.\n",
    "    \n",
    "El objetivo de la data a analizar posteriormente es que sea data que sirva para proyectar el 2017. En ese sentido, no se puede utilizar data muy antigua, ya que eso incluiría consolas que ya no existen y tendencias que ya no se repetirán para las consolas aún vigentes. En general, un mínimo de 2 años es suficiente y hasta 4 años puede ser útil. Tomar más años provocaría el problema que menciono.\n",
    "    \n",
    "Cambia el periodo de tiempo, reducelo a 3 o 4 años y revisa cómo cambian los análisis de las secciones siguientes. \n",
    "\n",
    "</div>"
   ]
  },
  {
   "cell_type": "markdown",
   "id": "5cbff6df",
   "metadata": {},
   "source": [
    "<div class=\"alert alert-block alert-success\">\n",
    "<b>Comentario de Revisor v2</b> <a class=\"tocSkip\"></a>\n",
    "\n",
    "Bien, corregido\n",
    "\n",
    "</div>"
   ]
  },
  {
   "cell_type": "markdown",
   "id": "1f47685e",
   "metadata": {},
   "source": [
    "### Trabaja solo con los datos que consideras relevantes"
   ]
  },
  {
   "cell_type": "code",
   "execution_count": 118,
   "id": "d91118cb",
   "metadata": {},
   "outputs": [
    {
     "data": {
      "text/html": [
       "<div>\n",
       "<style scoped>\n",
       "    .dataframe tbody tr th:only-of-type {\n",
       "        vertical-align: middle;\n",
       "    }\n",
       "\n",
       "    .dataframe tbody tr th {\n",
       "        vertical-align: top;\n",
       "    }\n",
       "\n",
       "    .dataframe thead th {\n",
       "        text-align: right;\n",
       "    }\n",
       "</style>\n",
       "<table border=\"1\" class=\"dataframe\">\n",
       "  <thead>\n",
       "    <tr style=\"text-align: right;\">\n",
       "      <th></th>\n",
       "      <th>name</th>\n",
       "      <th>platform</th>\n",
       "      <th>year_of_release</th>\n",
       "      <th>genre</th>\n",
       "      <th>na_sales</th>\n",
       "      <th>eu_sales</th>\n",
       "      <th>jp_sales</th>\n",
       "      <th>other_sales</th>\n",
       "      <th>critic_score</th>\n",
       "      <th>user_score</th>\n",
       "      <th>rating</th>\n",
       "      <th>ventas_totales</th>\n",
       "    </tr>\n",
       "  </thead>\n",
       "  <tbody>\n",
       "    <tr>\n",
       "      <th>16</th>\n",
       "      <td>Grand Theft Auto V</td>\n",
       "      <td>PS3</td>\n",
       "      <td>2013</td>\n",
       "      <td>Action</td>\n",
       "      <td>7.02</td>\n",
       "      <td>9.09</td>\n",
       "      <td>0.98</td>\n",
       "      <td>3.96</td>\n",
       "      <td>97.0</td>\n",
       "      <td>8.2</td>\n",
       "      <td>M</td>\n",
       "      <td>21.05</td>\n",
       "    </tr>\n",
       "    <tr>\n",
       "      <th>23</th>\n",
       "      <td>Grand Theft Auto V</td>\n",
       "      <td>X360</td>\n",
       "      <td>2013</td>\n",
       "      <td>Action</td>\n",
       "      <td>9.66</td>\n",
       "      <td>5.14</td>\n",
       "      <td>0.06</td>\n",
       "      <td>1.41</td>\n",
       "      <td>97.0</td>\n",
       "      <td>8.1</td>\n",
       "      <td>M</td>\n",
       "      <td>16.27</td>\n",
       "    </tr>\n",
       "    <tr>\n",
       "      <th>42</th>\n",
       "      <td>Grand Theft Auto V</td>\n",
       "      <td>PS4</td>\n",
       "      <td>2014</td>\n",
       "      <td>Action</td>\n",
       "      <td>3.96</td>\n",
       "      <td>6.31</td>\n",
       "      <td>0.38</td>\n",
       "      <td>1.97</td>\n",
       "      <td>97.0</td>\n",
       "      <td>8.3</td>\n",
       "      <td>M</td>\n",
       "      <td>12.62</td>\n",
       "    </tr>\n",
       "    <tr>\n",
       "      <th>60</th>\n",
       "      <td>Call of Duty: Ghosts</td>\n",
       "      <td>X360</td>\n",
       "      <td>2013</td>\n",
       "      <td>Shooter</td>\n",
       "      <td>6.73</td>\n",
       "      <td>2.56</td>\n",
       "      <td>0.04</td>\n",
       "      <td>0.91</td>\n",
       "      <td>73.0</td>\n",
       "      <td>2.6</td>\n",
       "      <td>M</td>\n",
       "      <td>10.24</td>\n",
       "    </tr>\n",
       "    <tr>\n",
       "      <th>69</th>\n",
       "      <td>Call of Duty: Ghosts</td>\n",
       "      <td>PS3</td>\n",
       "      <td>2013</td>\n",
       "      <td>Shooter</td>\n",
       "      <td>4.10</td>\n",
       "      <td>3.63</td>\n",
       "      <td>0.38</td>\n",
       "      <td>1.25</td>\n",
       "      <td>71.0</td>\n",
       "      <td>2.6</td>\n",
       "      <td>M</td>\n",
       "      <td>9.36</td>\n",
       "    </tr>\n",
       "    <tr>\n",
       "      <th>...</th>\n",
       "      <td>...</td>\n",
       "      <td>...</td>\n",
       "      <td>...</td>\n",
       "      <td>...</td>\n",
       "      <td>...</td>\n",
       "      <td>...</td>\n",
       "      <td>...</td>\n",
       "      <td>...</td>\n",
       "      <td>...</td>\n",
       "      <td>...</td>\n",
       "      <td>...</td>\n",
       "      <td>...</td>\n",
       "    </tr>\n",
       "    <tr>\n",
       "      <th>16597</th>\n",
       "      <td>Saints Row: Gat out of Hell</td>\n",
       "      <td>XOne</td>\n",
       "      <td>2015</td>\n",
       "      <td>Action</td>\n",
       "      <td>0.00</td>\n",
       "      <td>0.01</td>\n",
       "      <td>0.00</td>\n",
       "      <td>0.00</td>\n",
       "      <td>65.0</td>\n",
       "      <td>6.0</td>\n",
       "      <td>M</td>\n",
       "      <td>0.01</td>\n",
       "    </tr>\n",
       "    <tr>\n",
       "      <th>16630</th>\n",
       "      <td>Sébastien Loeb Rally Evo</td>\n",
       "      <td>XOne</td>\n",
       "      <td>2016</td>\n",
       "      <td>Racing</td>\n",
       "      <td>0.00</td>\n",
       "      <td>0.01</td>\n",
       "      <td>0.00</td>\n",
       "      <td>0.00</td>\n",
       "      <td>63.0</td>\n",
       "      <td>8.2</td>\n",
       "      <td>E</td>\n",
       "      <td>0.01</td>\n",
       "    </tr>\n",
       "    <tr>\n",
       "      <th>16652</th>\n",
       "      <td>Fast Racing Neo</td>\n",
       "      <td>WiiU</td>\n",
       "      <td>2016</td>\n",
       "      <td>Action</td>\n",
       "      <td>0.00</td>\n",
       "      <td>0.01</td>\n",
       "      <td>0.00</td>\n",
       "      <td>0.00</td>\n",
       "      <td>81.0</td>\n",
       "      <td>8.5</td>\n",
       "      <td>E</td>\n",
       "      <td>0.01</td>\n",
       "    </tr>\n",
       "    <tr>\n",
       "      <th>16660</th>\n",
       "      <td>Prison Architect</td>\n",
       "      <td>XOne</td>\n",
       "      <td>2016</td>\n",
       "      <td>Action</td>\n",
       "      <td>0.01</td>\n",
       "      <td>0.00</td>\n",
       "      <td>0.00</td>\n",
       "      <td>0.00</td>\n",
       "      <td>74.0</td>\n",
       "      <td>6.7</td>\n",
       "      <td>RP</td>\n",
       "      <td>0.01</td>\n",
       "    </tr>\n",
       "    <tr>\n",
       "      <th>16692</th>\n",
       "      <td>Metal Gear Solid V: Ground Zeroes</td>\n",
       "      <td>PC</td>\n",
       "      <td>2014</td>\n",
       "      <td>Action</td>\n",
       "      <td>0.00</td>\n",
       "      <td>0.01</td>\n",
       "      <td>0.00</td>\n",
       "      <td>0.00</td>\n",
       "      <td>80.0</td>\n",
       "      <td>7.6</td>\n",
       "      <td>M</td>\n",
       "      <td>0.01</td>\n",
       "    </tr>\n",
       "  </tbody>\n",
       "</table>\n",
       "<p>976 rows × 12 columns</p>\n",
       "</div>"
      ],
      "text/plain": [
       "                                    name platform  year_of_release    genre  \\\n",
       "16                    Grand Theft Auto V      PS3             2013   Action   \n",
       "23                    Grand Theft Auto V     X360             2013   Action   \n",
       "42                    Grand Theft Auto V      PS4             2014   Action   \n",
       "60                  Call of Duty: Ghosts     X360             2013  Shooter   \n",
       "69                  Call of Duty: Ghosts      PS3             2013  Shooter   \n",
       "...                                  ...      ...              ...      ...   \n",
       "16597        Saints Row: Gat out of Hell     XOne             2015   Action   \n",
       "16630           Sébastien Loeb Rally Evo     XOne             2016   Racing   \n",
       "16652                   Fast Racing Neo      WiiU             2016   Action   \n",
       "16660                   Prison Architect     XOne             2016   Action   \n",
       "16692  Metal Gear Solid V: Ground Zeroes       PC             2014   Action   \n",
       "\n",
       "       na_sales  eu_sales  jp_sales  other_sales  critic_score  user_score  \\\n",
       "16         7.02      9.09      0.98         3.96          97.0         8.2   \n",
       "23         9.66      5.14      0.06         1.41          97.0         8.1   \n",
       "42         3.96      6.31      0.38         1.97          97.0         8.3   \n",
       "60         6.73      2.56      0.04         0.91          73.0         2.6   \n",
       "69         4.10      3.63      0.38         1.25          71.0         2.6   \n",
       "...         ...       ...       ...          ...           ...         ...   \n",
       "16597      0.00      0.01      0.00         0.00          65.0         6.0   \n",
       "16630      0.00      0.01      0.00         0.00          63.0         8.2   \n",
       "16652      0.00      0.01      0.00         0.00          81.0         8.5   \n",
       "16660      0.01      0.00      0.00         0.00          74.0         6.7   \n",
       "16692      0.00      0.01      0.00         0.00          80.0         7.6   \n",
       "\n",
       "      rating  ventas_totales  \n",
       "16         M           21.05  \n",
       "23         M           16.27  \n",
       "42         M           12.62  \n",
       "60         M           10.24  \n",
       "69         M            9.36  \n",
       "...      ...             ...  \n",
       "16597      M            0.01  \n",
       "16630      E            0.01  \n",
       "16652      E            0.01  \n",
       "16660     RP            0.01  \n",
       "16692      M            0.01  \n",
       "\n",
       "[976 rows x 12 columns]"
      ]
     },
     "execution_count": 118,
     "metadata": {},
     "output_type": "execute_result"
    }
   ],
   "source": [
    "df_modelo = df[df['year_of_release'] > 2012]\n",
    "df_modelo = df_modelo[df_modelo['user_score'] > 0]\n",
    "df_modelo = df_modelo[df_modelo['critic_score'] > 0]\n",
    "df_modelo"
   ]
  },
  {
   "cell_type": "markdown",
   "id": "46721f55",
   "metadata": {},
   "source": [
    "### ¿Qué plataformas son líderes en ventas?"
   ]
  },
  {
   "cell_type": "code",
   "execution_count": 119,
   "id": "ebcaa058",
   "metadata": {},
   "outputs": [
    {
     "data": {
      "text/plain": [
       "platform\n",
       "PSP       0.15\n",
       "PSV      13.88\n",
       "PC       34.79\n",
       "3DS      40.10\n",
       "WiiU     51.23\n",
       "X360     85.27\n",
       "PS3     114.06\n",
       "XOne    130.21\n",
       "PS4     244.27\n",
       "Name: ventas_totales, dtype: float64"
      ]
     },
     "execution_count": 119,
     "metadata": {},
     "output_type": "execute_result"
    }
   ],
   "source": [
    "ventas_por_plataforma = df_modelo.groupby('platform')['ventas_totales'].sum().sort_values()\n",
    "ventas_por_plataforma"
   ]
  },
  {
   "cell_type": "markdown",
   "id": "042d0d1a",
   "metadata": {},
   "source": [
    "Las plataformas líderes en ventas son PS4, PS3 y X360."
   ]
  },
  {
   "cell_type": "markdown",
   "id": "7c54b085",
   "metadata": {},
   "source": [
    "### ¿Cuáles crecen y cuáles se reducen?"
   ]
  },
  {
   "cell_type": "code",
   "execution_count": 120,
   "id": "c898621f",
   "metadata": {},
   "outputs": [
    {
     "data": {
      "image/png": "[encoded data removed]",
      "text/plain": [
       "<Figure size 640x480 with 1 Axes>"
      ]
     },
     "metadata": {},
     "output_type": "display_data"
    }
   ],
   "source": [
    "# Transformar los datos para que cada plataforma sea una columna\n",
    "df_pivot = df_modelo.pivot_table(index='year_of_release', columns='platform', values='ventas_totales', aggfunc='sum')\n",
    "\n",
    "# Graficar\n",
    "ax = df_pivot.plot(kind='line', marker='o')\n",
    "\n",
    "# Personalización\n",
    "ax.set_title('Ventas Totales por Año')\n",
    "ax.set_xlabel('Año')\n",
    "ax.set_ylabel('Ventas')\n",
    "ax.legend(title=\"Consola\")\n",
    "ax.set_xlim(df_modelo['year_of_release'].min(), df_modelo['year_of_release'].max())  # Ajusta el eje X\n",
    "ax.grid(True)"
   ]
  },
  {
   "cell_type": "markdown",
   "id": "c6b5239f",
   "metadata": {},
   "source": [
    "Como podemos observar en el gráfico, para 2016 las ventas de todas las plataformas están decreciendo. Sin embargo, en base a años anteriores, podríamos argumentar que las ventas de la PS4 y las de Xbox One venían aumentando. Entonces puede ser que el decrecimiento observado en 2016 se deba a que nuestros datos no van hasta el 31 de Diciembre de 2016 sino hasta una fecha anterior, por lo cuál el dato de 2016 no incorpora una parte de las ventas, que pudiesen haber sido mayores."
   ]
  },
  {
   "cell_type": "markdown",
   "id": "37e1a3d3",
   "metadata": {},
   "source": [
    "<div class=\"alert alert-block alert-danger\">\n",
    "<b>Comentario de Revisor</b> <a class=\"tocSkip\"></a>\n",
    "\n",
    "Ok, correcta la metodología. Revisa cómo cambia el resultado luego de modificar los años relevantes.\n",
    "\n",
    "</div>\n"
   ]
  },
  {
   "cell_type": "markdown",
   "id": "97a58bd0",
   "metadata": {},
   "source": [
    "<div class=\"alert alert-block alert-success\">\n",
    "<b>Comentario de Revisor v2</b> <a class=\"tocSkip\"></a>\n",
    "\n",
    "Muy bien, bien hecho\n",
    "\n",
    "</div>"
   ]
  },
  {
   "cell_type": "markdown",
   "id": "f40af120",
   "metadata": {},
   "source": [
    "### Crea un diagrama de caja para las ventas globales de todos los juegos, desglosados por plataforma"
   ]
  },
  {
   "cell_type": "code",
   "execution_count": 121,
   "id": "ea45a3c0",
   "metadata": {},
   "outputs": [
    {
     "data": {
      "image/png": "[encoded data removed]",
      "text/plain": [
       "<Figure size 800x600 with 1 Axes>"
      ]
     },
     "metadata": {},
     "output_type": "display_data"
    }
   ],
   "source": [
    "plt.figure(figsize=(8,6))\n",
    "sns.boxplot(x='platform', y='ventas_totales', data=df_modelo)\n",
    "plt.title('Boxplot de Ventas Totales por plataforma')\n",
    "plt.xlabel('Plataforma')\n",
    "plt.ylabel('Ventas Totales')\n",
    "plt.ylim(0, 2)\n",
    "plt.show()"
   ]
  },
  {
   "cell_type": "markdown",
   "id": "b4345691",
   "metadata": {},
   "source": [
    "Exceptuando Wii, las plataformas que más ventas tienen (X360, XOne, PS3 y PS4) son las que también presentan mayor dispersión en sus datos. Asimismo, son las que mantienen ventas promedio mayores. Parece ser que entre mayores sean las ventas mayor es la dispersión en los datos."
   ]
  },
  {
   "cell_type": "markdown",
   "id": "f4a52351",
   "metadata": {},
   "source": [
    "<div class=\"alert alert-block alert-danger\">\n",
    "<b>Comentario de Revisor</b> <a class=\"tocSkip\"></a>\n",
    "\n",
    "Ok, correcta la metodología. Revisa cómo cambia el resultado luego de modificar los años relevantes.\n",
    "\n",
    "</div>\n"
   ]
  },
  {
   "cell_type": "markdown",
   "id": "ab377560",
   "metadata": {},
   "source": [
    "<div class=\"alert alert-block alert-success\">\n",
    "<b>Comentario de Revisor v2</b> <a class=\"tocSkip\"></a>\n",
    "\n",
    "Muy bien, bien hecho\n",
    "\n",
    "</div>"
   ]
  },
  {
   "cell_type": "markdown",
   "id": "c7a723c7",
   "metadata": {},
   "source": [
    "### Mira cómo las reseñas de usuarios y profesionales afectan las ventas de una plataforma popular"
   ]
  },
  {
   "cell_type": "code",
   "execution_count": 122,
   "id": "f9be3fe8",
   "metadata": {},
   "outputs": [
    {
     "data": {
      "text/plain": [
       "<AxesSubplot:xlabel='user_score', ylabel='ventas_totales'>"
      ]
     },
     "execution_count": 122,
     "metadata": {},
     "output_type": "execute_result"
    },
    {
     "data": {
      "image/png": "[encoded data removed]",
      "text/plain": [
       "<Figure size 640x480 with 1 Axes>"
      ]
     },
     "metadata": {},
     "output_type": "display_data"
    }
   ],
   "source": [
    "df_ps3 = df_modelo[df_modelo['platform'] == 'PS3']\n",
    "df_ps3.plot(x='user_score', y='ventas_totales', kind='scatter') "
   ]
  },
  {
   "cell_type": "code",
   "execution_count": 123,
   "id": "76d0f294",
   "metadata": {},
   "outputs": [
    {
     "data": {
      "text/plain": [
       "<AxesSubplot:xlabel='critic_score', ylabel='ventas_totales'>"
      ]
     },
     "execution_count": 123,
     "metadata": {},
     "output_type": "execute_result"
    },
    {
     "data": {
      "image/png": "[encoded data removed]",
      "text/plain": [
       "<Figure size 640x480 with 1 Axes>"
      ]
     },
     "metadata": {},
     "output_type": "display_data"
    }
   ],
   "source": [
    "df_ps3.plot(x='critic_score', y='ventas_totales', kind='scatter') "
   ]
  },
  {
   "cell_type": "code",
   "execution_count": 124,
   "id": "c0e6abae",
   "metadata": {},
   "outputs": [
    {
     "data": {
      "text/plain": [
       "0.02269094327112414"
      ]
     },
     "execution_count": 124,
     "metadata": {},
     "output_type": "execute_result"
    }
   ],
   "source": [
    "df_ps3['user_score'].corr(df_ps3['ventas_totales'])"
   ]
  },
  {
   "cell_type": "code",
   "execution_count": 125,
   "id": "0fb641f7",
   "metadata": {},
   "outputs": [
    {
     "data": {
      "text/plain": [
       "0.33380663565061736"
      ]
     },
     "execution_count": 125,
     "metadata": {},
     "output_type": "execute_result"
    }
   ],
   "source": [
    "df_ps3['critic_score'].corr(df_ps3['ventas_totales'])"
   ]
  },
  {
   "cell_type": "markdown",
   "id": "685fa838",
   "metadata": {},
   "source": [
    "Las ventas de los videojuegos para la PS3 están correlacionadas positivamente con las reseñas de usuarios y profesionales. Sin embargo, esta correlación es baja para ambos casos. Asimismo, la correlación con las reseñas de la crítica es más fuerte que la correlación con las reseñas de los usuarios."
   ]
  },
  {
   "cell_type": "markdown",
   "id": "a9673298",
   "metadata": {},
   "source": [
    "<div class=\"alert alert-block alert-danger\">\n",
    "<b>Comentario de Revisor</b> <a class=\"tocSkip\"></a>\n",
    "\n",
    "Ok, correcta la metodología. Revisa cómo cambia el resultado luego de modificar los años relevantes.\n",
    "\n",
    "</div>\n"
   ]
  },
  {
   "cell_type": "markdown",
   "id": "7cd77932",
   "metadata": {},
   "source": [
    "<div class=\"alert alert-block alert-success\">\n",
    "<b>Comentario de Revisor v2</b> <a class=\"tocSkip\"></a>\n",
    "\n",
    "Muy bien, bien hecho\n",
    "\n",
    "</div>"
   ]
  },
  {
   "cell_type": "markdown",
   "id": "2b3f73e3",
   "metadata": {},
   "source": [
    "### Compara las ventas de los mismos juegos en otras plataformas"
   ]
  },
  {
   "cell_type": "code",
   "execution_count": 126,
   "id": "c6011846",
   "metadata": {},
   "outputs": [
    {
     "name": "stdout",
     "output_type": "stream",
     "text": [
      "[None]\n"
     ]
    }
   ],
   "source": [
    "print(df_modelo.index.names)"
   ]
  },
  {
   "cell_type": "code",
   "execution_count": 127,
   "id": "117da10d",
   "metadata": {},
   "outputs": [
    {
     "name": "stdout",
     "output_type": "stream",
     "text": [
      "platform                                               name   3DS    PC   PS3  \\\n",
      "0                                2014 FIFA World Cup Brazil   NaN   NaN  0.61   \n",
      "1                                             7 Days to Die   NaN   NaN   NaN   \n",
      "2                                  7th Dragon III Code: VFD  0.16   NaN   NaN   \n",
      "3                                         Act of Aggression   NaN  0.01   NaN   \n",
      "4         Adventure Time: The Secret of the Nameless Kin...  0.07   NaN   NaN   \n",
      "..                                                      ...   ...   ...   ...   \n",
      "546                          Zero Escape: Zero Time Dilemma  0.08   NaN   NaN   \n",
      "547                                     Zombie Army Trilogy   NaN   NaN   NaN   \n",
      "548                              Zumba Fitness: World Party   NaN   NaN   NaN   \n",
      "549                             htoL#NiQ: The Firefly Diary   NaN   NaN   NaN   \n",
      "550                                    inFAMOUS: Second Son   NaN   NaN   NaN   \n",
      "\n",
      "platform   PS4  PSP   PSV  WiiU  X360  XOne  \n",
      "0          NaN  NaN   NaN   NaN  0.43   NaN  \n",
      "1         0.14  NaN   NaN   NaN   NaN  0.05  \n",
      "2          NaN  NaN   NaN   NaN   NaN   NaN  \n",
      "3          NaN  NaN   NaN   NaN   NaN   NaN  \n",
      "4          NaN  NaN   NaN   NaN  0.05   NaN  \n",
      "..         ...  ...   ...   ...   ...   ...  \n",
      "546        NaN  NaN  0.06   NaN   NaN   NaN  \n",
      "547       0.20  NaN   NaN   NaN   NaN  0.11  \n",
      "548        NaN  NaN   NaN   NaN   NaN  0.24  \n",
      "549        NaN  NaN  0.01   NaN   NaN   NaN  \n",
      "550       2.79  NaN   NaN   NaN   NaN   NaN  \n",
      "\n",
      "[551 rows x 10 columns]\n"
     ]
    }
   ],
   "source": [
    "# Crear tabla con juegos como índice y plataformas como columnas\n",
    "df_pivot = df_modelo.pivot_table(index='name', columns='platform', values='ventas_totales', aggfunc='sum')\n",
    "\n",
    "df_pivot.reset_index(inplace=True)\n",
    "\n",
    "# Mostrar la tabla comparativa\n",
    "print(df_pivot)"
   ]
  },
  {
   "cell_type": "code",
   "execution_count": 133,
   "id": "ade2e77b",
   "metadata": {},
   "outputs": [
    {
     "data": {
      "text/html": [
       "<div>\n",
       "<style scoped>\n",
       "    .dataframe tbody tr th:only-of-type {\n",
       "        vertical-align: middle;\n",
       "    }\n",
       "\n",
       "    .dataframe tbody tr th {\n",
       "        vertical-align: top;\n",
       "    }\n",
       "\n",
       "    .dataframe thead th {\n",
       "        text-align: right;\n",
       "    }\n",
       "</style>\n",
       "<table border=\"1\" class=\"dataframe\">\n",
       "  <thead>\n",
       "    <tr style=\"text-align: right;\">\n",
       "      <th>platform</th>\n",
       "      <th>name</th>\n",
       "      <th>PS3</th>\n",
       "      <th>PS4</th>\n",
       "      <th>X360</th>\n",
       "      <th>XOne</th>\n",
       "    </tr>\n",
       "  </thead>\n",
       "  <tbody>\n",
       "    <tr>\n",
       "      <th>10</th>\n",
       "      <td>Angry Birds Star Wars</td>\n",
       "      <td>0.29</td>\n",
       "      <td>0.22</td>\n",
       "      <td>0.28</td>\n",
       "      <td>0.17</td>\n",
       "    </tr>\n",
       "    <tr>\n",
       "      <th>42</th>\n",
       "      <td>Battlefield 4</td>\n",
       "      <td>3.49</td>\n",
       "      <td>3.58</td>\n",
       "      <td>3.49</td>\n",
       "      <td>2.02</td>\n",
       "    </tr>\n",
       "    <tr>\n",
       "      <th>64</th>\n",
       "      <td>Call of Duty: Ghosts</td>\n",
       "      <td>9.36</td>\n",
       "      <td>3.83</td>\n",
       "      <td>10.24</td>\n",
       "      <td>2.92</td>\n",
       "    </tr>\n",
       "    <tr>\n",
       "      <th>154</th>\n",
       "      <td>FIFA 14</td>\n",
       "      <td>6.46</td>\n",
       "      <td>3.01</td>\n",
       "      <td>4.22</td>\n",
       "      <td>1.16</td>\n",
       "    </tr>\n",
       "    <tr>\n",
       "      <th>197</th>\n",
       "      <td>Grand Theft Auto V</td>\n",
       "      <td>21.05</td>\n",
       "      <td>12.62</td>\n",
       "      <td>16.27</td>\n",
       "      <td>5.47</td>\n",
       "    </tr>\n",
       "    <tr>\n",
       "      <th>224</th>\n",
       "      <td>Just Dance 2014</td>\n",
       "      <td>0.37</td>\n",
       "      <td>0.42</td>\n",
       "      <td>0.99</td>\n",
       "      <td>0.45</td>\n",
       "    </tr>\n",
       "    <tr>\n",
       "      <th>267</th>\n",
       "      <td>Madden NFL 25</td>\n",
       "      <td>1.87</td>\n",
       "      <td>0.91</td>\n",
       "      <td>2.23</td>\n",
       "      <td>0.80</td>\n",
       "    </tr>\n",
       "    <tr>\n",
       "      <th>296</th>\n",
       "      <td>NBA 2K14</td>\n",
       "      <td>2.11</td>\n",
       "      <td>1.44</td>\n",
       "      <td>2.52</td>\n",
       "      <td>0.90</td>\n",
       "    </tr>\n",
       "    <tr>\n",
       "      <th>313</th>\n",
       "      <td>Need for Speed Rivals</td>\n",
       "      <td>1.26</td>\n",
       "      <td>1.98</td>\n",
       "      <td>0.80</td>\n",
       "      <td>0.70</td>\n",
       "    </tr>\n",
       "    <tr>\n",
       "      <th>363</th>\n",
       "      <td>Rayman Legends</td>\n",
       "      <td>0.58</td>\n",
       "      <td>1.02</td>\n",
       "      <td>0.43</td>\n",
       "      <td>0.34</td>\n",
       "    </tr>\n",
       "    <tr>\n",
       "      <th>452</th>\n",
       "      <td>Terraria</td>\n",
       "      <td>0.41</td>\n",
       "      <td>0.07</td>\n",
       "      <td>0.68</td>\n",
       "      <td>0.04</td>\n",
       "    </tr>\n",
       "    <tr>\n",
       "      <th>464</th>\n",
       "      <td>The LEGO Movie Videogame</td>\n",
       "      <td>0.93</td>\n",
       "      <td>0.67</td>\n",
       "      <td>1.27</td>\n",
       "      <td>0.53</td>\n",
       "    </tr>\n",
       "    <tr>\n",
       "      <th>520</th>\n",
       "      <td>WWE 2K15</td>\n",
       "      <td>0.78</td>\n",
       "      <td>1.15</td>\n",
       "      <td>0.64</td>\n",
       "      <td>0.57</td>\n",
       "    </tr>\n",
       "  </tbody>\n",
       "</table>\n",
       "</div>"
      ],
      "text/plain": [
       "platform                      name    PS3    PS4   X360  XOne\n",
       "10           Angry Birds Star Wars   0.29   0.22   0.28  0.17\n",
       "42                   Battlefield 4   3.49   3.58   3.49  2.02\n",
       "64            Call of Duty: Ghosts   9.36   3.83  10.24  2.92\n",
       "154                        FIFA 14   6.46   3.01   4.22  1.16\n",
       "197             Grand Theft Auto V  21.05  12.62  16.27  5.47\n",
       "224                Just Dance 2014   0.37   0.42   0.99  0.45\n",
       "267                  Madden NFL 25   1.87   0.91   2.23  0.80\n",
       "296                       NBA 2K14   2.11   1.44   2.52  0.90\n",
       "313          Need for Speed Rivals   1.26   1.98   0.80  0.70\n",
       "363                 Rayman Legends   0.58   1.02   0.43  0.34\n",
       "452                       Terraria   0.41   0.07   0.68  0.04\n",
       "464       The LEGO Movie Videogame   0.93   0.67   1.27  0.53\n",
       "520                       WWE 2K15   0.78   1.15   0.64  0.57"
      ]
     },
     "execution_count": 133,
     "metadata": {},
     "output_type": "execute_result"
    }
   ],
   "source": [
    "# Acotar el set de datos para poder comparar entre plataformas\n",
    "df_cleaned = df_pivot.dropna(subset=['PS3', 'PS4', 'X360', 'XOne'])\n",
    "df_cleaned = df_cleaned.dropna(axis=1)\n",
    "df_cleaned"
   ]
  },
  {
   "cell_type": "code",
   "execution_count": 144,
   "id": "9ba1d56a",
   "metadata": {},
   "outputs": [
    {
     "data": {
      "text/plain": [
       "<AxesSubplot:title={'center':'Ventas por videojuego por plataforma'}, xlabel='Videojuego', ylabel='ventas'>"
      ]
     },
     "execution_count": 144,
     "metadata": {},
     "output_type": "execute_result"
    },
    {
     "data": {
      "image/png": "[encoded data removed]",
      "text/plain": [
       "<Figure size 1100x400 with 1 Axes>"
      ]
     },
     "metadata": {},
     "output_type": "display_data"
    }
   ],
   "source": [
    "df_cleaned.plot(x='name', \n",
    "                kind='bar', \n",
    "                figsize=(11, 4), \n",
    "                xlabel='Videojuego', \n",
    "                ylabel='ventas', \n",
    "                title='Ventas por videojuego por plataforma', rot=60)"
   ]
  },
  {
   "cell_type": "markdown",
   "id": "4db44679",
   "metadata": {},
   "source": [
    "Para poder realizar este analisis y debido a la gran cantidad de videojuegos (1989), se decidió acotar el set de datos a una cantidad que fuera fácil de analizar a simple vista. De esta forma, y para facilitar la comparabilidad de los datos se filtró el dataset para comparar los videojuegos que tuvieran datos en PS3, PS4, X360 y Xbox One.\n",
    "\n",
    "PS3 es la primera o segunda plataforma con más ventas de todos los juegos del subgrupo escogido. Xbox 360 es también una importante plataforma, siendo la primera en ventas para COD: Ghosts, Just Dance 2014, Madden NFL25, NBA 2K14 y The LEGO Videogame, además de ser la segunda para otros 3 videojuegos. En ese orden de importancia, PS4 sería la tercera principal plataforma."
   ]
  },
  {
   "cell_type": "markdown",
   "id": "d945110b",
   "metadata": {},
   "source": [
    "<div class=\"alert alert-block alert-danger\">\n",
    "<b>Comentario de Revisor</b> <a class=\"tocSkip\"></a>\n",
    "\n",
    "Ok, correcta la metodología. Revisa cómo cambia el resultado luego de modificar los años relevantes.\n",
    "\n",
    "</div>\n"
   ]
  },
  {
   "cell_type": "markdown",
   "id": "a3bb461b",
   "metadata": {},
   "source": [
    "<div class=\"alert alert-block alert-success\">\n",
    "<b>Comentario de Revisor v2</b> <a class=\"tocSkip\"></a>\n",
    "\n",
    "Excelente, hiciste muy bien al escoger solamente algunos juegos, los que tienen ventas en las 4 consolas\n",
    "\n",
    "</div>"
   ]
  },
  {
   "cell_type": "markdown",
   "id": "9dfd8ef9",
   "metadata": {},
   "source": [
    "### Distribución general de los juegos por género"
   ]
  },
  {
   "cell_type": "code",
   "execution_count": 148,
   "id": "aa1b78b6",
   "metadata": {},
   "outputs": [
    {
     "data": {
      "text/plain": [
       "genre\n",
       "Shooter         1.295379\n",
       "Sports          1.046000\n",
       "Action          0.749579\n",
       "Platform        0.639600\n",
       "Racing          0.577797\n",
       "Role-Playing    0.481969\n",
       "Simulation      0.464231\n",
       "Misc            0.461667\n",
       "Fighting        0.423571\n",
       "Puzzle          0.320000\n",
       "Strategy        0.288077\n",
       "Adventure       0.218043\n",
       "Name: ventas_totales, dtype: float64"
      ]
     },
     "execution_count": 148,
     "metadata": {},
     "output_type": "execute_result"
    }
   ],
   "source": [
    "juegos_x_genero = df_modelo.groupby('genre')['ventas_totales'].mean().sort_values(ascending=False)\n",
    "juegos_x_genero"
   ]
  },
  {
   "cell_type": "code",
   "execution_count": 149,
   "id": "382f6db4",
   "metadata": {},
   "outputs": [
    {
     "data": {
      "text/plain": [
       "<AxesSubplot:xlabel='genre'>"
      ]
     },
     "execution_count": 149,
     "metadata": {},
     "output_type": "execute_result"
    },
    {
     "data": {
      "image/png": "[encoded data removed]",
      "text/plain": [
       "<Figure size 640x480 with 1 Axes>"
      ]
     },
     "metadata": {},
     "output_type": "display_data"
    }
   ],
   "source": [
    "juegos_x_genero.plot(kind='bar')"
   ]
  },
  {
   "cell_type": "code",
   "execution_count": 150,
   "id": "42972bf9",
   "metadata": {},
   "outputs": [
    {
     "data": {
      "text/plain": [
       "3.0909580759046777"
      ]
     },
     "execution_count": 150,
     "metadata": {},
     "output_type": "execute_result"
    }
   ],
   "source": [
    "mayores_ventas = juegos_x_genero[0] + juegos_x_genero[1] + juegos_x_genero[2]\n",
    "mayores_ventas"
   ]
  },
  {
   "cell_type": "code",
   "execution_count": 151,
   "id": "897ea042",
   "metadata": {},
   "outputs": [
    {
     "data": {
      "text/plain": [
       "0.8261204013377925"
      ]
     },
     "execution_count": 151,
     "metadata": {},
     "output_type": "execute_result"
    }
   ],
   "source": [
    "menores_ventas = juegos_x_genero[-1] + juegos_x_genero[-2] + juegos_x_genero[-3]\n",
    "menores_ventas"
   ]
  },
  {
   "cell_type": "code",
   "execution_count": 152,
   "id": "b7082f30",
   "metadata": {},
   "outputs": [
    {
     "data": {
      "text/plain": [
       "3.741534612750491"
      ]
     },
     "execution_count": 152,
     "metadata": {},
     "output_type": "execute_result"
    }
   ],
   "source": [
    "mayores_ventas/menores_ventas"
   ]
  },
  {
   "cell_type": "markdown",
   "id": "4258e0e2",
   "metadata": {},
   "source": [
    "Los géneros de juegos más vendidos son el género de disparos, deportes y acción, mientras que los géneros menos vendidos son puzzle, estrategia, aventura. Los géneros más vendidos se han vendido de media 3.7 veces más que los menos vendidos."
   ]
  },
  {
   "cell_type": "markdown",
   "id": "ebb111b2",
   "metadata": {},
   "source": [
    "<div class=\"alert alert-block alert-danger\">\n",
    "<b>Comentario de Revisor</b> <a class=\"tocSkip\"></a>\n",
    "\n",
    "Para esta parte obtén el promedio de ventas por género, grafícalo y compara\n",
    "\n",
    "</div>\n"
   ]
  },
  {
   "cell_type": "markdown",
   "id": "e32df1c6",
   "metadata": {},
   "source": [
    "<div class=\"alert alert-block alert-success\">\n",
    "<b>Comentario de Revisor v2</b> <a class=\"tocSkip\"></a>\n",
    "\n",
    "Muy bien. Si solo vemos el total de ventas nos quedamos con una vista parcial de la rentabilidad\n",
    "\n",
    "</div>"
   ]
  },
  {
   "cell_type": "markdown",
   "id": "bc8eb083-99bf-4dc4-a55c-e9151937a2df",
   "metadata": {},
   "source": [
    "## Paso 4. Crea un perfil de usuario para cada región"
   ]
  },
  {
   "cell_type": "markdown",
   "id": "67cfa6ad",
   "metadata": {},
   "source": [
    "### Determina las 5 plataformas principales para cada región y describe las variaciones en sus cuotas de mercado"
   ]
  },
  {
   "cell_type": "code",
   "execution_count": 156,
   "id": "576e66ed-0d2a-429a-9ea6-d3baeb389a5e",
   "metadata": {},
   "outputs": [
    {
     "name": "stdout",
     "output_type": "stream",
     "text": [
      "303.7000000000001\n",
      "  platform  na_sales  cuota_de_mercado\n",
      "0      PS4     84.46          0.278103\n",
      "1     XOne     76.03          0.250346\n",
      "2     X360     50.85          0.167435\n",
      "3      PS3     42.13          0.138722\n",
      "4     WiiU     23.04          0.075864\n"
     ]
    }
   ],
   "source": [
    "# Encontrar las cinco plataformas principales para NA\n",
    "df_na = df_modelo.groupby('platform')['na_sales'].sum().sort_values(ascending=False).reset_index()\n",
    "\n",
    "# Calcula el tamaño total del mercado para NA\n",
    "print(df_na['na_sales'].sum())\n",
    "\n",
    "# calcula la cuota de mercado para cada plataforma\n",
    "df_na['cuota_de_mercado'] = df_na['na_sales'] / 303.7\n",
    "\n",
    "print(df_na.head())"
   ]
  },
  {
   "cell_type": "code",
   "execution_count": 157,
   "id": "44ecbfa9-4010-4577-a02f-bcd68b6034bb",
   "metadata": {},
   "outputs": [
    {
     "name": "stdout",
     "output_type": "stream",
     "text": [
      "275.56999999999994\n",
      "  platform  eu_sales  cuota_de_mercado\n",
      "0      PS4    112.44          0.408027\n",
      "1      PS3     43.29          0.157093\n",
      "2     XOne     42.23          0.153246\n",
      "3     X360     26.54          0.096309\n",
      "4       PC     21.93          0.079581\n"
     ]
    }
   ],
   "source": [
    "# Encontrar las cinco plataformas principales para EU\n",
    "df_eu = df_modelo.groupby('platform')['eu_sales'].sum().sort_values(ascending=False).reset_index()\n",
    "\n",
    "# Calcula el tamaño total del mercado para NA\n",
    "print(df_eu['eu_sales'].sum())\n",
    "\n",
    "# calcula la cuota de mercado para cada plataforma\n",
    "df_eu['cuota_de_mercado'] = df_eu['eu_sales'] / 275.57\n",
    "\n",
    "print(df_eu.head())"
   ]
  },
  {
   "cell_type": "code",
   "execution_count": 158,
   "id": "9d8e57b9",
   "metadata": {},
   "outputs": [
    {
     "name": "stdout",
     "output_type": "stream",
     "text": [
      "49.48999999999997\n",
      "  platform  jp_sales  cuota_de_mercado\n",
      "0      3DS     14.16          0.286118\n",
      "1      PS3     10.99          0.222065\n",
      "2      PS4      9.43          0.190544\n",
      "3     WiiU      8.36          0.168923\n",
      "4      PSV      5.71          0.115377\n"
     ]
    }
   ],
   "source": [
    "# Encontrar las cinco plataformas principales para JP\n",
    "df_jp = df_modelo.groupby('platform')['jp_sales'].sum().sort_values(ascending=False).reset_index()\n",
    "\n",
    "# Calcula el tamaño total del mercado para NA\n",
    "print(df_jp['jp_sales'].sum())\n",
    "\n",
    "# calcula la cuota de mercado para cada plataforma\n",
    "df_jp['cuota_de_mercado'] = df_jp['jp_sales'] / 49.49\n",
    "\n",
    "print(df_jp.head())"
   ]
  },
  {
   "cell_type": "markdown",
   "id": "87fb584c",
   "metadata": {},
   "source": [
    "PS4 es la mayor plataforma en Norteamérica y Europa con cuotas de mercado del 27.8% y del 40.8%, respectivamente. En Japón es la tercera plataforma con un 19% de cuota de mercado.\n",
    "\n",
    "PS3 ocupa el segundo puesto tanto en Europa como en Japón. Sin embargo, en Norteamérica ocupa la cuarta posición.\n",
    "\n",
    "Xbox One ocupa la segunda y tercera posición en Norteamérica y en Europa, respectivamente. Aún así, en Japón no llega a estar entre las primeras 5.\n",
    "\n",
    "La plataforma con mayores ventas en Japón es la Nintendo DS con una cuota de mercado del 28.6%."
   ]
  },
  {
   "cell_type": "markdown",
   "id": "2b5dcdc8",
   "metadata": {},
   "source": [
    "### Determinar los 5 géneros principales para cada región"
   ]
  },
  {
   "cell_type": "code",
   "execution_count": 159,
   "id": "0fae6775",
   "metadata": {},
   "outputs": [
    {
     "data": {
      "text/html": [
       "<div>\n",
       "<style scoped>\n",
       "    .dataframe tbody tr th:only-of-type {\n",
       "        vertical-align: middle;\n",
       "    }\n",
       "\n",
       "    .dataframe tbody tr th {\n",
       "        vertical-align: top;\n",
       "    }\n",
       "\n",
       "    .dataframe thead th {\n",
       "        text-align: right;\n",
       "    }\n",
       "</style>\n",
       "<table border=\"1\" class=\"dataframe\">\n",
       "  <thead>\n",
       "    <tr style=\"text-align: right;\">\n",
       "      <th></th>\n",
       "      <th>genre</th>\n",
       "      <th>na_sales</th>\n",
       "    </tr>\n",
       "  </thead>\n",
       "  <tbody>\n",
       "    <tr>\n",
       "      <th>0</th>\n",
       "      <td>Action</td>\n",
       "      <td>97.06</td>\n",
       "    </tr>\n",
       "    <tr>\n",
       "      <th>1</th>\n",
       "      <td>Shooter</td>\n",
       "      <td>81.03</td>\n",
       "    </tr>\n",
       "    <tr>\n",
       "      <th>2</th>\n",
       "      <td>Sports</td>\n",
       "      <td>51.16</td>\n",
       "    </tr>\n",
       "    <tr>\n",
       "      <th>3</th>\n",
       "      <td>Role-Playing</td>\n",
       "      <td>23.08</td>\n",
       "    </tr>\n",
       "    <tr>\n",
       "      <th>4</th>\n",
       "      <td>Platform</td>\n",
       "      <td>13.75</td>\n",
       "    </tr>\n",
       "  </tbody>\n",
       "</table>\n",
       "</div>"
      ],
      "text/plain": [
       "          genre  na_sales\n",
       "0        Action     97.06\n",
       "1       Shooter     81.03\n",
       "2        Sports     51.16\n",
       "3  Role-Playing     23.08\n",
       "4      Platform     13.75"
      ]
     },
     "execution_count": 159,
     "metadata": {},
     "output_type": "execute_result"
    }
   ],
   "source": [
    "# Encontrar los cinco géneros principales para NA\n",
    "df_na = df_modelo.groupby('genre')['na_sales'].sum().sort_values(ascending=False).reset_index()\n",
    "df_na.head()"
   ]
  },
  {
   "cell_type": "code",
   "execution_count": 160,
   "id": "6c6bfebe",
   "metadata": {},
   "outputs": [
    {
     "data": {
      "text/html": [
       "<div>\n",
       "<style scoped>\n",
       "    .dataframe tbody tr th:only-of-type {\n",
       "        vertical-align: middle;\n",
       "    }\n",
       "\n",
       "    .dataframe tbody tr th {\n",
       "        vertical-align: top;\n",
       "    }\n",
       "\n",
       "    .dataframe thead th {\n",
       "        text-align: right;\n",
       "    }\n",
       "</style>\n",
       "<table border=\"1\" class=\"dataframe\">\n",
       "  <thead>\n",
       "    <tr style=\"text-align: right;\">\n",
       "      <th></th>\n",
       "      <th>genre</th>\n",
       "      <th>eu_sales</th>\n",
       "    </tr>\n",
       "  </thead>\n",
       "  <tbody>\n",
       "    <tr>\n",
       "      <th>0</th>\n",
       "      <td>Action</td>\n",
       "      <td>91.00</td>\n",
       "    </tr>\n",
       "    <tr>\n",
       "      <th>1</th>\n",
       "      <td>Shooter</td>\n",
       "      <td>64.04</td>\n",
       "    </tr>\n",
       "    <tr>\n",
       "      <th>2</th>\n",
       "      <td>Sports</td>\n",
       "      <td>46.96</td>\n",
       "    </tr>\n",
       "    <tr>\n",
       "      <th>3</th>\n",
       "      <td>Role-Playing</td>\n",
       "      <td>19.28</td>\n",
       "    </tr>\n",
       "    <tr>\n",
       "      <th>4</th>\n",
       "      <td>Racing</td>\n",
       "      <td>16.90</td>\n",
       "    </tr>\n",
       "  </tbody>\n",
       "</table>\n",
       "</div>"
      ],
      "text/plain": [
       "          genre  eu_sales\n",
       "0        Action     91.00\n",
       "1       Shooter     64.04\n",
       "2        Sports     46.96\n",
       "3  Role-Playing     19.28\n",
       "4        Racing     16.90"
      ]
     },
     "execution_count": 160,
     "metadata": {},
     "output_type": "execute_result"
    }
   ],
   "source": [
    "# Encontrar los cinco géneros principales para EU\n",
    "df_eu = df_modelo.groupby('genre')['eu_sales'].sum().sort_values(ascending=False).reset_index()\n",
    "df_eu.head()"
   ]
  },
  {
   "cell_type": "code",
   "execution_count": 161,
   "id": "60e9e693",
   "metadata": {},
   "outputs": [
    {
     "data": {
      "text/html": [
       "<div>\n",
       "<style scoped>\n",
       "    .dataframe tbody tr th:only-of-type {\n",
       "        vertical-align: middle;\n",
       "    }\n",
       "\n",
       "    .dataframe tbody tr th {\n",
       "        vertical-align: top;\n",
       "    }\n",
       "\n",
       "    .dataframe thead th {\n",
       "        text-align: right;\n",
       "    }\n",
       "</style>\n",
       "<table border=\"1\" class=\"dataframe\">\n",
       "  <thead>\n",
       "    <tr style=\"text-align: right;\">\n",
       "      <th></th>\n",
       "      <th>genre</th>\n",
       "      <th>na_sales</th>\n",
       "    </tr>\n",
       "  </thead>\n",
       "  <tbody>\n",
       "    <tr>\n",
       "      <th>0</th>\n",
       "      <td>Action</td>\n",
       "      <td>97.06</td>\n",
       "    </tr>\n",
       "    <tr>\n",
       "      <th>1</th>\n",
       "      <td>Shooter</td>\n",
       "      <td>81.03</td>\n",
       "    </tr>\n",
       "    <tr>\n",
       "      <th>2</th>\n",
       "      <td>Sports</td>\n",
       "      <td>51.16</td>\n",
       "    </tr>\n",
       "    <tr>\n",
       "      <th>3</th>\n",
       "      <td>Role-Playing</td>\n",
       "      <td>23.08</td>\n",
       "    </tr>\n",
       "    <tr>\n",
       "      <th>4</th>\n",
       "      <td>Platform</td>\n",
       "      <td>13.75</td>\n",
       "    </tr>\n",
       "  </tbody>\n",
       "</table>\n",
       "</div>"
      ],
      "text/plain": [
       "          genre  na_sales\n",
       "0        Action     97.06\n",
       "1       Shooter     81.03\n",
       "2        Sports     51.16\n",
       "3  Role-Playing     23.08\n",
       "4      Platform     13.75"
      ]
     },
     "execution_count": 161,
     "metadata": {},
     "output_type": "execute_result"
    }
   ],
   "source": [
    "# Encontrar los cinco géneros principales para JP\n",
    "df_jp = df_modelo.groupby('genre')['na_sales'].sum().sort_values(ascending=False).reset_index()\n",
    "df_jp.head()"
   ]
  },
  {
   "cell_type": "markdown",
   "id": "28547606",
   "metadata": {},
   "source": [
    "Curiosamente, las 3 regiones tienen gustos similares y en el mismo orden. Es decir, para las 3 regiones los géneros principales son Action, Shooter, Sports, Role-Playing y Platform, a excepción de la quinta posición para Europa. En este caso el género Racing ocupa la quinta posición en Europa pero el género platform ocupa dicho posición en Norteamérica y en Japón."
   ]
  },
  {
   "cell_type": "markdown",
   "id": "239ea87e",
   "metadata": {},
   "source": [
    "### Para cada región (NA, UE, JP) determina si las clasificaciones de ESRB afectan a las ventas en regiones individuales"
   ]
  },
  {
   "cell_type": "code",
   "execution_count": 162,
   "id": "7ae2d5a5",
   "metadata": {},
   "outputs": [
    {
     "data": {
      "text/html": [
       "<div>\n",
       "<style scoped>\n",
       "    .dataframe tbody tr th:only-of-type {\n",
       "        vertical-align: middle;\n",
       "    }\n",
       "\n",
       "    .dataframe tbody tr th {\n",
       "        vertical-align: top;\n",
       "    }\n",
       "\n",
       "    .dataframe thead th {\n",
       "        text-align: right;\n",
       "    }\n",
       "</style>\n",
       "<table border=\"1\" class=\"dataframe\">\n",
       "  <thead>\n",
       "    <tr style=\"text-align: right;\">\n",
       "      <th></th>\n",
       "      <th>rating</th>\n",
       "      <th>na_sales</th>\n",
       "    </tr>\n",
       "  </thead>\n",
       "  <tbody>\n",
       "    <tr>\n",
       "      <th>0</th>\n",
       "      <td>M</td>\n",
       "      <td>152.83</td>\n",
       "    </tr>\n",
       "    <tr>\n",
       "      <th>1</th>\n",
       "      <td>E</td>\n",
       "      <td>65.67</td>\n",
       "    </tr>\n",
       "    <tr>\n",
       "      <th>2</th>\n",
       "      <td>T</td>\n",
       "      <td>45.13</td>\n",
       "    </tr>\n",
       "    <tr>\n",
       "      <th>3</th>\n",
       "      <td>E10+</td>\n",
       "      <td>39.01</td>\n",
       "    </tr>\n",
       "    <tr>\n",
       "      <th>4</th>\n",
       "      <td>RP</td>\n",
       "      <td>1.06</td>\n",
       "    </tr>\n",
       "  </tbody>\n",
       "</table>\n",
       "</div>"
      ],
      "text/plain": [
       "  rating  na_sales\n",
       "0      M    152.83\n",
       "1      E     65.67\n",
       "2      T     45.13\n",
       "3   E10+     39.01\n",
       "4     RP      1.06"
      ]
     },
     "execution_count": 162,
     "metadata": {},
     "output_type": "execute_result"
    }
   ],
   "source": [
    "# Calcular las ventas por ESRB rating para NA\n",
    "df_esrb_na = df_modelo.groupby('rating')['na_sales'].sum().sort_values(ascending=False).reset_index()\n",
    "df_esrb_na"
   ]
  },
  {
   "cell_type": "code",
   "execution_count": 163,
   "id": "75318e33",
   "metadata": {},
   "outputs": [
    {
     "data": {
      "text/html": [
       "<div>\n",
       "<style scoped>\n",
       "    .dataframe tbody tr th:only-of-type {\n",
       "        vertical-align: middle;\n",
       "    }\n",
       "\n",
       "    .dataframe tbody tr th {\n",
       "        vertical-align: top;\n",
       "    }\n",
       "\n",
       "    .dataframe thead th {\n",
       "        text-align: right;\n",
       "    }\n",
       "</style>\n",
       "<table border=\"1\" class=\"dataframe\">\n",
       "  <thead>\n",
       "    <tr style=\"text-align: right;\">\n",
       "      <th></th>\n",
       "      <th>rating</th>\n",
       "      <th>eu_sales</th>\n",
       "    </tr>\n",
       "  </thead>\n",
       "  <tbody>\n",
       "    <tr>\n",
       "      <th>0</th>\n",
       "      <td>M</td>\n",
       "      <td>135.48</td>\n",
       "    </tr>\n",
       "    <tr>\n",
       "      <th>1</th>\n",
       "      <td>E</td>\n",
       "      <td>69.18</td>\n",
       "    </tr>\n",
       "    <tr>\n",
       "      <th>2</th>\n",
       "      <td>T</td>\n",
       "      <td>38.87</td>\n",
       "    </tr>\n",
       "    <tr>\n",
       "      <th>3</th>\n",
       "      <td>E10+</td>\n",
       "      <td>29.97</td>\n",
       "    </tr>\n",
       "    <tr>\n",
       "      <th>4</th>\n",
       "      <td>RP</td>\n",
       "      <td>2.07</td>\n",
       "    </tr>\n",
       "  </tbody>\n",
       "</table>\n",
       "</div>"
      ],
      "text/plain": [
       "  rating  eu_sales\n",
       "0      M    135.48\n",
       "1      E     69.18\n",
       "2      T     38.87\n",
       "3   E10+     29.97\n",
       "4     RP      2.07"
      ]
     },
     "execution_count": 163,
     "metadata": {},
     "output_type": "execute_result"
    }
   ],
   "source": [
    "# Calcular las ventas por ESRB rating para EU\n",
    "df_esrb_eu = df_modelo.groupby('rating')['eu_sales'].sum().sort_values(ascending=False).reset_index()\n",
    "df_esrb_eu"
   ]
  },
  {
   "cell_type": "code",
   "execution_count": 164,
   "id": "c159313d",
   "metadata": {},
   "outputs": [
    {
     "data": {
      "text/html": [
       "<div>\n",
       "<style scoped>\n",
       "    .dataframe tbody tr th:only-of-type {\n",
       "        vertical-align: middle;\n",
       "    }\n",
       "\n",
       "    .dataframe tbody tr th {\n",
       "        vertical-align: top;\n",
       "    }\n",
       "\n",
       "    .dataframe thead th {\n",
       "        text-align: right;\n",
       "    }\n",
       "</style>\n",
       "<table border=\"1\" class=\"dataframe\">\n",
       "  <thead>\n",
       "    <tr style=\"text-align: right;\">\n",
       "      <th></th>\n",
       "      <th>rating</th>\n",
       "      <th>jp_sales</th>\n",
       "    </tr>\n",
       "  </thead>\n",
       "  <tbody>\n",
       "    <tr>\n",
       "      <th>0</th>\n",
       "      <td>T</td>\n",
       "      <td>16.54</td>\n",
       "    </tr>\n",
       "    <tr>\n",
       "      <th>1</th>\n",
       "      <td>E</td>\n",
       "      <td>14.14</td>\n",
       "    </tr>\n",
       "    <tr>\n",
       "      <th>2</th>\n",
       "      <td>M</td>\n",
       "      <td>12.93</td>\n",
       "    </tr>\n",
       "    <tr>\n",
       "      <th>3</th>\n",
       "      <td>E10+</td>\n",
       "      <td>5.65</td>\n",
       "    </tr>\n",
       "    <tr>\n",
       "      <th>4</th>\n",
       "      <td>RP</td>\n",
       "      <td>0.23</td>\n",
       "    </tr>\n",
       "  </tbody>\n",
       "</table>\n",
       "</div>"
      ],
      "text/plain": [
       "  rating  jp_sales\n",
       "0      T     16.54\n",
       "1      E     14.14\n",
       "2      M     12.93\n",
       "3   E10+      5.65\n",
       "4     RP      0.23"
      ]
     },
     "execution_count": 164,
     "metadata": {},
     "output_type": "execute_result"
    }
   ],
   "source": [
    "# Calcular las ventas por ESRB rating para JP\n",
    "df_esrb_jp = df_modelo.groupby('rating')['jp_sales'].sum().sort_values(ascending=False).reset_index()\n",
    "df_esrb_jp"
   ]
  },
  {
   "cell_type": "markdown",
   "id": "60c8fb4c",
   "metadata": {},
   "source": [
    "Como se evidencia anteriormente, las ventas por ESRB rating tienen una variación importante para las 3 regiones, por lo cuál se concluye que el ESRB rating afecta las ventas en regiones individuales."
   ]
  },
  {
   "cell_type": "markdown",
   "id": "c8b267cb",
   "metadata": {},
   "source": [
    "<div class=\"alert alert-block alert-danger\">\n",
    "<b>Comentario de Revisor</b> <a class=\"tocSkip\"></a>\n",
    "\n",
    "Ok, correcta la metodología. Revisa cómo cambia el resultado luego de modificar los años relevantes.\n",
    "\n",
    "</div>\n"
   ]
  },
  {
   "cell_type": "markdown",
   "id": "68bf56e1",
   "metadata": {},
   "source": [
    "<div class=\"alert alert-block alert-success\">\n",
    "<b>Comentario de Revisor v2</b> <a class=\"tocSkip\"></a>\n",
    "\n",
    "Buen trabajo en el análisis por regiones\n",
    "\n",
    "</div>"
   ]
  },
  {
   "cell_type": "markdown",
   "id": "51883fee-2d4b-4df4-9918-afad7d94554a",
   "metadata": {
    "tags": []
   },
   "source": [
    "## Paso 5. Prueba las siguientes hipótesis:"
   ]
  },
  {
   "cell_type": "markdown",
   "id": "288b1651",
   "metadata": {},
   "source": [
    "**Hipótesis:** Las calificaciones promedio de los usuarios para las plataformas Xbox One y PC son las mismas."
   ]
  },
  {
   "cell_type": "markdown",
   "id": "05e5ada5",
   "metadata": {},
   "source": [
    "- **H0:** No hay diferencia en las calificaciones promedio de los usuarios para las plataformas Xbox One y PC\n",
    "- **H1:** Si hay diferencia en las calificaciones promedio de los usuarios para las plataformas Xbox One y PC"
   ]
  },
  {
   "cell_type": "code",
   "execution_count": 59,
   "id": "c511229e",
   "metadata": {},
   "outputs": [
    {
     "data": {
      "text/plain": [
       "165    7.9\n",
       "179    5.4\n",
       "242    6.4\n",
       "270    6.2\n",
       "373    4.1\n",
       "Name: user_score, dtype: float64"
      ]
     },
     "execution_count": 59,
     "metadata": {},
     "output_type": "execute_result"
    }
   ],
   "source": [
    "# Calcular la distribución de las calificaciones promedio de los usuarios para Xbox One\n",
    "xone_score = df[(df['platform'] == 'XOne') & (df['user_score'] > 0)]['user_score']\n",
    "xone_score.head()"
   ]
  },
  {
   "cell_type": "code",
   "execution_count": 60,
   "id": "163403aa-7a7a-4055-8610-70d8d1ec0d08",
   "metadata": {},
   "outputs": [
    {
     "data": {
      "text/plain": [
       "85     7.6\n",
       "138    7.3\n",
       "192    4.0\n",
       "218    8.2\n",
       "284    9.1\n",
       "Name: user_score, dtype: float64"
      ]
     },
     "execution_count": 60,
     "metadata": {},
     "output_type": "execute_result"
    }
   ],
   "source": [
    "# Calcular la distribución de las calificaciones promedio de los usuarios para PC\n",
    "pc_score = df[(df['platform'] == 'PC') & (df['user_score'] > 0)]['user_score']\n",
    "pc_score.head()"
   ]
  },
  {
   "cell_type": "code",
   "execution_count": 61,
   "id": "cc99a3bb",
   "metadata": {},
   "outputs": [],
   "source": [
    "alpha = 0.05"
   ]
  },
  {
   "cell_type": "code",
   "execution_count": 62,
   "id": "b2caf356",
   "metadata": {},
   "outputs": [
    {
     "data": {
      "text/plain": [
       "0.2693951512047048"
      ]
     },
     "execution_count": 62,
     "metadata": {},
     "output_type": "execute_result"
    }
   ],
   "source": [
    "# Test de Levene\n",
    "stat, p = st.levene(xone_score, pc_score)\n",
    "p"
   ]
  },
  {
   "cell_type": "code",
   "execution_count": 63,
   "id": "a5a9231f-9c55-40aa-a3f3-4c9388db5317",
   "metadata": {},
   "outputs": [
    {
     "name": "stdout",
     "output_type": "stream",
     "text": [
      "1.3896435533548819e-05\n"
     ]
    }
   ],
   "source": [
    "# Test de Student\n",
    "stat, pvalue = st.ttest_ind(xone_score, pc_score, equal_var=True)\n",
    "print(pvalue)"
   ]
  },
  {
   "cell_type": "code",
   "execution_count": null,
   "id": "7e98d62e",
   "metadata": {},
   "outputs": [],
   "source": []
  },
  {
   "cell_type": "markdown",
   "id": "a608a2c5",
   "metadata": {},
   "source": [
    "**Conclusión:** Con una significancia de 0.05 y un p-valor de 1.38xe^05, se rechaza la hipótesis nula. Sí hay diferencia en las calificaciones promedio de los usuarios para las plataformas Xbox One y PC"
   ]
  },
  {
   "cell_type": "markdown",
   "id": "7ac03eb3",
   "metadata": {},
   "source": [
    "<div class=\"alert alert-block alert-danger\">\n",
    "<b>Comentario de Revisor</b> <a class=\"tocSkip\"></a>\n",
    "\n",
    "Ok, correcta la metodología pero la conclusión es incorrecta en este resultado, recuerda que pvalue<alfa implica rechazar la hipótesis nula. De todas formas, revisa cómo cambia el resultado luego de modificar los años relevantes.\n",
    "\n",
    "</div>\n"
   ]
  },
  {
   "cell_type": "markdown",
   "id": "4f559c15",
   "metadata": {},
   "source": [
    "<div class=\"alert alert-block alert-success\">\n",
    "<b>Comentario de Revisor v2</b> <a class=\"tocSkip\"></a>\n",
    "\n",
    "Bien, corregido\n",
    "\n",
    "</div>"
   ]
  },
  {
   "cell_type": "markdown",
   "id": "61a4cbfa",
   "metadata": {},
   "source": [
    "**Hipótesis:** Las calificaciones promedio de los usuarios para los géneros de Acción y Deportes son diferentes."
   ]
  },
  {
   "cell_type": "markdown",
   "id": "1019cd98",
   "metadata": {},
   "source": [
    "- **H0:** No hay diferencia en las calificaciones promedio de los usuarios entre los géneros de Acción y Deportes.\n",
    "- **H1:** Sí hay una diferencia en las calificaciones promedio de los usuarios entre los géneros de Acción y Deportes."
   ]
  },
  {
   "cell_type": "code",
   "execution_count": 64,
   "id": "8fa00ccb",
   "metadata": {},
   "outputs": [
    {
     "data": {
      "text/plain": [
       "16    8.2\n",
       "17    9.0\n",
       "23    8.1\n",
       "24    8.7\n",
       "38    8.5\n",
       "Name: user_score, dtype: float64"
      ]
     },
     "execution_count": 64,
     "metadata": {},
     "output_type": "execute_result"
    }
   ],
   "source": [
    "# Calcular la distribución de las calificaciones promedio de los usuarios para el género de Acción\n",
    "action_score = df[(df['genre'] == 'Action') & (df['user_score'] > 0)]['user_score']\n",
    "action_score.head()"
   ]
  },
  {
   "cell_type": "code",
   "execution_count": 65,
   "id": "c926c947",
   "metadata": {},
   "outputs": [
    {
     "data": {
      "text/plain": [
       "0     8.0\n",
       "3     8.0\n",
       "13    7.7\n",
       "15    7.4\n",
       "77    4.3\n",
       "Name: user_score, dtype: float64"
      ]
     },
     "execution_count": 65,
     "metadata": {},
     "output_type": "execute_result"
    }
   ],
   "source": [
    "# Calcular la distribución de las calificaciones promedio de los usuarios para el género de Deportes\n",
    "sports_score = df[(df['genre'] == 'Sports') & (df['user_score'] > 0)]['user_score']\n",
    "sports_score.head()"
   ]
  },
  {
   "cell_type": "code",
   "execution_count": 66,
   "id": "a2079112",
   "metadata": {},
   "outputs": [],
   "source": [
    "alpha = 0.05"
   ]
  },
  {
   "cell_type": "code",
   "execution_count": 67,
   "id": "3937af2a",
   "metadata": {},
   "outputs": [
    {
     "data": {
      "text/plain": [
       "0.0001736640672727649"
      ]
     },
     "execution_count": 67,
     "metadata": {},
     "output_type": "execute_result"
    }
   ],
   "source": [
    "# Test de Levene\n",
    "stat, p = st.levene(action_score, sports_score)\n",
    "p"
   ]
  },
  {
   "cell_type": "code",
   "execution_count": 68,
   "id": "333ecf7e",
   "metadata": {},
   "outputs": [
    {
     "name": "stdout",
     "output_type": "stream",
     "text": [
      "0.11483818791498286\n"
     ]
    }
   ],
   "source": [
    "# Test de Student\n",
    "stat, pvalue = st.ttest_ind(action_score, sports_score, equal_var=False)\n",
    "print(pvalue)"
   ]
  },
  {
   "cell_type": "markdown",
   "id": "b28c97c8",
   "metadata": {},
   "source": [
    " **Conclusión:** El p-valor obtenido fue de 0.11, contra un nivel alfa del 0.05. De esta forma, no se recahza la hipótesis nula. Es decir, no hay diferencia en las calificaciones promedio de los usuarios entre los géneros de Acción y Deportes."
   ]
  },
  {
   "cell_type": "markdown",
   "id": "9392345c",
   "metadata": {},
   "source": [
    "<div class=\"alert alert-block alert-danger\">\n",
    "<b>Comentario de Revisor</b> <a class=\"tocSkip\"></a>\n",
    "\n",
    "Ok, correcta la metodología pero la conclusión es incorrecta en este resultado, recuerda que pvalue>alfa implica que no se puede rechazar la hipótesis nula. De todas formas, revisa cómo cambia el resultado luego de modificar los años relevantes.\n",
    "\n",
    "</div>\n"
   ]
  },
  {
   "cell_type": "markdown",
   "id": "bfd735f4",
   "metadata": {},
   "source": [
    "<div class=\"alert alert-block alert-success\">\n",
    "<b>Comentario de Revisor v2</b> <a class=\"tocSkip\"></a>\n",
    "\n",
    "Bien, corregido\n",
    "\n",
    "</div>"
   ]
  },
  {
   "cell_type": "markdown",
   "id": "8fd01c03",
   "metadata": {},
   "source": [
    "## Paso 6. Escribe una conclusión general"
   ]
  },
  {
   "cell_type": "markdown",
   "id": "54ea574e",
   "metadata": {},
   "source": [
    "- **Paso 1:** Se abrió el archivo y al revisar la información se encontró que exitían valores vacíos. Había una mayor cantidad de valores vacíos en las columnas Critic_Score, User_score y Rating.\n",
    "\n",
    "- **Paso 2:** Se reemplazaron los nombres de las columnas (se pusieron en minúsculas). También Se convierte la fila Year of Release al tipo entero pues no puede haber años que contengan decimales. Para poder realizar este paso, el método no permite que hayan valores vacíos, por lo cuál se procede a rellenar dichos valores vacíos con menos uno (-1). No se rellenan con la media ni la mediana, pues la media de los datos es 2006 y al ponerla se puede concluir erroneamente que ese año hubo muchas más ventas de las que realmente hubo. Además, se rellenaron los valores vacíos en critic score y en user score con menos uno.\n",
    "\n",
    "Asimismo, los valores TBD (to be determined) también se convirtieron a menos 1 pues son valores que no están determinados (condición similar a ser un valor nulo) y al ser un valor de tipo string no permite la conversión de la columna a un tipo numerico que es más apropiado para esta columna.\n",
    "\n",
    "En este caso la columna fue convertida a tipo float ya que se evidencia que algunos de sus datos contienen decimales. En el caso del rating se rellenaron con la clasificación RP que significa que está pendiente el rating.\n",
    "\n",
    "De igual forma, se calcularon las ventas totales para cada juego y colocar dichos valores en una columna separada.\n",
    "\n",
    "- **Paso3:** Al revisar cuántos juegos fueron lanzados en diferentes años, se ve que hubo un aumento en el número de juegos lanzados desde 1980 hasta 2011. En 2012 el número de juegos lanzados decreció hasta casi la mitad y de ahí en adelante continuó fluctuando (en algunos años aumentó y en otros decreció) en los años siguientes hasta 2016 (que es hasta donde se tienen datos).\n",
    "\n",
    "Además, se encontró que las plataformas con mayores ventas son PS2, PS3 y Xbox360. Se construyó una distribución basada en estas 3 plataformas.\n",
    "\n",
    "Más aún, se encontró que generalmente las plataformas tardan 7.6 años en desaparecer. Por lo cual, se determinó que los datos que se utilizaron para relizar un modelo se deben tomar desde 2008 hasta 2016. Esto se debe a que tenemos datos hasta 2016 y de ahí contamos 8 años hacia atrás que es el promedio de vida de una plataforma.\n",
    "\n",
    "De esta forma, se encontró que las plataformas líderes en ventas para el periodo escogido son PS3, X360 y Wii. También se encontró que para 2016 las ventas de todas las plataformas están decreciendo. Sin embargo, en base a años anteriores, podríamos argumentar que las ventas de la PS4 y las de Xbox One venían aumentando. Entonces puede ser que el decrecimiento observado en 2016 se deba a que nuestros datos no van hasta el 31 de Diciembre de 2016 sino hasta una fecha anterior, por lo cuál el dato de 2016 no incorpora una parte de las ventas, que pudiesen haber sido mayores. Asimismo, exceptuando Wii, las plataformas que más ventas tienen (X360, XOne, PS3 y PS4) son las que también presentan mayor dispersión en sus datos y son las que mantienen ventas promedio mayores.\n",
    "\n",
    "Del mismo modo, se encontró que las ventas de los videojuegos para la PS3 están correlacionadas positivamente con las reseñas de usuarios y profesionales. Sin embargo, esta correlación es baja para ambos casos. Asimismo, la correlación con las reseñas de la crítica es más fuerte que la correlación con las reseñas de los usuarios.\n",
    "\n",
    "Se observó que la PS3 ocupa consistentemente los primeros lugares en ventas entre plataformas de un subgrupo escogido. Xbox 360 es también una importante plataforma, siendo la primera en ventas para el juego The LEGO y Terraria y segunda para otros 4 videojuegos.\n",
    "\n",
    "De igual manera, se encontró que los géneros de juegos más vendidos son el género acción, de disparos y deportes, mientras que los géneros menos vendidos son estrategia, aventura y puzzle. Los géneros más vendidos se han vendido 16 veces más que los menos vendidos.\n",
    "\n",
    "- **Paso 4:** PS4 es la mayor plataforma en Norteamérica y Europa con cuotas de mercado del 27.8% y del 40.8%, respectivamente. En Japón es la tercera plataforma con un 19% de cuota de mercado.\n",
    "\n",
    "PS3 ocupa el segundo puesto tanto en Europa como en Japón. Sin embargo, en Norteamérica ocupa la cuarta posición.\n",
    "\n",
    "Xbox One ocupa la segunda y tercera posición en Norteamérica y en Europa, respectivamente. Aún así, en Japón no llega a estar entre las primeras 5.\n",
    "\n",
    "La plataforma con mayores ventas en Japón es la Nintendo DS con una cuota de mercado del 28.6%.\n",
    "\n",
    "Al determinar los 5 géneros principales para cada región encontramos que para las 3 regiones son Action, Sports, Shooter, Platform y Misc, a excepción de la cuarta posición para Europa. En este caso el género Racing ocupa la cuarta posición en Europa pero el género platform ocupa dicho posición en Norteamérica y en Japón.\n",
    "\n",
    "También se encontró que las ventas por ESRB rating tienen una variación importante para las 3 regiones, por lo cuál se concluye que el ESRB rating afecta las ventas en regiones individuales.\n",
    "\n",
    "- **Paso 5:** Se realizó un test de hipótesis, mediante el cuál se comprobó que, con un p-valor de 1.38e-05 y un nivel alfa de 0.05, sí hay diferencia en las calificaciones promedio de los usuarios para las plataformas Xbox One y PC.\n",
    "\n",
    "Asimismo, al validar, mediante un test de hipótesis, si las calificaciones promedio de los usuarios para los géneros de Acción y Deportes son diferentes no se encontró diferencia."
   ]
  },
  {
   "cell_type": "markdown",
   "id": "caa91cf7",
   "metadata": {},
   "source": [
    "<div class=\"alert alert-block alert-success\">\n",
    "<b>Comentario de Revisor v2</b> <a class=\"tocSkip\"></a>\n",
    "\n",
    "Muy buenas conclusiones, aunque algo extensas. Si bien me parece correcto que ingluyas un resumen de lo que se hizo y de lo que se encontró, en esta parte no es necesario mencionar todos los análisis, solo lo más relevante. Me parece muy bien que incluyas valores numéricos de los datos más importantes calculados.\n",
    "\n",
    "</div>"
   ]
  }
 ],
 "metadata": {
  "ExecuteTimeLog": [
   {
    "duration": 2363,
    "start_time": "2025-04-02T10:23:27.482Z"
   },
   {
    "duration": 2585,
    "start_time": "2025-04-02T10:23:29.847Z"
   },
   {
    "duration": 0,
    "start_time": "2025-04-02T10:23:32.437Z"
   },
   {
    "duration": 0,
    "start_time": "2025-04-02T10:23:32.442Z"
   },
   {
    "duration": 0,
    "start_time": "2025-04-02T10:23:32.443Z"
   },
   {
    "duration": 0,
    "start_time": "2025-04-02T10:23:32.444Z"
   },
   {
    "duration": 0,
    "start_time": "2025-04-02T10:23:32.445Z"
   },
   {
    "duration": 0,
    "start_time": "2025-04-02T10:23:32.446Z"
   },
   {
    "duration": 0,
    "start_time": "2025-04-02T10:23:32.448Z"
   },
   {
    "duration": 0,
    "start_time": "2025-04-02T10:23:32.449Z"
   },
   {
    "duration": 0,
    "start_time": "2025-04-02T10:23:32.450Z"
   },
   {
    "duration": 0,
    "start_time": "2025-04-02T10:23:32.453Z"
   },
   {
    "duration": 0,
    "start_time": "2025-04-02T10:23:32.530Z"
   },
   {
    "duration": 0,
    "start_time": "2025-04-02T10:23:32.532Z"
   },
   {
    "duration": 0,
    "start_time": "2025-04-02T10:23:32.533Z"
   },
   {
    "duration": 0,
    "start_time": "2025-04-02T10:23:32.535Z"
   },
   {
    "duration": 0,
    "start_time": "2025-04-02T10:23:32.536Z"
   },
   {
    "duration": 0,
    "start_time": "2025-04-02T10:23:32.538Z"
   },
   {
    "duration": 0,
    "start_time": "2025-04-02T10:23:32.539Z"
   },
   {
    "duration": 0,
    "start_time": "2025-04-02T10:23:32.541Z"
   },
   {
    "duration": 0,
    "start_time": "2025-04-02T10:23:32.542Z"
   },
   {
    "duration": 0,
    "start_time": "2025-04-02T10:23:32.544Z"
   },
   {
    "duration": 0,
    "start_time": "2025-04-02T10:23:32.545Z"
   },
   {
    "duration": 0,
    "start_time": "2025-04-02T10:23:32.546Z"
   },
   {
    "duration": 0,
    "start_time": "2025-04-02T10:23:32.547Z"
   },
   {
    "duration": 1,
    "start_time": "2025-04-02T10:23:32.548Z"
   },
   {
    "duration": 0,
    "start_time": "2025-04-02T10:23:32.550Z"
   },
   {
    "duration": 0,
    "start_time": "2025-04-02T10:23:32.551Z"
   },
   {
    "duration": 0,
    "start_time": "2025-04-02T10:23:32.552Z"
   },
   {
    "duration": 0,
    "start_time": "2025-04-02T10:23:32.554Z"
   },
   {
    "duration": 0,
    "start_time": "2025-04-02T10:23:32.555Z"
   },
   {
    "duration": 0,
    "start_time": "2025-04-02T10:23:32.555Z"
   },
   {
    "duration": 0,
    "start_time": "2025-04-02T10:23:32.556Z"
   },
   {
    "duration": 0,
    "start_time": "2025-04-02T10:23:32.556Z"
   },
   {
    "duration": 0,
    "start_time": "2025-04-02T10:23:32.557Z"
   },
   {
    "duration": 0,
    "start_time": "2025-04-02T10:23:32.557Z"
   },
   {
    "duration": 0,
    "start_time": "2025-04-02T10:23:32.558Z"
   },
   {
    "duration": 0,
    "start_time": "2025-04-02T10:23:32.558Z"
   },
   {
    "duration": 0,
    "start_time": "2025-04-02T10:23:32.559Z"
   },
   {
    "duration": 0,
    "start_time": "2025-04-02T10:23:32.559Z"
   },
   {
    "duration": 0,
    "start_time": "2025-04-02T10:23:32.560Z"
   },
   {
    "duration": 0,
    "start_time": "2025-04-02T10:23:32.561Z"
   },
   {
    "duration": 0,
    "start_time": "2025-04-02T10:23:32.561Z"
   },
   {
    "duration": 0,
    "start_time": "2025-04-02T10:23:32.562Z"
   },
   {
    "duration": 0,
    "start_time": "2025-04-02T10:23:32.562Z"
   },
   {
    "duration": 0,
    "start_time": "2025-04-02T10:23:32.633Z"
   },
   {
    "duration": 0,
    "start_time": "2025-04-02T10:23:32.634Z"
   },
   {
    "duration": 0,
    "start_time": "2025-04-02T10:23:32.635Z"
   },
   {
    "duration": 0,
    "start_time": "2025-04-02T10:23:32.636Z"
   },
   {
    "duration": 0,
    "start_time": "2025-04-02T10:23:32.637Z"
   },
   {
    "duration": 0,
    "start_time": "2025-04-02T10:23:32.639Z"
   },
   {
    "duration": 0,
    "start_time": "2025-04-02T10:23:32.640Z"
   },
   {
    "duration": 0,
    "start_time": "2025-04-02T10:23:32.641Z"
   },
   {
    "duration": 0,
    "start_time": "2025-04-02T10:23:32.643Z"
   },
   {
    "duration": 0,
    "start_time": "2025-04-02T10:23:32.644Z"
   },
   {
    "duration": 0,
    "start_time": "2025-04-02T10:23:32.645Z"
   },
   {
    "duration": 0,
    "start_time": "2025-04-02T10:23:32.646Z"
   },
   {
    "duration": 0,
    "start_time": "2025-04-02T10:23:32.646Z"
   },
   {
    "duration": 0,
    "start_time": "2025-04-02T10:23:32.647Z"
   },
   {
    "duration": 0,
    "start_time": "2025-04-02T10:23:32.649Z"
   },
   {
    "duration": 0,
    "start_time": "2025-04-02T10:23:32.649Z"
   },
   {
    "duration": 0,
    "start_time": "2025-04-02T10:23:32.651Z"
   },
   {
    "duration": 0,
    "start_time": "2025-04-02T10:23:32.652Z"
   },
   {
    "duration": 0,
    "start_time": "2025-04-02T10:23:32.653Z"
   },
   {
    "duration": 0,
    "start_time": "2025-04-02T10:23:32.654Z"
   },
   {
    "duration": 0,
    "start_time": "2025-04-02T10:23:32.656Z"
   },
   {
    "duration": 0,
    "start_time": "2025-04-02T10:23:32.735Z"
   },
   {
    "duration": 0,
    "start_time": "2025-04-02T10:23:32.736Z"
   },
   {
    "duration": 823,
    "start_time": "2025-04-02T12:01:30.782Z"
   },
   {
    "duration": 29,
    "start_time": "2025-04-02T12:01:31.607Z"
   },
   {
    "duration": 14,
    "start_time": "2025-04-02T12:01:31.637Z"
   },
   {
    "duration": 11,
    "start_time": "2025-04-02T12:01:31.653Z"
   },
   {
    "duration": 6,
    "start_time": "2025-04-02T12:01:31.665Z"
   },
   {
    "duration": 2,
    "start_time": "2025-04-02T12:01:31.673Z"
   },
   {
    "duration": 5,
    "start_time": "2025-04-02T12:01:31.677Z"
   },
   {
    "duration": 3,
    "start_time": "2025-04-02T12:01:31.683Z"
   },
   {
    "duration": 4,
    "start_time": "2025-04-02T12:01:31.688Z"
   },
   {
    "duration": 6,
    "start_time": "2025-04-02T12:01:31.730Z"
   },
   {
    "duration": 9,
    "start_time": "2025-04-02T12:01:31.737Z"
   },
   {
    "duration": 4,
    "start_time": "2025-04-02T12:01:31.747Z"
   },
   {
    "duration": 14,
    "start_time": "2025-04-02T12:01:31.753Z"
   },
   {
    "duration": 5,
    "start_time": "2025-04-02T12:01:31.768Z"
   },
   {
    "duration": 3,
    "start_time": "2025-04-02T12:01:31.774Z"
   },
   {
    "duration": 4,
    "start_time": "2025-04-02T12:01:31.779Z"
   },
   {
    "duration": 4,
    "start_time": "2025-04-02T12:01:31.786Z"
   },
   {
    "duration": 4,
    "start_time": "2025-04-02T12:01:31.791Z"
   },
   {
    "duration": 38,
    "start_time": "2025-04-02T12:01:31.796Z"
   },
   {
    "duration": 7,
    "start_time": "2025-04-02T12:01:31.835Z"
   },
   {
    "duration": 10,
    "start_time": "2025-04-02T12:01:31.843Z"
   },
   {
    "duration": 6,
    "start_time": "2025-04-02T12:01:31.855Z"
   },
   {
    "duration": 5,
    "start_time": "2025-04-02T12:01:31.863Z"
   },
   {
    "duration": 6,
    "start_time": "2025-04-02T12:01:31.869Z"
   },
   {
    "duration": 7,
    "start_time": "2025-04-02T12:01:31.877Z"
   },
   {
    "duration": 47,
    "start_time": "2025-04-02T12:01:31.885Z"
   },
   {
    "duration": 6,
    "start_time": "2025-04-02T12:01:31.933Z"
   },
   {
    "duration": 6,
    "start_time": "2025-04-02T12:01:31.946Z"
   },
   {
    "duration": 11,
    "start_time": "2025-04-02T12:01:31.953Z"
   },
   {
    "duration": 199,
    "start_time": "2025-04-02T12:01:31.968Z"
   },
   {
    "duration": 172,
    "start_time": "2025-04-02T12:01:32.168Z"
   },
   {
    "duration": 10,
    "start_time": "2025-04-02T12:01:32.343Z"
   },
   {
    "duration": 8,
    "start_time": "2025-04-02T12:01:32.354Z"
   },
   {
    "duration": 4,
    "start_time": "2025-04-02T12:01:32.364Z"
   },
   {
    "duration": 17,
    "start_time": "2025-04-02T12:01:32.369Z"
   },
   {
    "duration": 6,
    "start_time": "2025-04-02T12:01:32.388Z"
   },
   {
    "duration": 364,
    "start_time": "2025-04-02T12:01:32.395Z"
   },
   {
    "duration": 265,
    "start_time": "2025-04-02T12:01:32.761Z"
   },
   {
    "duration": 107,
    "start_time": "2025-04-02T12:01:33.031Z"
   },
   {
    "duration": 111,
    "start_time": "2025-04-02T12:01:33.139Z"
   },
   {
    "duration": 4,
    "start_time": "2025-04-02T12:01:33.252Z"
   },
   {
    "duration": 4,
    "start_time": "2025-04-02T12:01:33.258Z"
   },
   {
    "duration": 3,
    "start_time": "2025-04-02T12:01:33.263Z"
   },
   {
    "duration": 17,
    "start_time": "2025-04-02T12:01:33.268Z"
   },
   {
    "duration": 12,
    "start_time": "2025-04-02T12:01:33.286Z"
   },
   {
    "duration": 226,
    "start_time": "2025-04-02T12:01:33.300Z"
   },
   {
    "duration": 8,
    "start_time": "2025-04-02T12:01:33.527Z"
   },
   {
    "duration": 3,
    "start_time": "2025-04-02T12:01:33.537Z"
   },
   {
    "duration": 6,
    "start_time": "2025-04-02T12:01:33.541Z"
   },
   {
    "duration": 9,
    "start_time": "2025-04-02T12:01:33.549Z"
   },
   {
    "duration": 8,
    "start_time": "2025-04-02T12:01:33.560Z"
   },
   {
    "duration": 8,
    "start_time": "2025-04-02T12:01:33.569Z"
   },
   {
    "duration": 53,
    "start_time": "2025-04-02T12:01:33.579Z"
   },
   {
    "duration": 8,
    "start_time": "2025-04-02T12:01:33.634Z"
   },
   {
    "duration": 8,
    "start_time": "2025-04-02T12:01:33.643Z"
   },
   {
    "duration": 8,
    "start_time": "2025-04-02T12:01:33.652Z"
   },
   {
    "duration": 9,
    "start_time": "2025-04-02T12:01:33.661Z"
   },
   {
    "duration": 8,
    "start_time": "2025-04-02T12:01:33.671Z"
   },
   {
    "duration": 6,
    "start_time": "2025-04-02T12:01:33.680Z"
   },
   {
    "duration": 6,
    "start_time": "2025-04-02T12:01:33.731Z"
   },
   {
    "duration": 2,
    "start_time": "2025-04-02T12:01:33.739Z"
   },
   {
    "duration": 4,
    "start_time": "2025-04-02T12:01:33.743Z"
   },
   {
    "duration": 3,
    "start_time": "2025-04-02T12:01:33.749Z"
   },
   {
    "duration": 8,
    "start_time": "2025-04-02T12:01:33.754Z"
   },
   {
    "duration": 6,
    "start_time": "2025-04-02T12:01:33.763Z"
   },
   {
    "duration": 2,
    "start_time": "2025-04-02T12:01:33.771Z"
   },
   {
    "duration": 5,
    "start_time": "2025-04-02T12:01:33.775Z"
   },
   {
    "duration": 50,
    "start_time": "2025-04-02T12:01:33.782Z"
   },
   {
    "duration": 193,
    "start_time": "2025-04-02T12:06:16.705Z"
   },
   {
    "duration": 3,
    "start_time": "2025-04-02T12:06:25.128Z"
   },
   {
    "duration": 626,
    "start_time": "2025-04-02T12:06:30.560Z"
   },
   {
    "duration": 538,
    "start_time": "2025-04-02T12:06:42.968Z"
   },
   {
    "duration": 178,
    "start_time": "2025-04-02T12:06:50.384Z"
   },
   {
    "duration": 557,
    "start_time": "2025-04-02T12:06:55.497Z"
   },
   {
    "duration": 533,
    "start_time": "2025-04-02T12:07:08.905Z"
   },
   {
    "duration": 232,
    "start_time": "2025-04-02T15:50:05.248Z"
   },
   {
    "duration": 3736,
    "start_time": "2025-04-02T15:50:15.300Z"
   },
   {
    "duration": 51,
    "start_time": "2025-04-02T15:50:19.038Z"
   },
   {
    "duration": 16,
    "start_time": "2025-04-02T15:50:19.090Z"
   },
   {
    "duration": 13,
    "start_time": "2025-04-02T15:50:19.108Z"
   },
   {
    "duration": 6,
    "start_time": "2025-04-02T15:50:19.124Z"
   },
   {
    "duration": 11,
    "start_time": "2025-04-02T15:50:19.132Z"
   },
   {
    "duration": 4,
    "start_time": "2025-04-02T15:50:19.144Z"
   },
   {
    "duration": 3,
    "start_time": "2025-04-02T15:50:19.150Z"
   },
   {
    "duration": 4,
    "start_time": "2025-04-02T15:50:19.155Z"
   },
   {
    "duration": 5,
    "start_time": "2025-04-02T15:50:19.163Z"
   },
   {
    "duration": 10,
    "start_time": "2025-04-02T15:50:19.169Z"
   },
   {
    "duration": 5,
    "start_time": "2025-04-02T15:50:19.180Z"
   },
   {
    "duration": 5,
    "start_time": "2025-04-02T15:50:19.186Z"
   },
   {
    "duration": 8,
    "start_time": "2025-04-02T15:50:19.192Z"
   },
   {
    "duration": 41,
    "start_time": "2025-04-02T15:50:19.203Z"
   },
   {
    "duration": 4,
    "start_time": "2025-04-02T15:50:19.246Z"
   },
   {
    "duration": 5,
    "start_time": "2025-04-02T15:50:19.252Z"
   },
   {
    "duration": 4,
    "start_time": "2025-04-02T15:50:19.260Z"
   },
   {
    "duration": 6,
    "start_time": "2025-04-02T15:50:19.267Z"
   },
   {
    "duration": 7,
    "start_time": "2025-04-02T15:50:19.275Z"
   },
   {
    "duration": 13,
    "start_time": "2025-04-02T15:50:19.284Z"
   },
   {
    "duration": 6,
    "start_time": "2025-04-02T15:50:19.299Z"
   },
   {
    "duration": 201,
    "start_time": "2025-04-02T15:50:19.307Z"
   },
   {
    "duration": 10,
    "start_time": "2025-04-02T15:50:19.512Z"
   },
   {
    "duration": 8,
    "start_time": "2025-04-02T15:50:19.524Z"
   },
   {
    "duration": 16,
    "start_time": "2025-04-02T15:50:19.533Z"
   },
   {
    "duration": 7,
    "start_time": "2025-04-02T15:50:19.550Z"
   },
   {
    "duration": 7,
    "start_time": "2025-04-02T15:50:19.563Z"
   },
   {
    "duration": 6,
    "start_time": "2025-04-02T15:50:19.571Z"
   },
   {
    "duration": 255,
    "start_time": "2025-04-02T15:50:19.578Z"
   },
   {
    "duration": 224,
    "start_time": "2025-04-02T15:50:19.836Z"
   },
   {
    "duration": 14,
    "start_time": "2025-04-02T15:50:20.062Z"
   },
   {
    "duration": 9,
    "start_time": "2025-04-02T15:50:20.077Z"
   },
   {
    "duration": 4,
    "start_time": "2025-04-02T15:50:20.088Z"
   },
   {
    "duration": 22,
    "start_time": "2025-04-02T15:50:20.093Z"
   },
   {
    "duration": 34,
    "start_time": "2025-04-02T15:50:20.117Z"
   },
   {
    "duration": 343,
    "start_time": "2025-04-02T15:50:20.152Z"
   },
   {
    "duration": 325,
    "start_time": "2025-04-02T15:50:20.497Z"
   },
   {
    "duration": 132,
    "start_time": "2025-04-02T15:50:20.824Z"
   },
   {
    "duration": 125,
    "start_time": "2025-04-02T15:50:20.958Z"
   },
   {
    "duration": 4,
    "start_time": "2025-04-02T15:50:21.085Z"
   },
   {
    "duration": 5,
    "start_time": "2025-04-02T15:50:21.091Z"
   },
   {
    "duration": 3,
    "start_time": "2025-04-02T15:50:21.097Z"
   },
   {
    "duration": 42,
    "start_time": "2025-04-02T15:50:21.102Z"
   },
   {
    "duration": 13,
    "start_time": "2025-04-02T15:50:21.146Z"
   },
   {
    "duration": 246,
    "start_time": "2025-04-02T15:50:21.160Z"
   },
   {
    "duration": 6,
    "start_time": "2025-04-02T15:50:21.408Z"
   },
   {
    "duration": 3,
    "start_time": "2025-04-02T15:50:21.417Z"
   },
   {
    "duration": 20,
    "start_time": "2025-04-02T15:50:21.422Z"
   },
   {
    "duration": 13,
    "start_time": "2025-04-02T15:50:21.444Z"
   },
   {
    "duration": 11,
    "start_time": "2025-04-02T15:50:21.459Z"
   },
   {
    "duration": 11,
    "start_time": "2025-04-02T15:50:21.474Z"
   },
   {
    "duration": 10,
    "start_time": "2025-04-02T15:50:21.489Z"
   },
   {
    "duration": 10,
    "start_time": "2025-04-02T15:50:21.503Z"
   },
   {
    "duration": 11,
    "start_time": "2025-04-02T15:50:21.518Z"
   },
   {
    "duration": 14,
    "start_time": "2025-04-02T15:50:21.533Z"
   },
   {
    "duration": 11,
    "start_time": "2025-04-02T15:50:21.550Z"
   },
   {
    "duration": 11,
    "start_time": "2025-04-02T15:50:21.566Z"
   },
   {
    "duration": 7,
    "start_time": "2025-04-02T15:50:21.582Z"
   },
   {
    "duration": 6,
    "start_time": "2025-04-02T15:50:21.591Z"
   },
   {
    "duration": 2,
    "start_time": "2025-04-02T15:50:21.599Z"
   },
   {
    "duration": 4,
    "start_time": "2025-04-02T15:50:21.603Z"
   },
   {
    "duration": 3,
    "start_time": "2025-04-02T15:50:21.609Z"
   },
   {
    "duration": 29,
    "start_time": "2025-04-02T15:50:21.614Z"
   },
   {
    "duration": 7,
    "start_time": "2025-04-02T15:50:21.645Z"
   },
   {
    "duration": 2,
    "start_time": "2025-04-02T15:50:21.654Z"
   },
   {
    "duration": 6,
    "start_time": "2025-04-02T15:50:21.657Z"
   },
   {
    "duration": 5,
    "start_time": "2025-04-02T15:50:21.667Z"
   },
   {
    "duration": 8,
    "start_time": "2025-04-02T15:50:45.896Z"
   },
   {
    "duration": 4,
    "start_time": "2025-04-02T15:51:00.515Z"
   },
   {
    "duration": 145,
    "start_time": "2025-04-02T15:51:05.034Z"
   },
   {
    "duration": 778,
    "start_time": "2025-04-02T15:51:44.220Z"
   },
   {
    "duration": 6,
    "start_time": "2025-04-02T15:52:02.700Z"
   },
   {
    "duration": 16,
    "start_time": "2025-04-02T15:52:08.763Z"
   },
   {
    "duration": 160,
    "start_time": "2025-04-02T15:52:13.258Z"
   },
   {
    "duration": 152,
    "start_time": "2025-04-02T15:52:47.792Z"
   },
   {
    "duration": 152,
    "start_time": "2025-04-02T15:57:25.063Z"
   },
   {
    "duration": 1090,
    "start_time": "2025-04-02T15:57:59.110Z"
   },
   {
    "duration": 115,
    "start_time": "2025-04-02T15:58:22.684Z"
   },
   {
    "duration": 122,
    "start_time": "2025-04-02T15:58:55.243Z"
   },
   {
    "duration": 121,
    "start_time": "2025-04-02T16:01:52.886Z"
   },
   {
    "duration": 148,
    "start_time": "2025-04-02T16:02:28.484Z"
   },
   {
    "duration": 12,
    "start_time": "2025-04-02T16:02:58.491Z"
   },
   {
    "duration": 255,
    "start_time": "2025-04-02T16:03:01.975Z"
   },
   {
    "duration": 210,
    "start_time": "2025-04-02T16:05:36.328Z"
   },
   {
    "duration": 215,
    "start_time": "2025-04-02T16:06:07.642Z"
   },
   {
    "duration": 138,
    "start_time": "2025-04-02T16:20:52.077Z"
   },
   {
    "duration": 150,
    "start_time": "2025-04-02T16:23:17.350Z"
   },
   {
    "duration": 9,
    "start_time": "2025-04-02T16:24:07.539Z"
   },
   {
    "duration": 266,
    "start_time": "2025-04-02T16:24:19.654Z"
   },
   {
    "duration": 9,
    "start_time": "2025-04-02T16:25:46.353Z"
   },
   {
    "duration": 6,
    "start_time": "2025-04-02T16:26:15.151Z"
   },
   {
    "duration": 11,
    "start_time": "2025-04-02T16:26:19.347Z"
   },
   {
    "duration": 152,
    "start_time": "2025-04-02T16:29:35.115Z"
   },
   {
    "duration": 116,
    "start_time": "2025-04-02T16:30:02.678Z"
   },
   {
    "duration": 115,
    "start_time": "2025-04-02T16:30:15.399Z"
   },
   {
    "duration": 115,
    "start_time": "2025-04-02T16:30:34.893Z"
   },
   {
    "duration": 116,
    "start_time": "2025-04-02T16:35:26.238Z"
   },
   {
    "duration": 115,
    "start_time": "2025-04-02T16:38:30.688Z"
   },
   {
    "duration": 666,
    "start_time": "2025-04-02T16:47:12.199Z"
   },
   {
    "duration": 238,
    "start_time": "2025-04-02T16:47:19.332Z"
   },
   {
    "duration": 278,
    "start_time": "2025-04-02T16:47:25.899Z"
   },
   {
    "duration": 57,
    "start_time": "2025-04-02T16:47:31.068Z"
   },
   {
    "duration": 220,
    "start_time": "2025-04-02T16:47:42.825Z"
   },
   {
    "duration": 183,
    "start_time": "2025-04-02T16:47:51.255Z"
   },
   {
    "duration": 236,
    "start_time": "2025-04-02T16:47:57.101Z"
   },
   {
    "duration": 950,
    "start_time": "2025-04-02T16:49:50.507Z"
   },
   {
    "duration": 235,
    "start_time": "2025-04-02T16:50:23.507Z"
   },
   {
    "duration": 902,
    "start_time": "2025-04-02T16:50:27.404Z"
   },
   {
    "duration": 120,
    "start_time": "2025-04-02T16:51:49.522Z"
   },
   {
    "duration": 245,
    "start_time": "2025-04-02T16:52:00.146Z"
   },
   {
    "duration": 138,
    "start_time": "2025-04-02T16:52:03.292Z"
   },
   {
    "duration": 709,
    "start_time": "2025-04-02T16:52:25.029Z"
   },
   {
    "duration": 146,
    "start_time": "2025-04-02T16:52:57.471Z"
   },
   {
    "duration": 190,
    "start_time": "2025-04-02T16:53:09.231Z"
   },
   {
    "duration": 794,
    "start_time": "2025-04-02T16:53:13.252Z"
   },
   {
    "duration": 555,
    "start_time": "2025-04-02T16:53:51.174Z"
   },
   {
    "duration": 28,
    "start_time": "2025-04-02T17:15:28.424Z"
   },
   {
    "duration": 7,
    "start_time": "2025-04-02T17:17:16.790Z"
   },
   {
    "duration": 382,
    "start_time": "2025-04-02T17:17:51.491Z"
   },
   {
    "duration": 179,
    "start_time": "2025-04-02T17:19:20.329Z"
   },
   {
    "duration": 112,
    "start_time": "2025-04-02T17:20:47.785Z"
   },
   {
    "duration": 99,
    "start_time": "2025-04-02T17:20:51.079Z"
   },
   {
    "duration": 5,
    "start_time": "2025-04-02T17:20:55.045Z"
   },
   {
    "duration": 5,
    "start_time": "2025-04-02T17:20:58.972Z"
   },
   {
    "duration": 3,
    "start_time": "2025-04-02T17:21:45.291Z"
   },
   {
    "duration": 16,
    "start_time": "2025-04-02T17:21:47.208Z"
   },
   {
    "duration": 12,
    "start_time": "2025-04-02T17:22:29.274Z"
   },
   {
    "duration": 12,
    "start_time": "2025-04-02T17:23:38.156Z"
   },
   {
    "duration": 13,
    "start_time": "2025-04-02T17:23:48.039Z"
   },
   {
    "duration": 17,
    "start_time": "2025-04-02T17:23:52.584Z"
   },
   {
    "duration": 150,
    "start_time": "2025-04-02T17:24:01.108Z"
   },
   {
    "duration": 13,
    "start_time": "2025-04-02T17:24:32.366Z"
   },
   {
    "duration": 219,
    "start_time": "2025-04-02T17:24:41.095Z"
   },
   {
    "duration": 265,
    "start_time": "2025-04-02T17:26:49.290Z"
   },
   {
    "duration": 239,
    "start_time": "2025-04-02T17:26:55.962Z"
   },
   {
    "duration": 261,
    "start_time": "2025-04-02T17:27:01.856Z"
   },
   {
    "duration": 249,
    "start_time": "2025-04-02T17:27:07.746Z"
   },
   {
    "duration": 237,
    "start_time": "2025-04-02T17:27:16.084Z"
   },
   {
    "duration": 293,
    "start_time": "2025-04-02T17:29:45.337Z"
   },
   {
    "duration": 252,
    "start_time": "2025-04-02T17:30:09.528Z"
   },
   {
    "duration": 241,
    "start_time": "2025-04-02T17:30:21.361Z"
   },
   {
    "duration": 243,
    "start_time": "2025-04-02T17:30:25.466Z"
   },
   {
    "duration": 243,
    "start_time": "2025-04-02T17:30:29.411Z"
   },
   {
    "duration": 3,
    "start_time": "2025-04-02T17:35:53.060Z"
   },
   {
    "duration": 97,
    "start_time": "2025-04-02T17:36:17.214Z"
   },
   {
    "duration": 150,
    "start_time": "2025-04-02T17:36:30.435Z"
   },
   {
    "duration": 6,
    "start_time": "2025-04-02T17:36:58.190Z"
   },
   {
    "duration": 122,
    "start_time": "2025-04-02T17:54:33.719Z"
   },
   {
    "duration": 4,
    "start_time": "2025-04-02T17:54:43.104Z"
   },
   {
    "duration": 5,
    "start_time": "2025-04-02T17:54:47.000Z"
   },
   {
    "duration": 4,
    "start_time": "2025-04-02T17:58:51.492Z"
   },
   {
    "duration": 8,
    "start_time": "2025-04-02T18:01:57.670Z"
   },
   {
    "duration": 8,
    "start_time": "2025-04-02T18:02:07.277Z"
   },
   {
    "duration": 8,
    "start_time": "2025-04-02T18:02:12.775Z"
   },
   {
    "duration": 8,
    "start_time": "2025-04-02T18:02:24.747Z"
   },
   {
    "duration": 8,
    "start_time": "2025-04-02T18:02:42.610Z"
   },
   {
    "duration": 8,
    "start_time": "2025-04-02T18:03:01.845Z"
   },
   {
    "duration": 10,
    "start_time": "2025-04-02T18:27:27.090Z"
   },
   {
    "duration": 11,
    "start_time": "2025-04-02T18:27:30.693Z"
   },
   {
    "duration": 10,
    "start_time": "2025-04-02T18:27:33.884Z"
   },
   {
    "duration": 9,
    "start_time": "2025-04-02T18:29:07.620Z"
   },
   {
    "duration": 11,
    "start_time": "2025-04-02T18:29:09.878Z"
   },
   {
    "duration": 9,
    "start_time": "2025-04-02T18:29:14.162Z"
   }
  ],
  "kernelspec": {
   "display_name": "Python [conda env:base] *",
   "language": "python",
   "name": "conda-base-py"
  },
  "language_info": {
   "codemirror_mode": {
    "name": "ipython",
    "version": 3
   },
   "file_extension": ".py",
   "mimetype": "text/x-python",
   "name": "python",
   "nbconvert_exporter": "python",
   "pygments_lexer": "ipython3",
   "version": "3.12.7"
  },
  "toc": {
   "base_numbering": 1,
   "nav_menu": {},
   "number_sections": true,
   "sideBar": true,
   "skip_h1_title": true,
   "title_cell": "Table of Contents",
   "title_sidebar": "Contents",
   "toc_cell": false,
   "toc_position": {},
   "toc_section_display": true,
   "toc_window_display": false
  }
 },
 "nbformat": 4,
 "nbformat_minor": 5
}
